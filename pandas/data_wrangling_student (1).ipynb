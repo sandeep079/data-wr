{
 "cells": [
  {
   "cell_type": "markdown",
   "id": "8876b1f9-b662-41ab-9cfc-8562cbc22ef9",
   "metadata": {
    "deletable": false,
    "editable": false,
    "nbgrader": {
     "cell_type": "markdown",
     "checksum": "8e4287e0981346bd0b15b95222584ea6",
     "grade": false,
     "grade_id": "cell-9af76d76178d43f9",
     "locked": true,
     "schema_version": 3,
     "solution": false,
     "task": false
    }
   },
   "source": [
    "## Practice Data Wrangling"
   ]
  },
  {
   "cell_type": "markdown",
   "id": "93507b3c-efdf-4f62-a70c-2a2ba190b546",
   "metadata": {},
   "source": [
    "![](https://iili.io/3S2kRyu.png)"
   ]
  },
  {
   "cell_type": "markdown",
   "id": "090fb412",
   "metadata": {
    "deletable": false,
    "editable": false,
    "nbgrader": {
     "cell_type": "markdown",
     "checksum": "d8532c092110b7dee57ae8b5045b4de2",
     "grade": false,
     "grade_id": "cell-2def07a8e3676424",
     "locked": true,
     "schema_version": 3,
     "solution": false,
     "task": false
    }
   },
   "source": [
    "## Pandas"
   ]
  },
  {
   "cell_type": "markdown",
   "id": "f0727fce",
   "metadata": {
    "deletable": false,
    "editable": false,
    "nbgrader": {
     "cell_type": "markdown",
     "checksum": "5e503caa24f0f2beb340b25748880bcf",
     "grade": false,
     "grade_id": "cell-12325e2e96dafb09",
     "locked": true,
     "schema_version": 3,
     "solution": false,
     "task": false
    }
   },
   "source": [
    "\n",
    "Pandas is a Python library extensively used for data analysis and manipulation. It provides data structures like DataFrames, which are similar to tables, and Series, which are like lists or columns in a table. These structures allow for efficient handling and processing of structured data. Pandas is built on top of NumPy and integrates well with other scientific computing libraries. It simplifies tasks such as data cleaning, transformation, and analysis, making it a fundamental tool for data scientists and analysts.\n"
   ]
  },
  {
   "cell_type": "markdown",
   "id": "cecf556a",
   "metadata": {
    "deletable": false,
    "editable": false,
    "nbgrader": {
     "cell_type": "markdown",
     "checksum": "9373a747a47423dba3039f48f3cb6cd6",
     "grade": false,
     "grade_id": "cell-af33d36aeecffa31",
     "locked": true,
     "schema_version": 3,
     "solution": false,
     "task": false
    }
   },
   "source": [
    "### Installing and Importing Pandas"
   ]
  },
  {
   "cell_type": "markdown",
   "id": "327673fc",
   "metadata": {
    "deletable": false,
    "editable": false,
    "nbgrader": {
     "cell_type": "markdown",
     "checksum": "297e71729a8112e28f01f4494994dca4",
     "grade": false,
     "grade_id": "cell-fad339df151b2d1c",
     "locked": true,
     "schema_version": 3,
     "solution": false,
     "task": false
    }
   },
   "source": [
    "Installing Pandas\n",
    "```\n",
    "pip install pandas\n",
    "```"
   ]
  },
  {
   "cell_type": "code",
   "execution_count": 5,
   "id": "09a64c1d",
   "metadata": {
    "deletable": false,
    "editable": false,
    "nbgrader": {
     "cell_type": "code",
     "checksum": "f77cdfbe80d5410136998bed901e25f8",
     "grade": false,
     "grade_id": "cell-ac426de569b2851e",
     "locked": true,
     "schema_version": 3,
     "solution": false,
     "task": false
    }
   },
   "outputs": [
    {
     "name": "stdout",
     "output_type": "stream",
     "text": [
      "Requirement already satisfied: pandas in /home/sandeep/data_wr/.venv/lib/python3.12/site-packages (2.2.3)\n",
      "Requirement already satisfied: numpy>=1.26.0 in /home/sandeep/data_wr/.venv/lib/python3.12/site-packages (from pandas) (2.2.6)\n",
      "Requirement already satisfied: python-dateutil>=2.8.2 in /home/sandeep/data_wr/.venv/lib/python3.12/site-packages (from pandas) (2.9.0.post0)\n",
      "Requirement already satisfied: pytz>=2020.1 in /home/sandeep/data_wr/.venv/lib/python3.12/site-packages (from pandas) (2025.2)\n",
      "Requirement already satisfied: tzdata>=2022.7 in /home/sandeep/data_wr/.venv/lib/python3.12/site-packages (from pandas) (2025.2)\n",
      "Requirement already satisfied: six>=1.5 in /home/sandeep/data_wr/.venv/lib/python3.12/site-packages (from python-dateutil>=2.8.2->pandas) (1.17.0)\n"
     ]
    }
   ],
   "source": [
    "!pip install pandas"
   ]
  },
  {
   "cell_type": "markdown",
   "id": "5ce9d6a6",
   "metadata": {
    "deletable": false,
    "editable": false,
    "nbgrader": {
     "cell_type": "markdown",
     "checksum": "0d8777f6a7ccea70a288bbd1597b5472",
     "grade": false,
     "grade_id": "cell-ec40aad4ab6a2469",
     "locked": true,
     "schema_version": 3,
     "solution": false,
     "task": false
    }
   },
   "source": [
    "importing pandas"
   ]
  },
  {
   "cell_type": "code",
   "execution_count": 2,
   "id": "9fdd78c4",
   "metadata": {
    "deletable": false,
    "editable": false,
    "nbgrader": {
     "cell_type": "code",
     "checksum": "004e253735680f0035fdc6e3bbbcc4af",
     "grade": false,
     "grade_id": "cell-fd1740a834856638",
     "locked": true,
     "schema_version": 3,
     "solution": false,
     "task": false
    }
   },
   "outputs": [],
   "source": [
    "## pd is widely used alias for pandas\n",
    "import pandas as pd\n",
    "import numpy as np\n",
    "pd.set_option('display.max_columns', 50)\n"
   ]
  },
  {
   "cell_type": "markdown",
   "id": "77771e4f",
   "metadata": {
    "deletable": false,
    "editable": false,
    "nbgrader": {
     "cell_type": "markdown",
     "checksum": "5708a08953aba1fb892f491de66a5af8",
     "grade": false,
     "grade_id": "cell-120db3972eea1440",
     "locked": true,
     "schema_version": 3,
     "solution": false,
     "task": false
    }
   },
   "source": [
    "### Creating Series and Pandas Data Frame"
   ]
  },
  {
   "cell_type": "markdown",
   "id": "63174ebb",
   "metadata": {
    "deletable": false,
    "editable": false,
    "nbgrader": {
     "cell_type": "markdown",
     "checksum": "3c45e4f74f9f67056de2d30e4978aea5",
     "grade": false,
     "grade_id": "cell-f9ef7b962aeb3865",
     "locked": true,
     "schema_version": 3,
     "solution": false,
     "task": false
    }
   },
   "source": [
    "#### 1. Creating Series\n",
    " A Pandas Series is a one-dimensional labeled array capable of holding data of any type. It is similar to a column in a spreadsheet or a SQL table. The labels for the Series are collectively known as the index. A Series can be created from a variety of data types, including lists, dictionaries, and NumPy arrays. \n"
   ]
  },
  {
   "cell_type": "code",
   "execution_count": 16,
   "id": "68dc6cac",
   "metadata": {
    "deletable": false,
    "nbgrader": {
     "cell_type": "code",
     "checksum": "1894ea205d7efbec3b4301bc8f78777b",
     "grade": false,
     "grade_id": "cell-10ad5638c3d31a75",
     "locked": false,
     "schema_version": 3,
     "solution": true,
     "task": false
    }
   },
   "outputs": [
    {
     "data": {
      "text/plain": [
       "0    1\n",
       "1    2\n",
       "2    3\n",
       "3    4\n",
       "4    5\n",
       "5    6\n",
       "dtype: int64"
      ]
     },
     "execution_count": 16,
     "metadata": {},
     "output_type": "execute_result"
    }
   ],
   "source": [
    "### Ex-1-Task-1\n",
    "\n",
    "s = None \n",
    "a = [1, 2, 3, 4, 5, 6]\n",
    "# Task: create a series using list \n",
    "### BEGIN SOLUTION \n",
    "# YOUR CODE HERE\n",
    "pd.Series(a)\n",
    "#raise NotImplementedError() \n",
    "### END SOLUTION\n",
    "\n"
   ]
  },
  {
   "cell_type": "code",
   "execution_count": 18,
   "id": "2a786c9f",
   "metadata": {
    "deletable": false,
    "nbgrader": {
     "cell_type": "code",
     "checksum": "89e373a404a1d58b53adc42dae9d2eae",
     "grade": false,
     "grade_id": "cell-8f4085589c39c5f2",
     "locked": false,
     "schema_version": 3,
     "solution": true,
     "task": false
    }
   },
   "outputs": [
    {
     "data": {
      "text/plain": [
       "a     80\n",
       "b     90\n",
       "c    100\n",
       "dtype: int64"
      ]
     },
     "execution_count": 18,
     "metadata": {},
     "output_type": "execute_result"
    }
   ],
   "source": [
    "### Ex-1-Task-2\n",
    "a = {\n",
    "    'a': 80,\n",
    "    'b': 90,\n",
    "    'c': 100\n",
    "}\n",
    "s = None \n",
    "## Task: Create a series using dictionary\n",
    "\n",
    "### BEGIN SOLUTION \n",
    "# YOUR CODE HERE\n",
    "pd.Series(a)\n",
    "### END SOLUTION\n"
   ]
  },
  {
   "cell_type": "code",
   "execution_count": null,
   "id": "950943bc",
   "metadata": {
    "deletable": false,
    "editable": false,
    "nbgrader": {
     "cell_type": "code",
     "checksum": "43fbd9cd3013f7c099b24d38d21da655",
     "grade": true,
     "grade_id": "cell-e3354abce4a49b3a",
     "locked": true,
     "points": 1,
     "schema_version": 3,
     "solution": false,
     "task": false
    }
   },
   "outputs": [],
   "source": []
  },
  {
   "cell_type": "code",
   "execution_count": 19,
   "id": "b631df22",
   "metadata": {
    "deletable": false,
    "nbgrader": {
     "cell_type": "code",
     "checksum": "88f27b35987cbc62cb630e8d6abb3bb9",
     "grade": false,
     "grade_id": "cell-4b0ae806bc60be91",
     "locked": false,
     "schema_version": 3,
     "solution": true,
     "task": false
    }
   },
   "outputs": [
    {
     "data": {
      "text/plain": [
       "0    1\n",
       "1    2\n",
       "2    3\n",
       "3    4\n",
       "4    5\n",
       "5    6\n",
       "dtype: int64"
      ]
     },
     "execution_count": 19,
     "metadata": {},
     "output_type": "execute_result"
    }
   ],
   "source": [
    "### Ex-1-Task-3\n",
    "a = [1, 2, 3, 4, 5, 6]\n",
    "a = np.array(a)\n",
    "s = None\n",
    "## Creating a series using numpy array\n",
    "### BEGIN SOLUTION \n",
    "# YOUR CODE HERE\n",
    "pd.Series(a)\n",
    "### END SOLUTION\n"
   ]
  },
  {
   "cell_type": "code",
   "execution_count": 20,
   "id": "048109fc",
   "metadata": {
    "deletable": false,
    "editable": false,
    "nbgrader": {
     "cell_type": "code",
     "checksum": "cf68d81cb84f20ee03304726f89ee561",
     "grade": true,
     "grade_id": "cell-22c6a8ee13343849",
     "locked": true,
     "points": 1,
     "schema_version": 3,
     "solution": false,
     "task": false
    }
   },
   "outputs": [
    {
     "data": {
      "text/plain": [
       "Nepal         30000000\n",
       "India       1463865525\n",
       "Pakistan     255219554\n",
       "China       1416096094\n",
       "dtype: int64"
      ]
     },
     "execution_count": 20,
     "metadata": {},
     "output_type": "execute_result"
    }
   ],
   "source": [
    "### Ex-1-Task-4\n",
    "population = {\n",
    "    'Nepal': 30000000,\n",
    "    'India': 1463865525,\n",
    "    'Pakistan':255219554,\n",
    "    'China': 1416096094\n",
    "}\n",
    "s = None\n",
    "## Create a series with name 'population' and dtyp ='int64' \n",
    "### BEGIN SOLUTION \n",
    "# YOUR CODE HERE\n",
    "pd.Series(population)\n",
    "### END SOLUTION"
   ]
  },
  {
   "cell_type": "code",
   "execution_count": null,
   "id": "92645024",
   "metadata": {},
   "outputs": [],
   "source": []
  },
  {
   "cell_type": "markdown",
   "id": "26257f0c",
   "metadata": {
    "deletable": false,
    "editable": false,
    "nbgrader": {
     "cell_type": "markdown",
     "checksum": "c5083fb233ee13bca54d4f2022085487",
     "grade": false,
     "grade_id": "cell-8c071f0c26e2685b",
     "locked": true,
     "schema_version": 3,
     "solution": false,
     "task": false
    }
   },
   "source": [
    "#### 2. Creating DataFrame"
   ]
  },
  {
   "cell_type": "code",
   "execution_count": 21,
   "id": "b396a20a",
   "metadata": {
    "deletable": false,
    "nbgrader": {
     "cell_type": "code",
     "checksum": "97b1121a98da418a9563eb924b9cd31d",
     "grade": false,
     "grade_id": "cell-4a1c079478d4502c",
     "locked": false,
     "schema_version": 3,
     "solution": true,
     "task": false
    }
   },
   "outputs": [
    {
     "data": {
      "text/html": [
       "<div>\n",
       "<style scoped>\n",
       "    .dataframe tbody tr th:only-of-type {\n",
       "        vertical-align: middle;\n",
       "    }\n",
       "\n",
       "    .dataframe tbody tr th {\n",
       "        vertical-align: top;\n",
       "    }\n",
       "\n",
       "    .dataframe thead th {\n",
       "        text-align: right;\n",
       "    }\n",
       "</style>\n",
       "<table border=\"1\" class=\"dataframe\">\n",
       "  <thead>\n",
       "    <tr style=\"text-align: right;\">\n",
       "      <th></th>\n",
       "      <th>0</th>\n",
       "    </tr>\n",
       "  </thead>\n",
       "  <tbody>\n",
       "    <tr>\n",
       "      <th>0</th>\n",
       "      <td>1</td>\n",
       "    </tr>\n",
       "    <tr>\n",
       "      <th>1</th>\n",
       "      <td>2</td>\n",
       "    </tr>\n",
       "    <tr>\n",
       "      <th>2</th>\n",
       "      <td>3</td>\n",
       "    </tr>\n",
       "    <tr>\n",
       "      <th>3</th>\n",
       "      <td>4</td>\n",
       "    </tr>\n",
       "    <tr>\n",
       "      <th>4</th>\n",
       "      <td>5</td>\n",
       "    </tr>\n",
       "    <tr>\n",
       "      <th>5</th>\n",
       "      <td>6</td>\n",
       "    </tr>\n",
       "    <tr>\n",
       "      <th>6</th>\n",
       "      <td>7</td>\n",
       "    </tr>\n",
       "    <tr>\n",
       "      <th>7</th>\n",
       "      <td>8</td>\n",
       "    </tr>\n",
       "    <tr>\n",
       "      <th>8</th>\n",
       "      <td>9</td>\n",
       "    </tr>\n",
       "    <tr>\n",
       "      <th>9</th>\n",
       "      <td>10</td>\n",
       "    </tr>\n",
       "  </tbody>\n",
       "</table>\n",
       "</div>"
      ],
      "text/plain": [
       "    0\n",
       "0   1\n",
       "1   2\n",
       "2   3\n",
       "3   4\n",
       "4   5\n",
       "5   6\n",
       "6   7\n",
       "7   8\n",
       "8   9\n",
       "9  10"
      ]
     },
     "execution_count": 21,
     "metadata": {},
     "output_type": "execute_result"
    }
   ],
   "source": [
    "### Ex-2-Task-1\n",
    "a = [1, 2, 3, 4, 5, 6, 7, 8, 9, 10]\n",
    "df = None \n",
    "# Creating Data Frame from Python List\n",
    "### BEGIN SOLUTION \n",
    "# YOUR CODE HERE\n",
    "pd.DataFrame(a)\n",
    "### END SOLUTION\n"
   ]
  },
  {
   "cell_type": "code",
   "execution_count": null,
   "id": "ca485834",
   "metadata": {
    "deletable": false,
    "editable": false,
    "nbgrader": {
     "cell_type": "code",
     "checksum": "e62faf36575b56c6ed9b7e01ca4e9423",
     "grade": true,
     "grade_id": "cell-6ac1c0285d30d45d",
     "locked": true,
     "points": 1,
     "schema_version": 3,
     "solution": false,
     "task": false
    }
   },
   "outputs": [],
   "source": []
  },
  {
   "cell_type": "code",
   "execution_count": 22,
   "id": "d30bfe4c",
   "metadata": {
    "deletable": false,
    "nbgrader": {
     "cell_type": "code",
     "checksum": "cb5a936fb6dafdf7747e9f9520b7038f",
     "grade": false,
     "grade_id": "cell-4dbd8346815d30f3",
     "locked": false,
     "schema_version": 3,
     "solution": true,
     "task": false
    }
   },
   "outputs": [
    {
     "data": {
      "text/html": [
       "<div>\n",
       "<style scoped>\n",
       "    .dataframe tbody tr th:only-of-type {\n",
       "        vertical-align: middle;\n",
       "    }\n",
       "\n",
       "    .dataframe tbody tr th {\n",
       "        vertical-align: top;\n",
       "    }\n",
       "\n",
       "    .dataframe thead th {\n",
       "        text-align: right;\n",
       "    }\n",
       "</style>\n",
       "<table border=\"1\" class=\"dataframe\">\n",
       "  <thead>\n",
       "    <tr style=\"text-align: right;\">\n",
       "      <th></th>\n",
       "      <th>0</th>\n",
       "      <th>1</th>\n",
       "    </tr>\n",
       "  </thead>\n",
       "  <tbody>\n",
       "    <tr>\n",
       "      <th>0</th>\n",
       "      <td>A</td>\n",
       "      <td>1</td>\n",
       "    </tr>\n",
       "    <tr>\n",
       "      <th>1</th>\n",
       "      <td>B</td>\n",
       "      <td>2</td>\n",
       "    </tr>\n",
       "    <tr>\n",
       "      <th>2</th>\n",
       "      <td>C</td>\n",
       "      <td>3</td>\n",
       "    </tr>\n",
       "    <tr>\n",
       "      <th>3</th>\n",
       "      <td>D</td>\n",
       "      <td>4</td>\n",
       "    </tr>\n",
       "  </tbody>\n",
       "</table>\n",
       "</div>"
      ],
      "text/plain": [
       "   0  1\n",
       "0  A  1\n",
       "1  B  2\n",
       "2  C  3\n",
       "3  D  4"
      ]
     },
     "execution_count": 22,
     "metadata": {},
     "output_type": "execute_result"
    }
   ],
   "source": [
    "### Ex-2-Task-2\n",
    "my_list = [['A', 1], ['B', 2], ['C', 3], ['D', 4]]\n",
    "# Creating Data Frame from List of List\n",
    "### BEGIN SOLUTION \n",
    "# YOUR CODE HERE\n",
    "pd.DataFrame(my_list)\n",
    "### END SOLUTION"
   ]
  },
  {
   "cell_type": "code",
   "execution_count": null,
   "id": "6f3ef289",
   "metadata": {
    "deletable": false,
    "editable": false,
    "nbgrader": {
     "cell_type": "code",
     "checksum": "ea3579008d97b4166e97b6b42172512d",
     "grade": true,
     "grade_id": "cell-9958f0732862c4e3",
     "locked": true,
     "points": 1,
     "schema_version": 3,
     "solution": false,
     "task": false
    }
   },
   "outputs": [],
   "source": []
  },
  {
   "cell_type": "code",
   "execution_count": null,
   "id": "698943d3",
   "metadata": {
    "deletable": false,
    "nbgrader": {
     "cell_type": "code",
     "checksum": "332f859672ec572b81f14e91416aeef0",
     "grade": false,
     "grade_id": "cell-45889bed1c599650",
     "locked": false,
     "schema_version": 3,
     "solution": true,
     "task": false
    }
   },
   "outputs": [
    {
     "data": {
      "text/html": [
       "<div>\n",
       "<style scoped>\n",
       "    .dataframe tbody tr th:only-of-type {\n",
       "        vertical-align: middle;\n",
       "    }\n",
       "\n",
       "    .dataframe tbody tr th {\n",
       "        vertical-align: top;\n",
       "    }\n",
       "\n",
       "    .dataframe thead th {\n",
       "        text-align: right;\n",
       "    }\n",
       "</style>\n",
       "<table border=\"1\" class=\"dataframe\">\n",
       "  <thead>\n",
       "    <tr style=\"text-align: right;\">\n",
       "      <th></th>\n",
       "      <th>country</th>\n",
       "      <th>Population</th>\n",
       "    </tr>\n",
       "  </thead>\n",
       "  <tbody>\n",
       "    <tr>\n",
       "      <th>0</th>\n",
       "      <td>Nepal</td>\n",
       "      <td>30000000</td>\n",
       "    </tr>\n",
       "    <tr>\n",
       "      <th>1</th>\n",
       "      <td>India</td>\n",
       "      <td>1463865525</td>\n",
       "    </tr>\n",
       "    <tr>\n",
       "      <th>2</th>\n",
       "      <td>China</td>\n",
       "      <td>1416096094</td>\n",
       "    </tr>\n",
       "  </tbody>\n",
       "</table>\n",
       "</div>"
      ],
      "text/plain": [
       "  country  Population\n",
       "0   Nepal    30000000\n",
       "1   India  1463865525\n",
       "2   China  1416096094"
      ]
     },
     "execution_count": 23,
     "metadata": {},
     "output_type": "execute_result"
    }
   ],
   "source": [
    "### Ex-2-Task-3\n",
    "my_data = {\n",
    "    'country': ['Nepal', 'India', 'China'],\n",
    "    'Population': [30000000, 1463865525, 1416096094]\n",
    "}\n",
    "df = None\n",
    "# Creating Data Frame using Python Dictionary\n",
    "### BEGIN SOLUTION \n",
    "# YOUR CODE HERE\n",
    "pd.DataFrame(my_data)\n",
    "### END SOLUTION\n",
    "                   "
   ]
  },
  {
   "cell_type": "code",
   "execution_count": null,
   "id": "67c8b979",
   "metadata": {
    "deletable": false,
    "editable": false,
    "nbgrader": {
     "cell_type": "code",
     "checksum": "d35557a672f751c1aecc9fd26eb2ca6a",
     "grade": true,
     "grade_id": "cell-cf0c32490f3e13ff",
     "locked": true,
     "points": 1,
     "schema_version": 3,
     "solution": false,
     "task": false
    }
   },
   "outputs": [],
   "source": []
  },
  {
   "cell_type": "markdown",
   "id": "a7990c68",
   "metadata": {
    "deletable": false,
    "editable": false,
    "nbgrader": {
     "cell_type": "markdown",
     "checksum": "a07316f5761d2c61ffc624e5acd520fa",
     "grade": false,
     "grade_id": "cell-b0a79915e488bf6c",
     "locked": true,
     "schema_version": 3,
     "solution": false,
     "task": false
    }
   },
   "source": [
    "## Data Loading and Inspection"
   ]
  },
  {
   "cell_type": "markdown",
   "id": "0e1786eb",
   "metadata": {
    "deletable": false,
    "editable": false,
    "nbgrader": {
     "cell_type": "markdown",
     "checksum": "cda41d28d6bb5a17925a4318b1bc2659",
     "grade": false,
     "grade_id": "cell-f8c880383bf31709",
     "locked": true,
     "schema_version": 3,
     "solution": false,
     "task": false
    }
   },
   "source": [
    "### Reading Data\n",
    "A simple way to store big data is to use CSV files (comma Seperated files) or Parquet Files. \n",
    "- df_sales --> computed_insight_success_of_active_sellers.csv'\n",
    "- df_product --> summer-products-with-rating-and-performance_2020-08.csv"
   ]
  },
  {
   "cell_type": "code",
   "execution_count": 47,
   "id": "4c4e7cee",
   "metadata": {
    "deletable": false,
    "nbgrader": {
     "cell_type": "code",
     "checksum": "ce6bac268460a227072d8cbff96bbc79",
     "grade": false,
     "grade_id": "cell-4d82ea0870a3c552",
     "locked": false,
     "schema_version": 3,
     "solution": true,
     "task": false
    }
   },
   "outputs": [
    {
     "data": {
      "text/html": [
       "<div>\n",
       "<style scoped>\n",
       "    .dataframe tbody tr th:only-of-type {\n",
       "        vertical-align: middle;\n",
       "    }\n",
       "\n",
       "    .dataframe tbody tr th {\n",
       "        vertical-align: top;\n",
       "    }\n",
       "\n",
       "    .dataframe thead th {\n",
       "        text-align: right;\n",
       "    }\n",
       "</style>\n",
       "<table border=\"1\" class=\"dataframe\">\n",
       "  <thead>\n",
       "    <tr style=\"text-align: right;\">\n",
       "      <th></th>\n",
       "      <th>merchantid</th>\n",
       "      <th>listedproducts</th>\n",
       "      <th>totalunitssold</th>\n",
       "      <th>meanunitssoldperproduct</th>\n",
       "      <th>rating</th>\n",
       "      <th>merchantratingscount</th>\n",
       "      <th>meanproductprices</th>\n",
       "      <th>meanretailprices</th>\n",
       "      <th>averagediscount</th>\n",
       "      <th>meandiscount</th>\n",
       "      <th>meanproductratingscount</th>\n",
       "      <th>totalurgencycount</th>\n",
       "      <th>urgencytextrate</th>\n",
       "    </tr>\n",
       "  </thead>\n",
       "  <tbody>\n",
       "    <tr>\n",
       "      <th>0</th>\n",
       "      <td>5357bcf2bb72c5504882e889</td>\n",
       "      <td>2</td>\n",
       "      <td>120000</td>\n",
       "      <td>60000.0</td>\n",
       "      <td>4.219</td>\n",
       "      <td>320031.0</td>\n",
       "      <td>9.00</td>\n",
       "      <td>20.0</td>\n",
       "      <td>54.0</td>\n",
       "      <td>54.0</td>\n",
       "      <td>8836.0</td>\n",
       "      <td>1.0</td>\n",
       "      <td>50.0</td>\n",
       "    </tr>\n",
       "    <tr>\n",
       "      <th>1</th>\n",
       "      <td>5708773c3c02161b3f8c7900</td>\n",
       "      <td>5</td>\n",
       "      <td>107100</td>\n",
       "      <td>21420.0</td>\n",
       "      <td>3.934</td>\n",
       "      <td>139223.0</td>\n",
       "      <td>7.76</td>\n",
       "      <td>34.2</td>\n",
       "      <td>61.0</td>\n",
       "      <td>61.0</td>\n",
       "      <td>4010.0</td>\n",
       "      <td>3.0</td>\n",
       "      <td>60.0</td>\n",
       "    </tr>\n",
       "    <tr>\n",
       "      <th>2</th>\n",
       "      <td>5417aada4ad3ab27e954b76c</td>\n",
       "      <td>2</td>\n",
       "      <td>100007</td>\n",
       "      <td>50004.0</td>\n",
       "      <td>4.053</td>\n",
       "      <td>108048.0</td>\n",
       "      <td>8.00</td>\n",
       "      <td>8.0</td>\n",
       "      <td>-1.0</td>\n",
       "      <td>-1.0</td>\n",
       "      <td>5531.0</td>\n",
       "      <td>NaN</td>\n",
       "      <td>NaN</td>\n",
       "    </tr>\n",
       "    <tr>\n",
       "      <th>3</th>\n",
       "      <td>570f3a713a698c14278bb51e</td>\n",
       "      <td>1</td>\n",
       "      <td>100000</td>\n",
       "      <td>100000.0</td>\n",
       "      <td>3.889</td>\n",
       "      <td>19248.0</td>\n",
       "      <td>5.67</td>\n",
       "      <td>19.0</td>\n",
       "      <td>71.0</td>\n",
       "      <td>71.0</td>\n",
       "      <td>18393.0</td>\n",
       "      <td>1.0</td>\n",
       "      <td>100.0</td>\n",
       "    </tr>\n",
       "    <tr>\n",
       "      <th>4</th>\n",
       "      <td>53082ea15aefb07dfe1f2a4f</td>\n",
       "      <td>1</td>\n",
       "      <td>100000</td>\n",
       "      <td>100000.0</td>\n",
       "      <td>4.036</td>\n",
       "      <td>366898.0</td>\n",
       "      <td>5.00</td>\n",
       "      <td>33.0</td>\n",
       "      <td>85.0</td>\n",
       "      <td>85.0</td>\n",
       "      <td>13789.0</td>\n",
       "      <td>NaN</td>\n",
       "      <td>NaN</td>\n",
       "    </tr>\n",
       "    <tr>\n",
       "      <th>...</th>\n",
       "      <td>...</td>\n",
       "      <td>...</td>\n",
       "      <td>...</td>\n",
       "      <td>...</td>\n",
       "      <td>...</td>\n",
       "      <td>...</td>\n",
       "      <td>...</td>\n",
       "      <td>...</td>\n",
       "      <td>...</td>\n",
       "      <td>...</td>\n",
       "      <td>...</td>\n",
       "      <td>...</td>\n",
       "      <td>...</td>\n",
       "    </tr>\n",
       "    <tr>\n",
       "      <th>953</th>\n",
       "      <td>567bad8582c35f28103e5813</td>\n",
       "      <td>1</td>\n",
       "      <td>2</td>\n",
       "      <td>2.0</td>\n",
       "      <td>3.999</td>\n",
       "      <td>21307.0</td>\n",
       "      <td>11.00</td>\n",
       "      <td>10.0</td>\n",
       "      <td>-10.0</td>\n",
       "      <td>-10.0</td>\n",
       "      <td>1.0</td>\n",
       "      <td>NaN</td>\n",
       "      <td>NaN</td>\n",
       "    </tr>\n",
       "    <tr>\n",
       "      <th>954</th>\n",
       "      <td>5b24edf0d1c360301099e9c6</td>\n",
       "      <td>1</td>\n",
       "      <td>2</td>\n",
       "      <td>2.0</td>\n",
       "      <td>4.303</td>\n",
       "      <td>693.0</td>\n",
       "      <td>16.00</td>\n",
       "      <td>16.0</td>\n",
       "      <td>0.0</td>\n",
       "      <td>0.0</td>\n",
       "      <td>0.0</td>\n",
       "      <td>NaN</td>\n",
       "      <td>NaN</td>\n",
       "    </tr>\n",
       "    <tr>\n",
       "      <th>955</th>\n",
       "      <td>5d417e7070327a2743021677</td>\n",
       "      <td>1</td>\n",
       "      <td>1</td>\n",
       "      <td>1.0</td>\n",
       "      <td>3.598</td>\n",
       "      <td>378.0</td>\n",
       "      <td>2.72</td>\n",
       "      <td>9.0</td>\n",
       "      <td>70.0</td>\n",
       "      <td>70.0</td>\n",
       "      <td>0.0</td>\n",
       "      <td>NaN</td>\n",
       "      <td>NaN</td>\n",
       "    </tr>\n",
       "    <tr>\n",
       "      <th>956</th>\n",
       "      <td>5add589edb5f1f32114d07df</td>\n",
       "      <td>1</td>\n",
       "      <td>1</td>\n",
       "      <td>1.0</td>\n",
       "      <td>3.956</td>\n",
       "      <td>1134.0</td>\n",
       "      <td>14.00</td>\n",
       "      <td>14.0</td>\n",
       "      <td>0.0</td>\n",
       "      <td>0.0</td>\n",
       "      <td>0.0</td>\n",
       "      <td>NaN</td>\n",
       "      <td>NaN</td>\n",
       "    </tr>\n",
       "    <tr>\n",
       "      <th>957</th>\n",
       "      <td>5d4b8931933fb13f8a1fe232</td>\n",
       "      <td>1</td>\n",
       "      <td>1</td>\n",
       "      <td>1.0</td>\n",
       "      <td>4.007</td>\n",
       "      <td>1380.0</td>\n",
       "      <td>11.00</td>\n",
       "      <td>30.0</td>\n",
       "      <td>64.0</td>\n",
       "      <td>64.0</td>\n",
       "      <td>0.0</td>\n",
       "      <td>NaN</td>\n",
       "      <td>NaN</td>\n",
       "    </tr>\n",
       "  </tbody>\n",
       "</table>\n",
       "<p>958 rows × 13 columns</p>\n",
       "</div>"
      ],
      "text/plain": [
       "                   merchantid  listedproducts  totalunitssold  \\\n",
       "0    5357bcf2bb72c5504882e889               2          120000   \n",
       "1    5708773c3c02161b3f8c7900               5          107100   \n",
       "2    5417aada4ad3ab27e954b76c               2          100007   \n",
       "3    570f3a713a698c14278bb51e               1          100000   \n",
       "4    53082ea15aefb07dfe1f2a4f               1          100000   \n",
       "..                        ...             ...             ...   \n",
       "953  567bad8582c35f28103e5813               1               2   \n",
       "954  5b24edf0d1c360301099e9c6               1               2   \n",
       "955  5d417e7070327a2743021677               1               1   \n",
       "956  5add589edb5f1f32114d07df               1               1   \n",
       "957  5d4b8931933fb13f8a1fe232               1               1   \n",
       "\n",
       "     meanunitssoldperproduct  rating  merchantratingscount  meanproductprices  \\\n",
       "0                    60000.0   4.219              320031.0               9.00   \n",
       "1                    21420.0   3.934              139223.0               7.76   \n",
       "2                    50004.0   4.053              108048.0               8.00   \n",
       "3                   100000.0   3.889               19248.0               5.67   \n",
       "4                   100000.0   4.036              366898.0               5.00   \n",
       "..                       ...     ...                   ...                ...   \n",
       "953                      2.0   3.999               21307.0              11.00   \n",
       "954                      2.0   4.303                 693.0              16.00   \n",
       "955                      1.0   3.598                 378.0               2.72   \n",
       "956                      1.0   3.956                1134.0              14.00   \n",
       "957                      1.0   4.007                1380.0              11.00   \n",
       "\n",
       "     meanretailprices  averagediscount  meandiscount  meanproductratingscount  \\\n",
       "0                20.0             54.0          54.0                   8836.0   \n",
       "1                34.2             61.0          61.0                   4010.0   \n",
       "2                 8.0             -1.0          -1.0                   5531.0   \n",
       "3                19.0             71.0          71.0                  18393.0   \n",
       "4                33.0             85.0          85.0                  13789.0   \n",
       "..                ...              ...           ...                      ...   \n",
       "953              10.0            -10.0         -10.0                      1.0   \n",
       "954              16.0              0.0           0.0                      0.0   \n",
       "955               9.0             70.0          70.0                      0.0   \n",
       "956              14.0              0.0           0.0                      0.0   \n",
       "957              30.0             64.0          64.0                      0.0   \n",
       "\n",
       "     totalurgencycount  urgencytextrate  \n",
       "0                  1.0             50.0  \n",
       "1                  3.0             60.0  \n",
       "2                  NaN              NaN  \n",
       "3                  1.0            100.0  \n",
       "4                  NaN              NaN  \n",
       "..                 ...              ...  \n",
       "953                NaN              NaN  \n",
       "954                NaN              NaN  \n",
       "955                NaN              NaN  \n",
       "956                NaN              NaN  \n",
       "957                NaN              NaN  \n",
       "\n",
       "[958 rows x 13 columns]"
      ]
     },
     "execution_count": 47,
     "metadata": {},
     "output_type": "execute_result"
    }
   ],
   "source": [
    "### Ex-3-Task-1\n",
    "df_sales = None\n",
    "df_product = None\n",
    "\n",
    "# reading CSV file\n",
    "### BEGIN SOLUTION \n",
    "# YOUR CODE HERE\n",
    "pd.read_csv(\"/home/sandeep/data_wr/pandas/computed_insight_success_of_active_sellers (1).csv\")\n",
    "### END SOLUTION\n"
   ]
  },
  {
   "cell_type": "code",
   "execution_count": null,
   "id": "d2cf1078",
   "metadata": {
    "deletable": false,
    "editable": false,
    "nbgrader": {
     "cell_type": "code",
     "checksum": "84ab4acd8453930e0c42f72165ae8c64",
     "grade": true,
     "grade_id": "cell-41a8f39ffe16bff3",
     "locked": true,
     "points": 1,
     "schema_version": 3,
     "solution": false,
     "task": false
    }
   },
   "outputs": [],
   "source": []
  },
  {
   "cell_type": "markdown",
   "id": "ec86b5d0",
   "metadata": {
    "deletable": false,
    "editable": false,
    "nbgrader": {
     "cell_type": "markdown",
     "checksum": "536a088c2563fccb250d78e66cfbebb7",
     "grade": false,
     "grade_id": "cell-aaddbc8e1c9d7f31",
     "locked": true,
     "schema_version": 3,
     "solution": false,
     "task": false
    }
   },
   "source": [
    "### Basic Inspection"
   ]
  },
  {
   "cell_type": "code",
   "execution_count": 57,
   "id": "2c0f06f0",
   "metadata": {
    "deletable": false,
    "nbgrader": {
     "cell_type": "code",
     "checksum": "7c470626e98860b964a39c2e65bcf9e0",
     "grade": false,
     "grade_id": "cell-ce2bca53a06aed23",
     "locked": false,
     "schema_version": 3,
     "solution": true,
     "task": false
    }
   },
   "outputs": [
    {
     "name": "stdout",
     "output_type": "stream",
     "text": [
      "                 merchantid  listedproducts  totalunitssold  \\\n",
      "0  5357bcf2bb72c5504882e889               2          120000   \n",
      "1  5708773c3c02161b3f8c7900               5          107100   \n",
      "2  5417aada4ad3ab27e954b76c               2          100007   \n",
      "3  570f3a713a698c14278bb51e               1          100000   \n",
      "4  53082ea15aefb07dfe1f2a4f               1          100000   \n",
      "5  53f2beb39020ee03566d6e18               1          100000   \n",
      "6  5926c5ace8ff5525241b368d               7           96000   \n",
      "7  5860c757b1e41d4d67d183e8               4           90100   \n",
      "8  52bd3ddb34067e4620a4c62d               3           80000   \n",
      "9  5a7b23a69bda4e3d375e7b3f               5           80000   \n",
      "\n",
      "   meanunitssoldperproduct  rating  merchantratingscount  meanproductprices  \\\n",
      "0                  60000.0   4.219              320031.0               9.00   \n",
      "1                  21420.0   3.934              139223.0               7.76   \n",
      "2                  50004.0   4.053              108048.0               8.00   \n",
      "3                 100000.0   3.889               19248.0               5.67   \n",
      "4                 100000.0   4.036              366898.0               5.00   \n",
      "5                 100000.0   4.067              330405.0               5.77   \n",
      "6                  13714.0   4.139               55499.0               6.69   \n",
      "7                  22525.0   4.049              151249.0               3.43   \n",
      "8                  26667.0   4.104              839882.0               7.22   \n",
      "9                  16000.0   3.966               12974.0               8.40   \n",
      "\n",
      "   meanretailprices  averagediscount  meandiscount  meanproductratingscount  \\\n",
      "0             20.00             54.0         54.00                   8836.0   \n",
      "1             34.20             61.0         61.00                   4010.0   \n",
      "2              8.00             -1.0         -1.00                   5531.0   \n",
      "3             19.00             71.0         71.00                  18393.0   \n",
      "4             33.00             85.0         85.00                  13789.0   \n",
      "5             48.00             88.0         88.00                  20744.0   \n",
      "6              6.29             -4.0         -3.86                   2250.0   \n",
      "7              3.75             11.0         11.00                   6290.0   \n",
      "8             14.67             33.0         33.33                   6136.0   \n",
      "9              7.80             -7.0         -6.80                   2093.0   \n",
      "\n",
      "   totalurgencycount  urgencytextrate  \n",
      "0                1.0             50.0  \n",
      "1                3.0             60.0  \n",
      "2                NaN              NaN  \n",
      "3                1.0            100.0  \n",
      "4                NaN              NaN  \n",
      "5                NaN              NaN  \n",
      "6                1.0             14.0  \n",
      "7                2.0             50.0  \n",
      "8                1.0             33.0  \n",
      "9                1.0             20.0  \n",
      "                   merchantid  listedproducts  totalunitssold  \\\n",
      "948  574d559cb06e205d099d9107               1              10   \n",
      "949  5db248327c0d0800c24fc084               1              10   \n",
      "950  54365c349719cd57af2b449b               1               8   \n",
      "951  581c54c4dd99164b808ca531               1               7   \n",
      "952  564d8f2f3a698c01d97fbb81               1               3   \n",
      "953  567bad8582c35f28103e5813               1               2   \n",
      "954  5b24edf0d1c360301099e9c6               1               2   \n",
      "955  5d417e7070327a2743021677               1               1   \n",
      "956  5add589edb5f1f32114d07df               1               1   \n",
      "957  5d4b8931933fb13f8a1fe232               1               1   \n",
      "\n",
      "     meanunitssoldperproduct  rating  merchantratingscount  meanproductprices  \\\n",
      "948                     10.0   4.501                2038.0              18.00   \n",
      "949                     10.0   4.513                 160.0               5.68   \n",
      "950                      8.0   3.949               53225.0               7.00   \n",
      "951                      7.0   4.249                6348.0               8.00   \n",
      "952                      3.0   3.991               11378.0               4.81   \n",
      "953                      2.0   3.999               21307.0              11.00   \n",
      "954                      2.0   4.303                 693.0              16.00   \n",
      "955                      1.0   3.598                 378.0               2.72   \n",
      "956                      1.0   3.956                1134.0              14.00   \n",
      "957                      1.0   4.007                1380.0              11.00   \n",
      "\n",
      "     meanretailprices  averagediscount  meandiscount  meanproductratingscount  \\\n",
      "948              59.0             70.0          70.0                      6.0   \n",
      "949               5.0            -13.0         -13.0                      2.0   \n",
      "950              31.0             78.0          78.0                      0.0   \n",
      "951              55.0             86.0          86.0                      1.0   \n",
      "952              30.0             84.0          84.0                      0.0   \n",
      "953              10.0            -10.0         -10.0                      1.0   \n",
      "954              16.0              0.0           0.0                      0.0   \n",
      "955               9.0             70.0          70.0                      0.0   \n",
      "956              14.0              0.0           0.0                      0.0   \n",
      "957              30.0             64.0          64.0                      0.0   \n",
      "\n",
      "     totalurgencycount  urgencytextrate  \n",
      "948                NaN              NaN  \n",
      "949                NaN              NaN  \n",
      "950                NaN              NaN  \n",
      "951                NaN              NaN  \n",
      "952                NaN              NaN  \n",
      "953                NaN              NaN  \n",
      "954                NaN              NaN  \n",
      "955                NaN              NaN  \n",
      "956                NaN              NaN  \n",
      "957                NaN              NaN  \n"
     ]
    }
   ],
   "source": [
    "### Ex-3-Task-2\n",
    "head_df = None \n",
    "tail_df = None \n",
    "desribe_num_df = None\n",
    "desribe_cate_df = None\n",
    "# check the first 10 records of the sales dataframe \n",
    "# check the last 10 records of the product dataframe\n",
    "## Check the description of the numerical and categorical columns of prodcut dataframe\n",
    "### BEGIN SOLUTION \n",
    "# YOUR CODE HERE\n",
    "df = pd.read_csv(\"/home/sandeep/data_wr/pandas/computed_insight_success_of_active_sellers (1).csv\")\n",
    "pd.DataFrame(df)\n",
    "\n",
    "df_first_10 = df.head(10)\n",
    "print(df_first_10)\n",
    "\n",
    "df_first_10 = df.tail(10)\n",
    "print(df_first_10)\n",
    "\n",
    "df_first_10 = df.describe()\n",
    "#print(df_first_10)\n",
    "\n",
    "### END SOLUTION"
   ]
  },
  {
   "cell_type": "code",
   "execution_count": null,
   "id": "f58b4280",
   "metadata": {
    "deletable": false,
    "editable": false,
    "nbgrader": {
     "cell_type": "code",
     "checksum": "dacb3747dab9ebe38d04c58c3780729b",
     "grade": true,
     "grade_id": "cell-abaa40e3dc8f3774",
     "locked": true,
     "points": 1,
     "schema_version": 3,
     "solution": false,
     "task": false
    }
   },
   "outputs": [],
   "source": []
  },
  {
   "cell_type": "code",
   "execution_count": 62,
   "id": "55de7845",
   "metadata": {
    "deletable": false,
    "nbgrader": {
     "cell_type": "code",
     "checksum": "88decb912cd012520f36c337858ab49e",
     "grade": false,
     "grade_id": "cell-1b39910e2c1a83c2",
     "locked": false,
     "schema_version": 3,
     "solution": true,
     "task": false
    }
   },
   "outputs": [
    {
     "data": {
      "text/html": [
       "<div>\n",
       "<style scoped>\n",
       "    .dataframe tbody tr th:only-of-type {\n",
       "        vertical-align: middle;\n",
       "    }\n",
       "\n",
       "    .dataframe tbody tr th {\n",
       "        vertical-align: top;\n",
       "    }\n",
       "\n",
       "    .dataframe thead th {\n",
       "        text-align: right;\n",
       "    }\n",
       "</style>\n",
       "<table border=\"1\" class=\"dataframe\">\n",
       "  <thead>\n",
       "    <tr style=\"text-align: right;\">\n",
       "      <th></th>\n",
       "      <th>merchantid</th>\n",
       "      <th>totalunitssold</th>\n",
       "    </tr>\n",
       "  </thead>\n",
       "  <tbody>\n",
       "    <tr>\n",
       "      <th>0</th>\n",
       "      <td>5357bcf2bb72c5504882e889</td>\n",
       "      <td>120000</td>\n",
       "    </tr>\n",
       "    <tr>\n",
       "      <th>1</th>\n",
       "      <td>5708773c3c02161b3f8c7900</td>\n",
       "      <td>107100</td>\n",
       "    </tr>\n",
       "    <tr>\n",
       "      <th>2</th>\n",
       "      <td>5417aada4ad3ab27e954b76c</td>\n",
       "      <td>100007</td>\n",
       "    </tr>\n",
       "    <tr>\n",
       "      <th>3</th>\n",
       "      <td>570f3a713a698c14278bb51e</td>\n",
       "      <td>100000</td>\n",
       "    </tr>\n",
       "    <tr>\n",
       "      <th>4</th>\n",
       "      <td>53082ea15aefb07dfe1f2a4f</td>\n",
       "      <td>100000</td>\n",
       "    </tr>\n",
       "    <tr>\n",
       "      <th>...</th>\n",
       "      <td>...</td>\n",
       "      <td>...</td>\n",
       "    </tr>\n",
       "    <tr>\n",
       "      <th>953</th>\n",
       "      <td>567bad8582c35f28103e5813</td>\n",
       "      <td>2</td>\n",
       "    </tr>\n",
       "    <tr>\n",
       "      <th>954</th>\n",
       "      <td>5b24edf0d1c360301099e9c6</td>\n",
       "      <td>2</td>\n",
       "    </tr>\n",
       "    <tr>\n",
       "      <th>955</th>\n",
       "      <td>5d417e7070327a2743021677</td>\n",
       "      <td>1</td>\n",
       "    </tr>\n",
       "    <tr>\n",
       "      <th>956</th>\n",
       "      <td>5add589edb5f1f32114d07df</td>\n",
       "      <td>1</td>\n",
       "    </tr>\n",
       "    <tr>\n",
       "      <th>957</th>\n",
       "      <td>5d4b8931933fb13f8a1fe232</td>\n",
       "      <td>1</td>\n",
       "    </tr>\n",
       "  </tbody>\n",
       "</table>\n",
       "<p>958 rows × 2 columns</p>\n",
       "</div>"
      ],
      "text/plain": [
       "                   merchantid  totalunitssold\n",
       "0    5357bcf2bb72c5504882e889          120000\n",
       "1    5708773c3c02161b3f8c7900          107100\n",
       "2    5417aada4ad3ab27e954b76c          100007\n",
       "3    570f3a713a698c14278bb51e          100000\n",
       "4    53082ea15aefb07dfe1f2a4f          100000\n",
       "..                        ...             ...\n",
       "953  567bad8582c35f28103e5813               2\n",
       "954  5b24edf0d1c360301099e9c6               2\n",
       "955  5d417e7070327a2743021677               1\n",
       "956  5add589edb5f1f32114d07df               1\n",
       "957  5d4b8931933fb13f8a1fe232               1\n",
       "\n",
       "[958 rows x 2 columns]"
      ]
     },
     "execution_count": 62,
     "metadata": {},
     "output_type": "execute_result"
    }
   ],
   "source": [
    "### Ex-3-Task-3\n",
    "\n",
    "# set merchant id as the index of the sales dataframe and check index\n",
    "### BEGIN SOLUTION \n",
    "# YOUR CODE HERE\n",
    "df.iloc[:,[0,2]]\n",
    "### END SOLUTION"
   ]
  },
  {
   "cell_type": "code",
   "execution_count": null,
   "id": "c1a78ea0",
   "metadata": {
    "deletable": false,
    "editable": false,
    "nbgrader": {
     "cell_type": "code",
     "checksum": "8d5703fbe7bdff4d991db8976ff7ae44",
     "grade": true,
     "grade_id": "cell-913ac404538d8371",
     "locked": true,
     "points": 1,
     "schema_version": 3,
     "solution": false,
     "task": false
    }
   },
   "outputs": [],
   "source": []
  },
  {
   "cell_type": "code",
   "execution_count": 98,
   "id": "db8de8fa",
   "metadata": {
    "deletable": false,
    "nbgrader": {
     "cell_type": "code",
     "checksum": "bbe9c6590287f2a7ac8b8a8002f07f96",
     "grade": false,
     "grade_id": "cell-6c292f0cdae5bf29",
     "locked": false,
     "schema_version": 3,
     "solution": true,
     "task": false
    }
   },
   "outputs": [
    {
     "data": {
      "text/html": [
       "<div>\n",
       "<style scoped>\n",
       "    .dataframe tbody tr th:only-of-type {\n",
       "        vertical-align: middle;\n",
       "    }\n",
       "\n",
       "    .dataframe tbody tr th {\n",
       "        vertical-align: top;\n",
       "    }\n",
       "\n",
       "    .dataframe thead th {\n",
       "        text-align: right;\n",
       "    }\n",
       "</style>\n",
       "<table border=\"1\" class=\"dataframe\">\n",
       "  <thead>\n",
       "    <tr style=\"text-align: right;\">\n",
       "      <th></th>\n",
       "      <th>merchantid</th>\n",
       "      <th>listedproducts</th>\n",
       "      <th>totalunitssold</th>\n",
       "      <th>meanunitssoldperproduct</th>\n",
       "      <th>rating</th>\n",
       "      <th>merchantratingscount</th>\n",
       "      <th>meanproductprices</th>\n",
       "      <th>meanretailprices</th>\n",
       "      <th>averagediscount</th>\n",
       "      <th>meandiscount</th>\n",
       "      <th>meanproductratingscount</th>\n",
       "      <th>totalurgencycount</th>\n",
       "      <th>urgencytextrate</th>\n",
       "    </tr>\n",
       "  </thead>\n",
       "  <tbody>\n",
       "    <tr>\n",
       "      <th>927</th>\n",
       "      <td>5e63469b2fdc774466e15dd5</td>\n",
       "      <td>1</td>\n",
       "      <td>10</td>\n",
       "      <td>10.0</td>\n",
       "      <td>2.333</td>\n",
       "      <td>3.0</td>\n",
       "      <td>5.75</td>\n",
       "      <td>5.0</td>\n",
       "      <td>-15.0</td>\n",
       "      <td>-15.0</td>\n",
       "      <td>0.0</td>\n",
       "      <td>NaN</td>\n",
       "      <td>NaN</td>\n",
       "    </tr>\n",
       "    <tr>\n",
       "      <th>704</th>\n",
       "      <td>5e8d923d20c9b7545017f1f9</td>\n",
       "      <td>1</td>\n",
       "      <td>100</td>\n",
       "      <td>100.0</td>\n",
       "      <td>2.941</td>\n",
       "      <td>17.0</td>\n",
       "      <td>11.00</td>\n",
       "      <td>50.0</td>\n",
       "      <td>78.0</td>\n",
       "      <td>78.0</td>\n",
       "      <td>9.0</td>\n",
       "      <td>NaN</td>\n",
       "      <td>NaN</td>\n",
       "    </tr>\n",
       "    <tr>\n",
       "      <th>705</th>\n",
       "      <td>5e6cb9806bab2075b2b64d15</td>\n",
       "      <td>1</td>\n",
       "      <td>100</td>\n",
       "      <td>100.0</td>\n",
       "      <td>3.000</td>\n",
       "      <td>3.0</td>\n",
       "      <td>12.00</td>\n",
       "      <td>11.0</td>\n",
       "      <td>-9.0</td>\n",
       "      <td>-9.0</td>\n",
       "      <td>1.0</td>\n",
       "      <td>NaN</td>\n",
       "      <td>NaN</td>\n",
       "    </tr>\n",
       "    <tr>\n",
       "      <th>706</th>\n",
       "      <td>5e8c98966642021100f8db13</td>\n",
       "      <td>1</td>\n",
       "      <td>100</td>\n",
       "      <td>100.0</td>\n",
       "      <td>3.034</td>\n",
       "      <td>29.0</td>\n",
       "      <td>12.00</td>\n",
       "      <td>75.0</td>\n",
       "      <td>84.0</td>\n",
       "      <td>84.0</td>\n",
       "      <td>28.0</td>\n",
       "      <td>NaN</td>\n",
       "      <td>NaN</td>\n",
       "    </tr>\n",
       "    <tr>\n",
       "      <th>707</th>\n",
       "      <td>5e537a4038654d5bb8db71b4</td>\n",
       "      <td>1</td>\n",
       "      <td>100</td>\n",
       "      <td>100.0</td>\n",
       "      <td>3.039</td>\n",
       "      <td>231.0</td>\n",
       "      <td>5.00</td>\n",
       "      <td>5.0</td>\n",
       "      <td>0.0</td>\n",
       "      <td>0.0</td>\n",
       "      <td>6.0</td>\n",
       "      <td>NaN</td>\n",
       "      <td>NaN</td>\n",
       "    </tr>\n",
       "    <tr>\n",
       "      <th>...</th>\n",
       "      <td>...</td>\n",
       "      <td>...</td>\n",
       "      <td>...</td>\n",
       "      <td>...</td>\n",
       "      <td>...</td>\n",
       "      <td>...</td>\n",
       "      <td>...</td>\n",
       "      <td>...</td>\n",
       "      <td>...</td>\n",
       "      <td>...</td>\n",
       "      <td>...</td>\n",
       "      <td>...</td>\n",
       "      <td>...</td>\n",
       "    </tr>\n",
       "    <tr>\n",
       "      <th>948</th>\n",
       "      <td>574d559cb06e205d099d9107</td>\n",
       "      <td>1</td>\n",
       "      <td>10</td>\n",
       "      <td>10.0</td>\n",
       "      <td>4.501</td>\n",
       "      <td>2038.0</td>\n",
       "      <td>18.00</td>\n",
       "      <td>59.0</td>\n",
       "      <td>70.0</td>\n",
       "      <td>70.0</td>\n",
       "      <td>6.0</td>\n",
       "      <td>NaN</td>\n",
       "      <td>NaN</td>\n",
       "    </tr>\n",
       "    <tr>\n",
       "      <th>949</th>\n",
       "      <td>5db248327c0d0800c24fc084</td>\n",
       "      <td>1</td>\n",
       "      <td>10</td>\n",
       "      <td>10.0</td>\n",
       "      <td>4.513</td>\n",
       "      <td>160.0</td>\n",
       "      <td>5.68</td>\n",
       "      <td>5.0</td>\n",
       "      <td>-13.0</td>\n",
       "      <td>-13.0</td>\n",
       "      <td>2.0</td>\n",
       "      <td>NaN</td>\n",
       "      <td>NaN</td>\n",
       "    </tr>\n",
       "    <tr>\n",
       "      <th>887</th>\n",
       "      <td>5b07dc937752c81ecb291b66</td>\n",
       "      <td>1</td>\n",
       "      <td>100</td>\n",
       "      <td>100.0</td>\n",
       "      <td>4.522</td>\n",
       "      <td>343.0</td>\n",
       "      <td>3.73</td>\n",
       "      <td>17.0</td>\n",
       "      <td>79.0</td>\n",
       "      <td>79.0</td>\n",
       "      <td>27.0</td>\n",
       "      <td>NaN</td>\n",
       "      <td>NaN</td>\n",
       "    </tr>\n",
       "    <tr>\n",
       "      <th>888</th>\n",
       "      <td>559f372b577ce1196ef7f66c</td>\n",
       "      <td>1</td>\n",
       "      <td>100</td>\n",
       "      <td>100.0</td>\n",
       "      <td>4.578</td>\n",
       "      <td>1032.0</td>\n",
       "      <td>8.00</td>\n",
       "      <td>47.0</td>\n",
       "      <td>83.0</td>\n",
       "      <td>83.0</td>\n",
       "      <td>110.0</td>\n",
       "      <td>NaN</td>\n",
       "      <td>NaN</td>\n",
       "    </tr>\n",
       "    <tr>\n",
       "      <th>889</th>\n",
       "      <td>5dab9ece69ce753090f6735c</td>\n",
       "      <td>1</td>\n",
       "      <td>100</td>\n",
       "      <td>100.0</td>\n",
       "      <td>5.000</td>\n",
       "      <td>0.0</td>\n",
       "      <td>7.00</td>\n",
       "      <td>6.0</td>\n",
       "      <td>-16.0</td>\n",
       "      <td>-16.0</td>\n",
       "      <td>0.0</td>\n",
       "      <td>NaN</td>\n",
       "      <td>NaN</td>\n",
       "    </tr>\n",
       "  </tbody>\n",
       "</table>\n",
       "<p>958 rows × 13 columns</p>\n",
       "</div>"
      ],
      "text/plain": [
       "                   merchantid  listedproducts  totalunitssold  \\\n",
       "927  5e63469b2fdc774466e15dd5               1              10   \n",
       "704  5e8d923d20c9b7545017f1f9               1             100   \n",
       "705  5e6cb9806bab2075b2b64d15               1             100   \n",
       "706  5e8c98966642021100f8db13               1             100   \n",
       "707  5e537a4038654d5bb8db71b4               1             100   \n",
       "..                        ...             ...             ...   \n",
       "948  574d559cb06e205d099d9107               1              10   \n",
       "949  5db248327c0d0800c24fc084               1              10   \n",
       "887  5b07dc937752c81ecb291b66               1             100   \n",
       "888  559f372b577ce1196ef7f66c               1             100   \n",
       "889  5dab9ece69ce753090f6735c               1             100   \n",
       "\n",
       "     meanunitssoldperproduct  rating  merchantratingscount  meanproductprices  \\\n",
       "927                     10.0   2.333                   3.0               5.75   \n",
       "704                    100.0   2.941                  17.0              11.00   \n",
       "705                    100.0   3.000                   3.0              12.00   \n",
       "706                    100.0   3.034                  29.0              12.00   \n",
       "707                    100.0   3.039                 231.0               5.00   \n",
       "..                       ...     ...                   ...                ...   \n",
       "948                     10.0   4.501                2038.0              18.00   \n",
       "949                     10.0   4.513                 160.0               5.68   \n",
       "887                    100.0   4.522                 343.0               3.73   \n",
       "888                    100.0   4.578                1032.0               8.00   \n",
       "889                    100.0   5.000                   0.0               7.00   \n",
       "\n",
       "     meanretailprices  averagediscount  meandiscount  meanproductratingscount  \\\n",
       "927               5.0            -15.0         -15.0                      0.0   \n",
       "704              50.0             78.0          78.0                      9.0   \n",
       "705              11.0             -9.0          -9.0                      1.0   \n",
       "706              75.0             84.0          84.0                     28.0   \n",
       "707               5.0              0.0           0.0                      6.0   \n",
       "..                ...              ...           ...                      ...   \n",
       "948              59.0             70.0          70.0                      6.0   \n",
       "949               5.0            -13.0         -13.0                      2.0   \n",
       "887              17.0             79.0          79.0                     27.0   \n",
       "888              47.0             83.0          83.0                    110.0   \n",
       "889               6.0            -16.0         -16.0                      0.0   \n",
       "\n",
       "     totalurgencycount  urgencytextrate  \n",
       "927                NaN              NaN  \n",
       "704                NaN              NaN  \n",
       "705                NaN              NaN  \n",
       "706                NaN              NaN  \n",
       "707                NaN              NaN  \n",
       "..                 ...              ...  \n",
       "948                NaN              NaN  \n",
       "949                NaN              NaN  \n",
       "887                NaN              NaN  \n",
       "888                NaN              NaN  \n",
       "889                NaN              NaN  \n",
       "\n",
       "[958 rows x 13 columns]"
      ]
     },
     "execution_count": 98,
     "metadata": {},
     "output_type": "execute_result"
    }
   ],
   "source": [
    "### Ex-3-Task-4\n",
    "sorted_df = None\n",
    "## Sort the sales dataframe by rating in Ascending Order, if two records have same rating then sort in descending order by total unit sold\n",
    "### BEGIN SOLUTION \n",
    "# YOUR CODE HERE\n",
    "data = pd.read_csv(\"/home/sandeep/data_wr/pandas/computed_insight_success_of_active_sellers (1).csv\")\n",
    "pd.DataFrame(data)\n",
    "data.sort_values(by=['rating','totalunitssold'],ascending=[True,False])\n",
    "\n",
    "### END SOLUTION"
   ]
  },
  {
   "cell_type": "code",
   "execution_count": null,
   "id": "de884114",
   "metadata": {
    "deletable": false,
    "editable": false,
    "nbgrader": {
     "cell_type": "code",
     "checksum": "7147da7be2ca2c4a57030320f4e08795",
     "grade": true,
     "grade_id": "cell-ba1d27a14b984b5a",
     "locked": true,
     "points": 1,
     "schema_version": 3,
     "solution": false,
     "task": false
    }
   },
   "outputs": [],
   "source": []
  },
  {
   "cell_type": "code",
   "execution_count": 101,
   "id": "5c8e4273",
   "metadata": {
    "deletable": false,
    "nbgrader": {
     "cell_type": "code",
     "checksum": "fac577f8ae275d5d1e1a24442bafe27a",
     "grade": false,
     "grade_id": "cell-32a7df146fdb75df",
     "locked": false,
     "schema_version": 3,
     "solution": true,
     "task": false
    }
   },
   "outputs": [
    {
     "data": {
      "text/plain": [
       "927    2.333\n",
       "704    2.941\n",
       "705    3.000\n",
       "706    3.034\n",
       "707    3.039\n",
       "       ...  \n",
       "948    4.501\n",
       "949    4.513\n",
       "887    4.522\n",
       "888    4.578\n",
       "889    5.000\n",
       "Name: rating, Length: 958, dtype: float64"
      ]
     },
     "execution_count": 101,
     "metadata": {},
     "output_type": "execute_result"
    }
   ],
   "source": [
    "### Ex-3-Task-5\n",
    "portion_df = None\n",
    "### Get the sorted dataframe for which rating is 4.041 and store in portion_df\n",
    "### BEGIN SOLUTION \n",
    "# YOUR CODE HERE\n",
    "data['rating'].sort_values()\n",
    "### END SOLUTION"
   ]
  },
  {
   "cell_type": "code",
   "execution_count": null,
   "id": "f6d50c75",
   "metadata": {
    "deletable": false,
    "editable": false,
    "nbgrader": {
     "cell_type": "code",
     "checksum": "61f4b05b37094881e23517d0c4ac9f9e",
     "grade": true,
     "grade_id": "cell-4a49c91b20e21223",
     "locked": true,
     "points": 1,
     "schema_version": 3,
     "solution": false,
     "task": false
    }
   },
   "outputs": [],
   "source": []
  },
  {
   "cell_type": "markdown",
   "id": "dd9952db",
   "metadata": {
    "deletable": false,
    "editable": false,
    "nbgrader": {
     "cell_type": "markdown",
     "checksum": "d7de0af9c74ae3d22f7cc324c6e6b83b",
     "grade": false,
     "grade_id": "cell-43fcb3f29a0e0189",
     "locked": true,
     "schema_version": 3,
     "solution": false,
     "task": false
    }
   },
   "source": [
    "### Data Types and Conversion"
   ]
  },
  {
   "cell_type": "code",
   "execution_count": 9,
   "id": "e93f7bf5",
   "metadata": {
    "deletable": false,
    "nbgrader": {
     "cell_type": "code",
     "checksum": "1e58c892c99cf7e6211071d9a95355a6",
     "grade": false,
     "grade_id": "cell-e079b9cd0cbdc8a6",
     "locked": false,
     "schema_version": 3,
     "solution": true,
     "task": false
    }
   },
   "outputs": [
    {
     "name": "stdout",
     "output_type": "stream",
     "text": [
      "   meanproductprices\n",
      "0                  9\n",
      "1                  8\n",
      "2                  8\n",
      "3                  6\n",
      "4                  5\n"
     ]
    }
   ],
   "source": [
    "### Ex-4-Task-1\n",
    "\n",
    "# the price of the product is upto 2 digit place. I want to convert it into int\n",
    "### BEGIN SOLUTION \n",
    "# YOUR CODE HERE\n",
    "df = pd.read_csv(\"/home/sandeep/data_wr/pandas/computed_insight_success_of_active_sellers (1).csv\")\n",
    "df['meanproductprices'] = df['meanproductprices'].round().astype(int)\n",
    "print(df[['meanproductprices']].head())\n",
    "### END SOLUTION"
   ]
  },
  {
   "cell_type": "code",
   "execution_count": null,
   "id": "19b65e71",
   "metadata": {
    "deletable": false,
    "editable": false,
    "nbgrader": {
     "cell_type": "code",
     "checksum": "6af8ae202d8faf651c0f12ccfff5d322",
     "grade": true,
     "grade_id": "cell-1eafaaed6e1bb7f7",
     "locked": true,
     "points": 1,
     "schema_version": 3,
     "solution": false,
     "task": false
    }
   },
   "outputs": [],
   "source": []
  },
  {
   "cell_type": "code",
   "execution_count": 11,
   "id": "2743266e",
   "metadata": {
    "deletable": false,
    "nbgrader": {
     "cell_type": "code",
     "checksum": "d0becff2bf6c8db8364c4e93facb0d90",
     "grade": false,
     "grade_id": "cell-0be0724d8541c06b",
     "locked": false,
     "schema_version": 3,
     "solution": true,
     "task": false
    }
   },
   "outputs": [
    {
     "name": "stdout",
     "output_type": "stream",
     "text": [
      "meanproductprices    datetime64[ns]\n",
      "dtype: object\n",
      "              meanproductprices\n",
      "0 1970-01-01 00:00:00.000000009\n",
      "1 1970-01-01 00:00:00.000000008\n",
      "2 1970-01-01 00:00:00.000000008\n",
      "3 1970-01-01 00:00:00.000000006\n",
      "4 1970-01-01 00:00:00.000000005\n"
     ]
    }
   ],
   "source": [
    "### Ex-4-Task-2\n",
    "# The datatype of the craw_month is Object type. I want to convert it to data time format and store it in same columns\n",
    "### BEGIN SOLUTION \n",
    "# YOUR CODE HERE\n",
    "df['meanproductprices'] = pd.to_datetime(df['meanproductprices'], errors='coerce')\n",
    "print(df[['meanproductprices']].dtypes)\n",
    "print(df[['meanproductprices']].head())\n",
    "### END SOLUTION"
   ]
  },
  {
   "cell_type": "code",
   "execution_count": null,
   "id": "a73d8b66",
   "metadata": {
    "deletable": false,
    "editable": false,
    "nbgrader": {
     "cell_type": "code",
     "checksum": "51d2ecb92b81232328e7c58ee3b53bbe",
     "grade": true,
     "grade_id": "cell-fab43c35cf5011db",
     "locked": true,
     "points": 1,
     "schema_version": 3,
     "solution": false,
     "task": false
    }
   },
   "outputs": [],
   "source": []
  },
  {
   "cell_type": "markdown",
   "id": "800f97de",
   "metadata": {
    "deletable": false,
    "editable": false,
    "nbgrader": {
     "cell_type": "markdown",
     "checksum": "ead4583e6081ecce09da19d811202590",
     "grade": false,
     "grade_id": "cell-25d06497af6bb09e",
     "locked": true,
     "schema_version": 3,
     "solution": false,
     "task": false
    }
   },
   "source": [
    "## Data Selection and Filtering"
   ]
  },
  {
   "cell_type": "markdown",
   "id": "6032e99d",
   "metadata": {
    "deletable": false,
    "editable": false,
    "nbgrader": {
     "cell_type": "markdown",
     "checksum": "4cb6acedfeffacb4c861a887d019c4fa",
     "grade": false,
     "grade_id": "cell-2e10fd250e33a6ab",
     "locked": true,
     "schema_version": 3,
     "solution": false,
     "task": false
    }
   },
   "source": [
    "### Selecting Columns and Rows"
   ]
  },
  {
   "cell_type": "code",
   "execution_count": 20,
   "id": "f31cb481",
   "metadata": {
    "deletable": false,
    "nbgrader": {
     "cell_type": "code",
     "checksum": "68c1a2f6a5c69c470fce010b97274d43",
     "grade": false,
     "grade_id": "cell-4a89638bb4e331bb",
     "locked": false,
     "schema_version": 3,
     "solution": true,
     "task": false
    }
   },
   "outputs": [
    {
     "name": "stdout",
     "output_type": "stream",
     "text": [
      "<class 'pandas.core.series.Series'>\n"
     ]
    }
   ],
   "source": [
    "### Ex-5-Task-1\n",
    "ser = None \n",
    "\n",
    "# Select a 'title' column from product dataframe and store in separate variables as series (ser)\n",
    "### BEGIN SOLUTION \n",
    "# YOUR CODE HERE\n",
    "product = pd.read_csv(\"/home/sandeep/data_wr/pandas/computed_insight_success_of_active_sellers (1).csv\")\n",
    "ser = product['meanproductprices']\n",
    "print(type(ser))  # Should print: <class 'pandas.core.series.Series'>\n",
    "### END SOLUTION"
   ]
  },
  {
   "cell_type": "code",
   "execution_count": 29,
   "id": "db822be7",
   "metadata": {
    "deletable": false,
    "editable": false,
    "nbgrader": {
     "cell_type": "code",
     "checksum": "bc963e1b098871013a6322c33ebccce5",
     "grade": true,
     "grade_id": "cell-c5b6f7ddbbaab9df",
     "locked": true,
     "points": 1,
     "schema_version": 3,
     "solution": false,
     "task": false
    }
   },
   "outputs": [
    {
     "name": "stdout",
     "output_type": "stream",
     "text": [
      "                 merchantid  meanproductprices  meanretailprices\n",
      "0  5357bcf2bb72c5504882e889               9.00              20.0\n",
      "1  5708773c3c02161b3f8c7900               7.76              34.2\n",
      "2  5417aada4ad3ab27e954b76c               8.00               8.0\n",
      "3  570f3a713a698c14278bb51e               5.67              19.0\n",
      "4  53082ea15aefb07dfe1f2a4f               5.00              33.0\n"
     ]
    }
   ],
   "source": [
    "### Ex-5-Task-2\n",
    "product_price = None \n",
    "# Select multiple columns ('title', 'price', and 'retail price' ) from product dataframe and store in variable product_price.\n",
    "### BEGIN SOLUTION \n",
    "# YOUR CODE HERE\n",
    "product_price = product[['merchantid', 'meanproductprices', 'meanretailprices']]\n",
    "print(product_price.head())\n",
    "### END SOLUTION"
   ]
  },
  {
   "cell_type": "code",
   "execution_count": null,
   "id": "d26a0c27",
   "metadata": {
    "deletable": false,
    "editable": false,
    "nbgrader": {
     "cell_type": "code",
     "checksum": "f7a760f2c72d8cc768cff1aa19c0128d",
     "grade": true,
     "grade_id": "cell-f90c8bd6ff766b03",
     "locked": true,
     "points": 0,
     "schema_version": 3,
     "solution": false,
     "task": false
    }
   },
   "outputs": [],
   "source": []
  },
  {
   "cell_type": "markdown",
   "id": "233283c2",
   "metadata": {
    "deletable": false,
    "editable": false,
    "nbgrader": {
     "cell_type": "markdown",
     "checksum": "51f793744ecf9ea014096ff0be93af3f",
     "grade": false,
     "grade_id": "cell-b5cc8db5b5a7499e",
     "locked": true,
     "schema_version": 3,
     "solution": false,
     "task": false
    }
   },
   "source": [
    "### Selection by labels and Selection by position"
   ]
  },
  {
   "cell_type": "code",
   "execution_count": 34,
   "id": "7000eea9",
   "metadata": {
    "deletable": false,
    "nbgrader": {
     "cell_type": "code",
     "checksum": "21865fb574944fb1484e4600f85a2a19",
     "grade": false,
     "grade_id": "cell-182f37ff824d8eac",
     "locked": false,
     "schema_version": 3,
     "solution": true,
     "task": false
    }
   },
   "outputs": [
    {
     "name": "stdout",
     "output_type": "stream",
     "text": [
      "5831ae002f5e534c0a485f06\n"
     ]
    }
   ],
   "source": [
    "### Ex-5-Task-3\n",
    "single_data = None\n",
    "## Select a data of title column and at index 1572 of product dataframe\n",
    "### BEGIN SOLUTION \n",
    "# YOUR CODE HERE\n",
    "single_data = product.loc[157, 'merchantid']  # or any valid index\n",
    "print(single_data)\n",
    "\n",
    "### END SOLUTION\n"
   ]
  },
  {
   "cell_type": "code",
   "execution_count": null,
   "id": "735a1174",
   "metadata": {
    "deletable": false,
    "editable": false,
    "nbgrader": {
     "cell_type": "code",
     "checksum": "354d350037d3ce6d6bc74a3c14dc396d",
     "grade": true,
     "grade_id": "cell-aa3984006bc075f2",
     "locked": true,
     "points": 1,
     "schema_version": 3,
     "solution": false,
     "task": false
    }
   },
   "outputs": [],
   "source": []
  },
  {
   "cell_type": "code",
   "execution_count": 35,
   "id": "9ce4e5da",
   "metadata": {
    "deletable": false,
    "nbgrader": {
     "cell_type": "code",
     "checksum": "228854988bcd13a853a8973145c0d89a",
     "grade": false,
     "grade_id": "cell-859e6859ed62a2ca",
     "locked": false,
     "schema_version": 3,
     "solution": true,
     "task": false
    }
   },
   "outputs": [
    {
     "name": "stdout",
     "output_type": "stream",
     "text": [
      "366898.0\n"
     ]
    }
   ],
   "source": [
    "### Ex-5-Task-4\n",
    "single_data = None\n",
    "## Select a data of 6th column and at  5tj row of product dataframe\n",
    "### BEGIN SOLUTION \n",
    "# YOUR CODE HERE\n",
    "data = product.iloc[4, 5]\n",
    "print(data)\n",
    "### END SOLUTION"
   ]
  },
  {
   "cell_type": "code",
   "execution_count": null,
   "id": "781678a6",
   "metadata": {
    "deletable": false,
    "editable": false,
    "nbgrader": {
     "cell_type": "code",
     "checksum": "3277eda3671ffeb19a728379ac8ac39d",
     "grade": true,
     "grade_id": "cell-951cb3eacc682889",
     "locked": true,
     "points": 1,
     "schema_version": 3,
     "solution": false,
     "task": false
    }
   },
   "outputs": [],
   "source": []
  },
  {
   "cell_type": "code",
   "execution_count": 37,
   "id": "797384da",
   "metadata": {
    "deletable": false,
    "nbgrader": {
     "cell_type": "code",
     "checksum": "9570eccd6601ade20898b46c22e55f75",
     "grade": false,
     "grade_id": "cell-67b0b6c6d6ba760b",
     "locked": false,
     "schema_version": 3,
     "solution": true,
     "task": false
    }
   },
   "outputs": [
    {
     "name": "stdout",
     "output_type": "stream",
     "text": [
      "     totalunitssold  merchantratingscount  rating\n",
      "100           20000               22089.0   4.082\n",
      "101           20000               15006.0   4.084\n",
      "102           20000              200089.0   4.097\n",
      "103           20000                4107.0   4.097\n",
      "104           20000               45964.0   4.097\n",
      "..              ...                   ...     ...\n",
      "196           10000              117487.0   4.088\n",
      "197           10000               11264.0   4.101\n",
      "198           10000                2399.0   4.105\n",
      "199           10000               19436.0   4.109\n",
      "200           10000               15502.0   4.115\n",
      "\n",
      "[101 rows x 3 columns]\n"
     ]
    }
   ],
   "source": [
    "### Ex-5-Task-5\n",
    "sliced_data = None \n",
    "## Select a portion of data frame with column name currency_buyer, units_sold, merchant_rating_count, merchant_rating and with index 100 to 200\n",
    "### BEGIN SOLUTION \n",
    "# YOUR CODE HERE\n",
    "subset = product.loc[100:200, ['totalunitssold', 'merchantratingscount', 'rating']]\n",
    "print(subset)\n",
    "### END SOLUTION"
   ]
  },
  {
   "cell_type": "code",
   "execution_count": null,
   "id": "8a5aff8d",
   "metadata": {
    "deletable": false,
    "editable": false,
    "nbgrader": {
     "cell_type": "code",
     "checksum": "6fa42ffe53bc4733cddcb712ba654543",
     "grade": true,
     "grade_id": "cell-0043e436b0682c22",
     "locked": true,
     "points": 1,
     "schema_version": 3,
     "solution": false,
     "task": false
    }
   },
   "outputs": [],
   "source": []
  },
  {
   "cell_type": "code",
   "execution_count": 38,
   "id": "1c4f9d9e",
   "metadata": {
    "deletable": false,
    "nbgrader": {
     "cell_type": "code",
     "checksum": "a41d7de179813fa8e73c02108e5e2346",
     "grade": false,
     "grade_id": "cell-0d7f0352100369da",
     "locked": false,
     "schema_version": 3,
     "solution": true,
     "task": false
    }
   },
   "outputs": [
    {
     "name": "stdout",
     "output_type": "stream",
     "text": [
      "     totalunitssold  meanunitssoldperproduct  rating  merchantratingscount  \\\n",
      "100           20000                  20000.0   4.082               22089.0   \n",
      "101           20000                  20000.0   4.084               15006.0   \n",
      "102           20000                  20000.0   4.097              200089.0   \n",
      "103           20000                  20000.0   4.097                4107.0   \n",
      "104           20000                  20000.0   4.097               45964.0   \n",
      "..              ...                      ...     ...                   ...   \n",
      "195           10000                  10000.0   4.085                6651.0   \n",
      "196           10000                  10000.0   4.088              117487.0   \n",
      "197           10000                  10000.0   4.101               11264.0   \n",
      "198           10000                  10000.0   4.105                2399.0   \n",
      "199           10000                  10000.0   4.109               19436.0   \n",
      "\n",
      "     meanproductprices  meanretailprices  averagediscount  \n",
      "100               9.00               9.0              0.0  \n",
      "101               8.00              59.0             87.0  \n",
      "102              13.00              30.0             57.0  \n",
      "103              22.00              19.0            -15.0  \n",
      "104              13.00             252.0             95.0  \n",
      "..                 ...               ...              ...  \n",
      "195               8.00              22.0             64.0  \n",
      "196              12.00              13.0              8.0  \n",
      "197               7.00               6.0            -16.0  \n",
      "198               1.91               2.0              5.0  \n",
      "199              11.00              10.0            -10.0  \n",
      "\n",
      "[100 rows x 7 columns]\n"
     ]
    }
   ],
   "source": [
    "### Ex-5-Task-6\n",
    "sliced_data = None \n",
    "## Select a portion of data frame with 3rd to 8th columns and with rows 100 to 200 \n",
    "# it must only include 100 rows and 7 columns \n",
    "### BEGIN SOLUTION \n",
    "# YOUR CODE HERE\n",
    "subset = product.iloc[100:200, 2:9]\n",
    "print(subset)\n",
    "### END SOLUTION\n"
   ]
  },
  {
   "cell_type": "code",
   "execution_count": null,
   "id": "0a72eb8a",
   "metadata": {
    "deletable": false,
    "editable": false,
    "nbgrader": {
     "cell_type": "code",
     "checksum": "944861c79e135b1558d93f5aaafae51f",
     "grade": true,
     "grade_id": "cell-571e43dbc5b0d6eb",
     "locked": true,
     "points": 1,
     "schema_version": 3,
     "solution": false,
     "task": false
    }
   },
   "outputs": [],
   "source": []
  },
  {
   "cell_type": "markdown",
   "id": "6d3d47ea",
   "metadata": {
    "deletable": false,
    "editable": false,
    "nbgrader": {
     "cell_type": "markdown",
     "checksum": "25d7203a070b4ea4e452b8ff0fc5fb25",
     "grade": false,
     "grade_id": "cell-5cb5b08934d8f231",
     "locked": true,
     "schema_version": 3,
     "solution": false,
     "task": false
    }
   },
   "source": [
    "### Boolean Indexing and Conditional Filtering"
   ]
  },
  {
   "cell_type": "code",
   "execution_count": 40,
   "id": "b7e76c24",
   "metadata": {
    "deletable": false,
    "nbgrader": {
     "cell_type": "code",
     "checksum": "b579def09b4bceb6d3edbf097cd700b3",
     "grade": false,
     "grade_id": "cell-2094de1b6c7ba6c5",
     "locked": false,
     "schema_version": 3,
     "solution": true,
     "task": false
    }
   },
   "outputs": [
    {
     "name": "stdout",
     "output_type": "stream",
     "text": [
      "                   merchantid  listedproducts  totalunitssold  \\\n",
      "0    5357bcf2bb72c5504882e889               2          120000   \n",
      "13   56e43d9e3a698c3826a5feff               3           61000   \n",
      "15   53facca81c105e3d5866e212               3           60000   \n",
      "28   54bcaabb39b8c00b482a115f               1           50000   \n",
      "32   57e5db02e7f40f131adeeaf8               1           50000   \n",
      "..                        ...             ...             ...   \n",
      "923  5d676dae88a10253b1781da6               2              20   \n",
      "933  58d64937794a2b6db2f0394e               1              10   \n",
      "945  56025ed8293a5b2d24779bde               1              10   \n",
      "953  567bad8582c35f28103e5813               1               2   \n",
      "957  5d4b8931933fb13f8a1fe232               1               1   \n",
      "\n",
      "     meanunitssoldperproduct  rating  merchantratingscount  meanproductprices  \\\n",
      "0                    60000.0   4.219              320031.0               9.00   \n",
      "13                   20333.0   4.179               17816.0               8.67   \n",
      "15                   20000.0   4.157              402743.0               9.00   \n",
      "28                   50000.0   4.105               59198.0               9.00   \n",
      "32                   50000.0   4.302               37076.0               9.00   \n",
      "..                       ...     ...                   ...                ...   \n",
      "923                     10.0   3.691                 291.0               9.00   \n",
      "933                     10.0   3.873                 528.0              11.00   \n",
      "945                     10.0   4.295               22621.0              11.00   \n",
      "953                      2.0   3.999               21307.0              11.00   \n",
      "957                      1.0   4.007                1380.0              11.00   \n",
      "\n",
      "     meanretailprices  averagediscount  meandiscount  meanproductratingscount  \\\n",
      "0                20.0             54.0         54.00                   8836.0   \n",
      "13                8.0             -8.0         -8.00                   5086.0   \n",
      "15              114.0             58.0         57.67                   3986.0   \n",
      "28               81.0             89.0         89.00                   5359.0   \n",
      "32                8.0            -12.0        -12.00                  13198.0   \n",
      "..                ...              ...           ...                      ...   \n",
      "923              10.0             10.0         10.00                      0.0   \n",
      "933              70.0             85.0         85.00                      2.0   \n",
      "945              30.0             64.0         64.00                      0.0   \n",
      "953              10.0            -10.0        -10.00                      1.0   \n",
      "957              30.0             64.0         64.00                      0.0   \n",
      "\n",
      "     totalurgencycount  urgencytextrate  \n",
      "0                  1.0             50.0  \n",
      "13                 1.0             33.0  \n",
      "15                 1.0             33.0  \n",
      "28                 NaN              NaN  \n",
      "32                 NaN              NaN  \n",
      "..                 ...              ...  \n",
      "923                1.0             50.0  \n",
      "933                NaN              NaN  \n",
      "945                1.0            100.0  \n",
      "953                NaN              NaN  \n",
      "957                NaN              NaN  \n",
      "\n",
      "[205 rows x 13 columns]\n"
     ]
    }
   ],
   "source": [
    "### Ex-5-Task-7\n",
    "mean = None\n",
    "Q3 = None \n",
    "records = None \n",
    "# Find mean and 3rd quantile of the price from product dataframe and get all the records that lies between mean and Q3\n",
    "### BEGIN SOLUTION \n",
    "# YOUR CODE HERE\n",
    "mean_price = product['meanproductprices'].mean()\n",
    "q3_price = product['meanproductprices'].quantile(0.75)\n",
    "\n",
    "records = product[(product['meanproductprices'] > mean_price) & (product['meanproductprices'] <= q3_price)]\n",
    "print(records)\n",
    "### END SOLUTION"
   ]
  },
  {
   "cell_type": "code",
   "execution_count": null,
   "id": "c74fcd54",
   "metadata": {
    "deletable": false,
    "editable": false,
    "nbgrader": {
     "cell_type": "code",
     "checksum": "f2b903d71bd567696b5048dff622901e",
     "grade": true,
     "grade_id": "cell-ccd387feabc78546",
     "locked": true,
     "points": 1,
     "schema_version": 3,
     "solution": false,
     "task": false
    }
   },
   "outputs": [],
   "source": []
  },
  {
   "cell_type": "code",
   "execution_count": 51,
   "id": "72f11aab",
   "metadata": {
    "deletable": false,
    "nbgrader": {
     "cell_type": "code",
     "checksum": "3bf86349ae569eaa410f5b3c71f319a2",
     "grade": false,
     "grade_id": "cell-23a0fd79d3c282e8",
     "locked": false,
     "schema_version": 3,
     "solution": true,
     "task": false
    }
   },
   "outputs": [
    {
     "name": "stdout",
     "output_type": "stream",
     "text": [
      "                                                  title  \\\n",
      "0     2020 Summer Vintage Flamingo Print  Pajamas Se...   \n",
      "1     SSHOUSE Summer Casual Sleeveless Soirée Party ...   \n",
      "3     Hot Summer Cool T-shirt pour les femmes Mode T...   \n",
      "14    2019 Summer Women's Fashion Nouvelle robe sans...   \n",
      "31    Sweet Beading Cami Débardeurs pour femmes Spag...   \n",
      "...                                                 ...   \n",
      "1545  Summer Fashion Cute \" Dog Mom \" Letter Printed...   \n",
      "1551  New Fashion Women's Summer Drawstring Pants  L...   \n",
      "1556  Summer Beach Safety Shorts Leggings Lady Leggi...   \n",
      "1562   Summer Women s Fashion Lace Up Tie Pants Plus...   \n",
      "1570  Nouveautés Hommes Siwmwear Beach-Shorts Hommes...   \n",
      "\n",
      "                                             title_orig  price  retail_price  \\\n",
      "0     2020 Summer Vintage Flamingo Print  Pajamas Se...  16.00            14   \n",
      "1      Women's Casual Summer Sleeveless Sexy Mini Dress   8.00            22   \n",
      "3     Hot Summer Cool T Shirt for Women Fashion Tops...   8.00             8   \n",
      "14    2019 Summer Women's Fashion New Sleeveless Pol...   2.00             2   \n",
      "31    Sweet Beading Cami Tank Tops for Women Spaghet...   5.65             6   \n",
      "...                                                 ...    ...           ...   \n",
      "1545  Summer Fashion  Cute \" Dog  Mom \" Letter Print...   9.00             8   \n",
      "1551  New Fashion Women's Summer Drawstring Pants  L...   7.00             6   \n",
      "1556  Summer Beach Safety Shorts Lady Leggings Pants...   7.00             6   \n",
      "1562   Summer Women s Fashion Lace Up Tie Pants Plus...   4.93             6   \n",
      "1570  New Men Siwmwear Beach-Shorts Men Summer Quick...   5.00            19   \n",
      "\n",
      "     currency_buyer  units_sold  uses_ad_boosts  rating  rating_count  \\\n",
      "0               EUR         100               0    3.76            54   \n",
      "1               EUR       20000               1    3.45          6135   \n",
      "3               EUR        5000               1    4.03           579   \n",
      "14              EUR       20000               1    3.65          2457   \n",
      "31              EUR        1000               1    4.37           217   \n",
      "...             ...         ...             ...     ...           ...   \n",
      "1545            EUR        5000               0    4.28          1120   \n",
      "1551            EUR         100               1    3.67            18   \n",
      "1556            EUR        1000               1    3.98           129   \n",
      "1562            EUR         100               0    3.77            47   \n",
      "1570            EUR         100               0    3.71            59   \n",
      "\n",
      "      rating_five_count  ...  merchant_rating_count  merchant_rating  \\\n",
      "0                  26.0  ...                    568         4.128521   \n",
      "1                2269.0  ...                  17752         3.899673   \n",
      "3                 295.0  ...                  23832         4.020435   \n",
      "14                984.0  ...                  55499         4.138885   \n",
      "31                137.0  ...                  44837         4.065905   \n",
      "...                 ...  ...                    ...              ...   \n",
      "1545              698.0  ...                  24564         3.928880   \n",
      "1551                7.0  ...                  12309         4.045170   \n",
      "1556               64.0  ...                    794         4.277078   \n",
      "1562               22.0  ...                  17752         3.899673   \n",
      "1570               24.0  ...                    210         3.961905   \n",
      "\n",
      "                   merchant_id  merchant_has_profile_picture  \\\n",
      "0     595097d6a26f6e070cb878d1                             0   \n",
      "1     56458aa03a698c35c9050988                             0   \n",
      "3     58cfdefdacb37b556efdff7c                             0   \n",
      "14    5926c5ace8ff5525241b368d                             0   \n",
      "31    54d30f53dc8ce133f79b434d                             0   \n",
      "...                        ...                           ...   \n",
      "1545  5763e55cc6053f5e70522ad7                             0   \n",
      "1551  5acaf29d5ebcfd72403106a8                             1   \n",
      "1556  58b7d6dd3c18975a18817d64                             0   \n",
      "1562  56458aa03a698c35c9050988                             0   \n",
      "1570  5b42da1bf64320209fc8da69                             0   \n",
      "\n",
      "                               merchant_profile_picture  \\\n",
      "0                                                   NaN   \n",
      "1                                                   NaN   \n",
      "3                                                   NaN   \n",
      "14                                                  NaN   \n",
      "31                                                  NaN   \n",
      "...                                                 ...   \n",
      "1545                                                NaN   \n",
      "1551  https://s3-us-west-1.amazonaws.com/sweeper-pro...   \n",
      "1556                                                NaN   \n",
      "1562                                                NaN   \n",
      "1570                                                NaN   \n",
      "\n",
      "                                          product_url  \\\n",
      "0     https://www.wish.com/c/5e9ae51d43d6a96e303acdb0   \n",
      "1     https://www.wish.com/c/58940d436a0d3d5da4e95a38   \n",
      "3     https://www.wish.com/c/5cedf17ad1d44c52c59e4aca   \n",
      "14    https://www.wish.com/c/5cc2ce18bc97595b6549fa14   \n",
      "31    https://www.wish.com/c/5c9ee457c233fd74ef4c8a84   \n",
      "...                                               ...   \n",
      "1545  https://www.wish.com/c/5c6ccaed29eb172d628bb404   \n",
      "1551  https://www.wish.com/c/5cc7b4c98b94871ee33b33b6   \n",
      "1556  https://www.wish.com/c/5cb1abbb53de5b5d80d22e2e   \n",
      "1562  https://www.wish.com/c/5d58daef3159a812b05933d2   \n",
      "1570  https://www.wish.com/c/5e74be96034d613d42b52dfe   \n",
      "\n",
      "                                        product_picture  \\\n",
      "0     https://contestimg.wish.com/api/webimage/5e9ae...   \n",
      "1     https://contestimg.wish.com/api/webimage/58940...   \n",
      "3     https://contestimg.wish.com/api/webimage/5cedf...   \n",
      "14    https://contestimg.wish.com/api/webimage/5cc2c...   \n",
      "31    https://contestimg.wish.com/api/webimage/5c9ee...   \n",
      "...                                                 ...   \n",
      "1545  https://contestimg.wish.com/api/webimage/5c6cc...   \n",
      "1551  https://contestimg.wish.com/api/webimage/5cc7b...   \n",
      "1556  https://contestimg.wish.com/api/webimage/5cb1a...   \n",
      "1562  https://contestimg.wish.com/api/webimage/5d58d...   \n",
      "1570  https://contestimg.wish.com/api/webimage/5e74b...   \n",
      "\n",
      "                    product_id   theme crawl_month  \n",
      "0     5e9ae51d43d6a96e303acdb0  summer     2020-08  \n",
      "1     58940d436a0d3d5da4e95a38  summer     2020-08  \n",
      "3     5cedf17ad1d44c52c59e4aca  summer     2020-08  \n",
      "14    5cc2ce18bc97595b6549fa14  summer     2020-08  \n",
      "31    5c9ee457c233fd74ef4c8a84  summer     2020-08  \n",
      "...                        ...     ...         ...  \n",
      "1545  5c6ccaed29eb172d628bb404  summer     2020-08  \n",
      "1551  5cc7b4c98b94871ee33b33b6  summer     2020-08  \n",
      "1556  5cb1abbb53de5b5d80d22e2e  summer     2020-08  \n",
      "1562  5d58daef3159a812b05933d2  summer     2020-08  \n",
      "1570  5e74be96034d613d42b52dfe  summer     2020-08  \n",
      "\n",
      "[294 rows x 43 columns]\n"
     ]
    }
   ],
   "source": [
    "### Ex-5-Task-8\n",
    "summer_product = None \n",
    "## Find all the row in product dataframe containing 'summer' keyword in its title. Make sure the string is lower to get all the records. \n",
    "### BEGIN SOLUTION \n",
    "# YOUR CODE HERE\n",
    "product = pd.read_csv(\"/home/sandeep/data_wr/pandas/summer-products-with-rating-and-performance_2020-08 (1).csv\")\n",
    "\n",
    "\n",
    "summer_product = product[product['title'].str.lower().str.contains('summer', na=False)]\n",
    "\n",
    "print(summer_product)\n",
    "\n",
    "### END SOLUTION"
   ]
  },
  {
   "cell_type": "code",
   "execution_count": null,
   "id": "819c57cd",
   "metadata": {
    "deletable": false,
    "editable": false,
    "nbgrader": {
     "cell_type": "code",
     "checksum": "f87b654f5dfedb8dcfd6ffd344ca25bd",
     "grade": true,
     "grade_id": "cell-251fe461d71bd244",
     "locked": true,
     "points": 1,
     "schema_version": 3,
     "solution": false,
     "task": false
    }
   },
   "outputs": [],
   "source": []
  },
  {
   "cell_type": "markdown",
   "id": "146a4ec1",
   "metadata": {
    "deletable": false,
    "editable": false,
    "nbgrader": {
     "cell_type": "markdown",
     "checksum": "0090d796121a689f7fa908fa1746a351",
     "grade": false,
     "grade_id": "cell-1a1900ac9c9c957e",
     "locked": true,
     "schema_version": 3,
     "solution": false,
     "task": false
    }
   },
   "source": [
    "## Handling Missing Data"
   ]
  },
  {
   "cell_type": "code",
   "execution_count": 52,
   "id": "badb076d",
   "metadata": {
    "deletable": false,
    "nbgrader": {
     "cell_type": "code",
     "checksum": "b444343b03d223781552a9159de4dce9",
     "grade": false,
     "grade_id": "cell-e4dcb1feba437a37",
     "locked": false,
     "schema_version": 3,
     "solution": true,
     "task": false
    }
   },
   "outputs": [
    {
     "name": "stdout",
     "output_type": "stream",
     "text": [
      "title                              0\n",
      "title_orig                         0\n",
      "price                              0\n",
      "retail_price                       0\n",
      "currency_buyer                     0\n",
      "units_sold                         0\n",
      "uses_ad_boosts                     0\n",
      "rating                             0\n",
      "rating_count                       0\n",
      "rating_five_count                 45\n",
      "rating_four_count                 45\n",
      "rating_three_count                45\n",
      "rating_two_count                  45\n",
      "rating_one_count                  45\n",
      "badges_count                       0\n",
      "badge_local_product                0\n",
      "badge_product_quality              0\n",
      "badge_fast_shipping                0\n",
      "tags                               0\n",
      "product_color                     41\n",
      "product_variation_size_id         14\n",
      "product_variation_inventory        0\n",
      "shipping_option_name               0\n",
      "shipping_option_price              0\n",
      "shipping_is_express                0\n",
      "countries_shipped_to               0\n",
      "inventory_total                    0\n",
      "has_urgency_banner              1100\n",
      "urgency_text                    1100\n",
      "origin_country                    17\n",
      "merchant_title                     0\n",
      "merchant_name                      4\n",
      "merchant_info_subtitle             1\n",
      "merchant_rating_count              0\n",
      "merchant_rating                    0\n",
      "merchant_id                        0\n",
      "merchant_has_profile_picture       0\n",
      "merchant_profile_picture        1347\n",
      "product_url                        0\n",
      "product_picture                    0\n",
      "product_id                         0\n",
      "theme                              0\n",
      "crawl_month                        0\n",
      "dtype: int64\n"
     ]
    }
   ],
   "source": [
    "### Ex-6-Task-1\n",
    "count_na = None\n",
    "# Count the number of null data in each columns\n",
    "### BEGIN SOLUTION \n",
    "# YOUR CODE HERE\n",
    "null_counts = product.isnull().sum()\n",
    "print(null_counts)\n",
    "### END SOLUTION"
   ]
  },
  {
   "cell_type": "code",
   "execution_count": null,
   "id": "69336f3c",
   "metadata": {
    "deletable": false,
    "editable": false,
    "nbgrader": {
     "cell_type": "code",
     "checksum": "5d9a129e660fd144c1d149a86960b1cc",
     "grade": true,
     "grade_id": "cell-bfb77311b2d473eb",
     "locked": true,
     "points": 1,
     "schema_version": 3,
     "solution": false,
     "task": false
    }
   },
   "outputs": [],
   "source": []
  },
  {
   "cell_type": "code",
   "execution_count": 53,
   "id": "b573a4b3",
   "metadata": {
    "deletable": false,
    "nbgrader": {
     "cell_type": "code",
     "checksum": "13ee28ffb023462c24066f20e378469b",
     "grade": false,
     "grade_id": "cell-7590f5c0fd1abc99",
     "locked": false,
     "schema_version": 3,
     "solution": true,
     "task": false
    }
   },
   "outputs": [
    {
     "name": "stdout",
     "output_type": "stream",
     "text": [
      "product_color        0\n",
      "rating_five_count    0\n",
      "rating_four_count    0\n",
      "dtype: int64\n"
     ]
    },
    {
     "name": "stderr",
     "output_type": "stream",
     "text": [
      "/tmp/ipykernel_3884/3602854586.py:8: FutureWarning: A value is trying to be set on a copy of a DataFrame or Series through chained assignment using an inplace method.\n",
      "The behavior will change in pandas 3.0. This inplace method will never work because the intermediate object on which we are setting values always behaves as a copy.\n",
      "\n",
      "For example, when doing 'df[col].method(value, inplace=True)', try using 'df.method({col: value}, inplace=True)' or df[col] = df[col].method(value) instead, to perform the operation inplace on the original object.\n",
      "\n",
      "\n",
      "  product['product_color'].fillna(product['product_color'].mode()[0], inplace=True)\n",
      "/tmp/ipykernel_3884/3602854586.py:11: FutureWarning: A value is trying to be set on a copy of a DataFrame or Series through chained assignment using an inplace method.\n",
      "The behavior will change in pandas 3.0. This inplace method will never work because the intermediate object on which we are setting values always behaves as a copy.\n",
      "\n",
      "For example, when doing 'df[col].method(value, inplace=True)', try using 'df.method({col: value}, inplace=True)' or df[col] = df[col].method(value) instead, to perform the operation inplace on the original object.\n",
      "\n",
      "\n",
      "  product['rating_five_count'].fillna(product['rating_five_count'].mean(), inplace=True)\n",
      "/tmp/ipykernel_3884/3602854586.py:14: FutureWarning: A value is trying to be set on a copy of a DataFrame or Series through chained assignment using an inplace method.\n",
      "The behavior will change in pandas 3.0. This inplace method will never work because the intermediate object on which we are setting values always behaves as a copy.\n",
      "\n",
      "For example, when doing 'df[col].method(value, inplace=True)', try using 'df.method({col: value}, inplace=True)' or df[col] = df[col].method(value) instead, to perform the operation inplace on the original object.\n",
      "\n",
      "\n",
      "  product['rating_four_count'].fillna(product['rating_four_count'].median(), inplace=True)\n"
     ]
    }
   ],
   "source": [
    "### Ex-6-Task-2\n",
    "\n",
    "# Impute the  product color with maximum occur value as it is the categorical columns \n",
    "# Impute the rating five count by mean and rating four count by median of respective columns\n",
    "### BEGIN SOLUTION \n",
    "# YOUR CODE HERE\n",
    "# Impute product_color with the mode (most frequent value)\n",
    "product['product_color'].fillna(product['product_color'].mode()[0], inplace=True)\n",
    "\n",
    "# Impute rating_five_count with the mean\n",
    "product['rating_five_count'].fillna(product['rating_five_count'].mean(), inplace=True)\n",
    "\n",
    "# Impute rating_four_count with the median\n",
    "product['rating_four_count'].fillna(product['rating_four_count'].median(), inplace=True)\n",
    "\n",
    "# Optional: check if nulls are now handled\n",
    "print(product[['product_color', 'rating_five_count', 'rating_four_count']].isnull().sum())\n",
    "### END SOLUTION"
   ]
  },
  {
   "cell_type": "code",
   "execution_count": null,
   "id": "48c2fbcf",
   "metadata": {
    "deletable": false,
    "editable": false,
    "nbgrader": {
     "cell_type": "code",
     "checksum": "cee2a0941f478af7d7cb80afd8c64a4c",
     "grade": true,
     "grade_id": "cell-f9ddfbd10b3a286f",
     "locked": true,
     "points": 2,
     "schema_version": 3,
     "solution": false,
     "task": false
    }
   },
   "outputs": [],
   "source": []
  },
  {
   "cell_type": "markdown",
   "id": "89931b5e",
   "metadata": {
    "deletable": false,
    "editable": false,
    "nbgrader": {
     "cell_type": "markdown",
     "checksum": "fb13b59dc2125e488b76ff3a55d9c7f5",
     "grade": false,
     "grade_id": "cell-63b225fd1ca69870",
     "locked": true,
     "schema_version": 3,
     "solution": false,
     "task": false
    }
   },
   "source": [
    "## Data Cleaning"
   ]
  },
  {
   "cell_type": "markdown",
   "id": "8ba952b9",
   "metadata": {
    "deletable": false,
    "editable": false,
    "nbgrader": {
     "cell_type": "markdown",
     "checksum": "8ad4302b5ef646270946c75b7bc90022",
     "grade": false,
     "grade_id": "cell-2f5b47c21f602b61",
     "locked": true,
     "schema_version": 3,
     "solution": false,
     "task": false
    }
   },
   "source": [
    "### Removing Duplicates"
   ]
  },
  {
   "cell_type": "code",
   "execution_count": 54,
   "id": "2853ae66",
   "metadata": {
    "deletable": false,
    "nbgrader": {
     "cell_type": "code",
     "checksum": "80bb7c5ced28678e68f963851ce384d5",
     "grade": false,
     "grade_id": "cell-7680cf8b324c91be",
     "locked": false,
     "schema_version": 3,
     "solution": true,
     "task": false
    }
   },
   "outputs": [
    {
     "name": "stdout",
     "output_type": "stream",
     "text": [
      "Number of duplicate rows: 34\n",
      "Shape after dropping duplicates: (1539, 43)\n"
     ]
    }
   ],
   "source": [
    "### Ex-7-Task-1\n",
    "duplicate_count = None\n",
    "df_drop_duplicate = None # store the data frame after removing duplicates \n",
    "# Count no. of duplicates value in product dataframe and drop all the duplicate values \n",
    "### BEGIN SOLUTION \n",
    "# YOUR CODE HERE\n",
    "# Count number of duplicate rows\n",
    "duplicate_count = product.duplicated().sum()\n",
    "print(f\"Number of duplicate rows: {duplicate_count}\")\n",
    "\n",
    "# Drop duplicate rows\n",
    "product.drop_duplicates(inplace=True)\n",
    "\n",
    "# Confirm removal\n",
    "print(f\"Shape after dropping duplicates: {product.shape}\")\n",
    "### END SOLUTION"
   ]
  },
  {
   "cell_type": "code",
   "execution_count": null,
   "id": "89a5cb7c",
   "metadata": {
    "deletable": false,
    "editable": false,
    "nbgrader": {
     "cell_type": "code",
     "checksum": "56de2c66a7e01766464fd3b9fe1bf190",
     "grade": true,
     "grade_id": "cell-3e3c733c0a4b0e75",
     "locked": true,
     "points": 1,
     "schema_version": 3,
     "solution": false,
     "task": false
    }
   },
   "outputs": [],
   "source": []
  },
  {
   "cell_type": "markdown",
   "id": "427ad132",
   "metadata": {
    "deletable": false,
    "editable": false,
    "nbgrader": {
     "cell_type": "markdown",
     "checksum": "7c71e8cc4af65c1f3ac935bce48fe631",
     "grade": false,
     "grade_id": "cell-a06caa9f77a21271",
     "locked": true,
     "schema_version": 3,
     "solution": false,
     "task": false
    }
   },
   "source": [
    "## Data Transformation"
   ]
  },
  {
   "cell_type": "markdown",
   "id": "79e3826b",
   "metadata": {
    "deletable": false,
    "editable": false,
    "nbgrader": {
     "cell_type": "markdown",
     "checksum": "27270bfd32345b83fd489ae9d259b713",
     "grade": false,
     "grade_id": "cell-9f5713f7da6b80f7",
     "locked": true,
     "schema_version": 3,
     "solution": false,
     "task": false
    }
   },
   "source": [
    "### Applying Functions: Apply, map"
   ]
  },
  {
   "cell_type": "code",
   "execution_count": 63,
   "id": "3e484c30",
   "metadata": {
    "deletable": false,
    "nbgrader": {
     "cell_type": "code",
     "checksum": "83d9cef3a30f41cc1749d2dbc59802fa",
     "grade": false,
     "grade_id": "cell-37bdbc2fe79bf59e",
     "locked": false,
     "schema_version": 3,
     "solution": true,
     "task": false
    }
   },
   "outputs": [
    {
     "name": "stdout",
     "output_type": "stream",
     "text": [
      "   price  retail_price  units_sold  total_profit\n",
      "0  16.00            14         100        -200.0\n",
      "1   8.00            22       20000      280000.0\n",
      "2   8.00            43         100        3500.0\n",
      "3   8.00             8        5000           0.0\n",
      "4   2.72             3         100          28.0\n"
     ]
    }
   ],
   "source": [
    "### Ex-7-Task-2\n",
    "\n",
    "#df_sales['total_profit'] = None\n",
    "# Calculate the total profit using apply function in pandas and save in total_profit column\n",
    "# Formulae: total_profit = (mean product price - mean retail price) * total units sold\n",
    "### BEGIN SOLUTION \n",
    "# YOUR CODE HERE\n",
    "### Ex-7-Task-2\n",
    "\n",
    "# Remove rows with missing values in required columns to avoid errors\n",
    "product = product.dropna(subset=['price', 'retail_price', 'units_sold'])\n",
    "\n",
    "# Calculate total profit using apply and save to new column 'total_profit'\n",
    "product['total_profit'] = product.apply(\n",
    "    lambda row: (row['retail_price'] - row['price']) * row['units_sold'],\n",
    "    axis=1\n",
    ")\n",
    "\n",
    "print(product[['price', 'retail_price', 'units_sold', 'total_profit']].head())\n",
    "### END SOLUTION"
   ]
  },
  {
   "cell_type": "code",
   "execution_count": null,
   "id": "d3c2003d",
   "metadata": {
    "deletable": false,
    "editable": false,
    "nbgrader": {
     "cell_type": "code",
     "checksum": "cc4c22eb00de8ba7d64f4dc4f9387f55",
     "grade": true,
     "grade_id": "cell-738ff67865db7568",
     "locked": true,
     "points": 1,
     "schema_version": 3,
     "solution": false,
     "task": false
    }
   },
   "outputs": [],
   "source": []
  },
  {
   "cell_type": "markdown",
   "id": "b2d1416b",
   "metadata": {
    "deletable": false,
    "editable": false,
    "nbgrader": {
     "cell_type": "markdown",
     "checksum": "c927d77ef14908ef83b762b85947b314",
     "grade": false,
     "grade_id": "cell-ef8a78e397b10b5a",
     "locked": true,
     "schema_version": 3,
     "solution": false,
     "task": false
    }
   },
   "source": [
    "### Binning and Categorizing Data"
   ]
  },
  {
   "cell_type": "code",
   "execution_count": 65,
   "id": "a38b8a53",
   "metadata": {
    "deletable": false,
    "nbgrader": {
     "cell_type": "code",
     "checksum": "8d4ad5fe8027cf9f6c6109109ce6fe5d",
     "grade": false,
     "grade_id": "cell-adae3d3197a50a0d",
     "locked": false,
     "schema_version": 3,
     "solution": true,
     "task": false
    }
   },
   "outputs": [
    {
     "name": "stdout",
     "output_type": "stream",
     "text": [
      "   units_sold sales_category\n",
      "0         100      low_sales\n",
      "1       20000     high_sales\n",
      "2         100      low_sales\n",
      "3        5000     high_sales\n",
      "4         100      low_sales\n",
      "5          10      low_sales\n",
      "6       50000     high_sales\n",
      "7        1000   medium_sales\n",
      "8         100      low_sales\n",
      "9        5000     high_sales\n"
     ]
    }
   ],
   "source": [
    "### Ex-7-Task-3\n",
    "#df_product['sales_category'] = None\n",
    "# Divide the row into three category based on their units sold and save it into the sales_category column of produdct dataframe\n",
    "# category are : low_sales, medium sales, and high sales \n",
    "### BEGIN SOLUTION \n",
    "# YOUR CODE HERE\n",
    "# Calculate the quantiles to define boundaries\n",
    "low_threshold = product['units_sold'].quantile(0.33)\n",
    "high_threshold = product['units_sold'].quantile(0.66)\n",
    "\n",
    "def categorize_sales(units):\n",
    "    if units <= low_threshold:\n",
    "        return 'low_sales'\n",
    "    elif units <= high_threshold:\n",
    "        return 'medium_sales'\n",
    "    else:\n",
    "        return 'high_sales'\n",
    "\n",
    "# Apply the function to create the new column\n",
    "product['sales_category'] = product['units_sold'].apply(categorize_sales)\n",
    "\n",
    "print(product[['units_sold', 'sales_category']].head(10))\n",
    "### END SOLUTION"
   ]
  },
  {
   "cell_type": "code",
   "execution_count": null,
   "id": "a02c2ece",
   "metadata": {
    "deletable": false,
    "editable": false,
    "nbgrader": {
     "cell_type": "code",
     "checksum": "65dcba4ef640ac656d3b52dba4594bfa",
     "grade": true,
     "grade_id": "cell-cf8b45ec41dc1658",
     "locked": true,
     "points": 1,
     "schema_version": 3,
     "solution": false,
     "task": false
    }
   },
   "outputs": [],
   "source": []
  },
  {
   "cell_type": "markdown",
   "id": "badb8b3e",
   "metadata": {
    "deletable": false,
    "editable": false,
    "nbgrader": {
     "cell_type": "markdown",
     "checksum": "3a56bb525106dbc2038dc09d134201e8",
     "grade": false,
     "grade_id": "cell-ab03aef8c319efae",
     "locked": true,
     "schema_version": 3,
     "solution": false,
     "task": false
    }
   },
   "source": [
    "## Data Aggregation and Grouping"
   ]
  },
  {
   "cell_type": "markdown",
   "id": "771796e6",
   "metadata": {
    "deletable": false,
    "editable": false,
    "nbgrader": {
     "cell_type": "markdown",
     "checksum": "90d17a4ac0a4ef3e117807d7754cc141",
     "grade": false,
     "grade_id": "cell-336a67c716f289ad",
     "locked": true,
     "schema_version": 3,
     "solution": false,
     "task": false
    }
   },
   "source": [
    "### Groupby aggregation function\n"
   ]
  },
  {
   "cell_type": "code",
   "execution_count": 66,
   "id": "8eb680d5",
   "metadata": {
    "deletable": false,
    "nbgrader": {
     "cell_type": "code",
     "checksum": "1e23172f7d0139d4d1a871b04c0870bd",
     "grade": false,
     "grade_id": "cell-bc09883254c13cbb",
     "locked": false,
     "schema_version": 3,
     "solution": true,
     "task": false
    }
   },
   "outputs": [
    {
     "name": "stdout",
     "output_type": "stream",
     "text": [
      "  sales_category     price  retail_price  units_sold  rating_five_count\n",
      "0     high_sales  8.380849          10.0        5000       11548.000000\n",
      "1      low_sales  8.179126          10.0           1         442.263743\n",
      "2   medium_sales  8.597022          11.0        1000         520.000000\n"
     ]
    }
   ],
   "source": [
    "### Ex-8-Task-1\n",
    "\n",
    "group_df = None \n",
    "# Create a group of low, medium and high sales and then calulcate, mean of price, median of retail price, min of units_sold and max of rating_five_count of each category\n",
    "### BEGIN SOLUTION \n",
    "# YOUR CODE HERE\n",
    "# Assuming product['sales_category'] is already created as before\n",
    "\n",
    "grouped_stats = product.groupby('sales_category').agg({\n",
    "    'price': 'mean',                 # mean of price\n",
    "    'retail_price': 'median',       # median of retail_price\n",
    "    'units_sold': 'min',            # min of units_sold\n",
    "    'rating_five_count': 'max'      # max of rating_five_count\n",
    "}).reset_index()\n",
    "\n",
    "print(grouped_stats)\n",
    "### END SOLUTION"
   ]
  },
  {
   "cell_type": "code",
   "execution_count": null,
   "id": "707ab870",
   "metadata": {
    "deletable": false,
    "editable": false,
    "nbgrader": {
     "cell_type": "code",
     "checksum": "a3e58f54137eb898fa58cd171517a720",
     "grade": true,
     "grade_id": "cell-8fe59ad3ea8407dd",
     "locked": true,
     "points": 1,
     "schema_version": 3,
     "solution": false,
     "task": false
    }
   },
   "outputs": [],
   "source": []
  },
  {
   "cell_type": "code",
   "execution_count": 67,
   "id": "1f352a84",
   "metadata": {
    "deletable": false,
    "nbgrader": {
     "cell_type": "code",
     "checksum": "05c6e533d41cf034bde477f91d4a8674",
     "grade": false,
     "grade_id": "cell-255f0b442e9f0439",
     "locked": false,
     "schema_version": 3,
     "solution": true,
     "task": false
    }
   },
   "outputs": [
    {
     "name": "stdout",
     "output_type": "stream",
     "text": [
      "  sales_category     price  retail_price  units_sold  rating_five_count\n",
      "0     high_sales  0.390999      1.414904    1.069442           1.193508\n",
      "1      low_sales  0.554215      1.225092    0.339066           2.542784\n",
      "2   medium_sales  0.432905      1.270781    0.000000           0.792245\n"
     ]
    }
   ],
   "source": [
    "### Ex-8-Task-2\n",
    "group_df = None\n",
    "## Calculate the Coefficient of Variation of each sales category\n",
    "### BEGIN SOLUTION \n",
    "# YOUR CODE HERE\n",
    "# Define a function to calculate CV (std/mean)\n",
    "def coef_variation(x):\n",
    "    return x.std() / x.mean()\n",
    "\n",
    "# Group by sales_category and calculate CV for each numeric column of interest\n",
    "cv_stats = product.groupby('sales_category').agg({\n",
    "    'price': coef_variation,\n",
    "    'retail_price': coef_variation,\n",
    "    'units_sold': coef_variation,\n",
    "    'rating_five_count': coef_variation\n",
    "}).reset_index()\n",
    "\n",
    "print(cv_stats)### END SOLUTION\n"
   ]
  },
  {
   "cell_type": "code",
   "execution_count": null,
   "id": "4c299817",
   "metadata": {
    "deletable": false,
    "editable": false,
    "nbgrader": {
     "cell_type": "code",
     "checksum": "b507610a564605d71a19a5a1515775b0",
     "grade": true,
     "grade_id": "cell-65228f6081c39dd9",
     "locked": true,
     "points": 1,
     "schema_version": 3,
     "solution": false,
     "task": false
    }
   },
   "outputs": [],
   "source": []
  },
  {
   "cell_type": "code",
   "execution_count": 69,
   "id": "82187787",
   "metadata": {
    "deletable": false,
    "nbgrader": {
     "cell_type": "code",
     "checksum": "8dc7788f5775e9869b018fd635eba79c",
     "grade": false,
     "grade_id": "cell-0eb63d9d4433e462",
     "locked": false,
     "schema_version": 3,
     "solution": true,
     "task": false
    }
   },
   "outputs": [
    {
     "name": "stdout",
     "output_type": "stream",
     "text": [
      "  sales_category  price  price_z_score\n",
      "0      low_sales  16.00       1.725323\n",
      "1     high_sales   8.00      -0.116222\n",
      "2      low_sales   8.00      -0.039516\n",
      "3     high_sales   8.00      -0.116222\n",
      "4      low_sales   2.72      -1.204310\n",
      "5      low_sales   3.92      -0.939584\n",
      "6     high_sales   7.00      -0.421388\n",
      "7   medium_sales  12.00       0.914362\n",
      "8      low_sales  11.00       0.622299\n",
      "9     high_sales   5.78      -0.793691\n"
     ]
    }
   ],
   "source": [
    "### Ex-8-Task-3\n",
    "#df_product['price_zscore'] = None\n",
    "## Calculate the Z_score of price for each sales category\n",
    "### BEGIN SOLUTION \n",
    "# YOUR CODE HERE\n",
    "# Calculate Z-score of price within each sales category\n",
    "product['price_z_score'] = product.groupby('sales_category')['price'].transform(\n",
    "    lambda x: (x - x.mean()) / x.std()\n",
    ")\n",
    "\n",
    "print(product[['sales_category', 'price', 'price_z_score']].head(10))\n",
    "### END SOLUTION"
   ]
  },
  {
   "cell_type": "code",
   "execution_count": null,
   "id": "2a4b0c72",
   "metadata": {
    "deletable": false,
    "editable": false,
    "nbgrader": {
     "cell_type": "code",
     "checksum": "c4d0ff0a80620e4f98acd511ef640e42",
     "grade": true,
     "grade_id": "cell-6e683a9fe7f0ebae",
     "locked": true,
     "points": 1,
     "schema_version": 3,
     "solution": false,
     "task": false
    }
   },
   "outputs": [],
   "source": []
  },
  {
   "cell_type": "markdown",
   "id": "332105b2",
   "metadata": {
    "deletable": false,
    "editable": false,
    "nbgrader": {
     "cell_type": "markdown",
     "checksum": "cea5216760ade70f3b347ae198368566",
     "grade": false,
     "grade_id": "cell-73cfb7e1ff209c75",
     "locked": true,
     "schema_version": 3,
     "solution": false,
     "task": false
    }
   },
   "source": [
    "## Merging"
   ]
  },
  {
   "cell_type": "code",
   "execution_count": 75,
   "id": "7c2a1017",
   "metadata": {
    "deletable": false,
    "nbgrader": {
     "cell_type": "code",
     "checksum": "3269c19a53b455cdd8b4a9c7bba095b6",
     "grade": false,
     "grade_id": "cell-d35eb6f93360efbd",
     "locked": false,
     "schema_version": 3,
     "solution": true,
     "task": false
    }
   },
   "outputs": [
    {
     "name": "stdout",
     "output_type": "stream",
     "text": [
      "                 merchantid  listedproducts  totalunitssold  \\\n",
      "0  5357bcf2bb72c5504882e889               2          120000   \n",
      "1  5357bcf2bb72c5504882e889               2          120000   \n",
      "2  5708773c3c02161b3f8c7900               5          107100   \n",
      "3  5708773c3c02161b3f8c7900               5          107100   \n",
      "4  5708773c3c02161b3f8c7900               5          107100   \n",
      "\n",
      "   meanunitssoldperproduct  rating_x  merchantratingscount  meanproductprices  \\\n",
      "0                  60000.0     4.219              320031.0               9.00   \n",
      "1                  60000.0     4.219              320031.0               9.00   \n",
      "2                  21420.0     3.934              139223.0               7.76   \n",
      "3                  21420.0     3.934              139223.0               7.76   \n",
      "4                  21420.0     3.934              139223.0               7.76   \n",
      "\n",
      "   meanretailprices  averagediscount  meandiscount  ...  \\\n",
      "0              20.0             54.0          54.0  ...   \n",
      "1              20.0             54.0          54.0  ...   \n",
      "2              34.2             61.0          61.0  ...   \n",
      "3              34.2             61.0          61.0  ...   \n",
      "4              34.2             61.0          61.0  ...   \n",
      "\n",
      "   merchant_rating_count  merchant_rating               merchant_id  \\\n",
      "0                 320031         4.218866  5357bcf2bb72c5504882e889   \n",
      "1                 320031         4.218866  5357bcf2bb72c5504882e889   \n",
      "2                 139223         3.933581  5708773c3c02161b3f8c7900   \n",
      "3                 139223         3.933581  5708773c3c02161b3f8c7900   \n",
      "4                 139223         3.933581  5708773c3c02161b3f8c7900   \n",
      "\n",
      "  merchant_has_profile_picture  \\\n",
      "0                            1   \n",
      "1                            1   \n",
      "2                            0   \n",
      "3                            0   \n",
      "4                            0   \n",
      "\n",
      "                            merchant_profile_picture  \\\n",
      "0  https://s3-us-west-1.amazonaws.com/sweeper-pro...   \n",
      "1  https://s3-us-west-1.amazonaws.com/sweeper-pro...   \n",
      "2                                                NaN   \n",
      "3                                                NaN   \n",
      "4                                                NaN   \n",
      "\n",
      "                                       product_url  \\\n",
      "0  https://www.wish.com/c/567cb0925ff12c4829f07dfb   \n",
      "1  https://www.wish.com/c/572981a997dc5f5d3c5f0651   \n",
      "2  https://www.wish.com/c/5b07a7c6e997b33c6f9947da   \n",
      "3  https://www.wish.com/c/5e9692898a10221b310986c9   \n",
      "4  https://www.wish.com/c/5cece16810467a5f254abaa9   \n",
      "\n",
      "                                     product_picture  \\\n",
      "0  https://contestimg.wish.com/api/webimage/567cb...   \n",
      "1  https://contestimg.wish.com/api/webimage/57298...   \n",
      "2  https://contestimg.wish.com/api/webimage/5b07a...   \n",
      "3  https://contestimg.wish.com/api/webimage/5e969...   \n",
      "4  https://contestimg.wish.com/api/webimage/5cece...   \n",
      "\n",
      "                 product_id   theme  crawl_month  \n",
      "0  567cb0925ff12c4829f07dfb  summer      2020-08  \n",
      "1  572981a997dc5f5d3c5f0651  summer      2020-08  \n",
      "2  5b07a7c6e997b33c6f9947da  summer      2020-08  \n",
      "3  5e9692898a10221b310986c9  summer      2020-08  \n",
      "4  5cece16810467a5f254abaa9  summer      2020-08  \n",
      "\n",
      "[5 rows x 56 columns]\n"
     ]
    }
   ],
   "source": [
    "### Ex-9-Task-1\n",
    "merged_df = None\n",
    "# Merge the sales and product dataframe and delete all the non common entries. Merge two dataframe based on merchant id.\n",
    "### BEGIN SOLUTION \n",
    "# YOUR CODE HERE\n",
    "pd.read_csv(\"/home/sandeep/data_wr/pandas/computed_insight_success_of_active_sellers (1).csv\")\n",
    "merged_df = pd.merge(sales, product, how='inner', left_on='merchantid', right_on='merchant_id')\n",
    "print(merged_df.head())\n",
    "\n",
    "### END SOLUTION"
   ]
  },
  {
   "cell_type": "code",
   "execution_count": null,
   "id": "1a69f064",
   "metadata": {
    "deletable": false,
    "editable": false,
    "nbgrader": {
     "cell_type": "code",
     "checksum": "89b908ab91d3db4f4135d606a00a520b",
     "grade": true,
     "grade_id": "cell-89f4a5c6f9a67448",
     "locked": true,
     "points": 1,
     "schema_version": 3,
     "solution": false,
     "task": false
    }
   },
   "outputs": [],
   "source": []
  },
  {
   "cell_type": "markdown",
   "id": "4eba231b",
   "metadata": {
    "deletable": false,
    "editable": false,
    "nbgrader": {
     "cell_type": "markdown",
     "checksum": "9e4f39188b42896adae8bb608e260180",
     "grade": false,
     "grade_id": "cell-19dd0389d61f7aa3",
     "locked": true,
     "schema_version": 3,
     "solution": false,
     "task": false
    }
   },
   "source": [
    "# Data Wrangling End to End "
   ]
  },
  {
   "cell_type": "markdown",
   "id": "0d1ed08c",
   "metadata": {
    "deletable": false,
    "editable": false,
    "nbgrader": {
     "cell_type": "markdown",
     "checksum": "02a9ff059eb8d44ea00d1aeec9b6498a",
     "grade": false,
     "grade_id": "cell-4a8f991c26062ee7",
     "locked": true,
     "schema_version": 3,
     "solution": false,
     "task": false
    }
   },
   "source": [
    "## Data Cleaning"
   ]
  },
  {
   "cell_type": "markdown",
   "id": "b3887a25",
   "metadata": {
    "deletable": false,
    "editable": false,
    "nbgrader": {
     "cell_type": "markdown",
     "checksum": "aa3a6f31ea4e2045acbe67320328e39f",
     "grade": false,
     "grade_id": "cell-adc568fe379be45f",
     "locked": true,
     "schema_version": 3,
     "solution": false,
     "task": false
    }
   },
   "source": [
    "#### Features and Columns \n",
    "The data was scraped in the french localisation (hence some non-ascii latin characters such as « é » and « à ») in the title column.\n",
    "\n",
    "The title_orig on the other hand contains the original title (the base title) that is displayed by default. When a translation is provided by the seller, it appears in the title column. When the title and title_orig columns are the same, it generally means that the seller did not specify a translation that would be displayed to users with french settings.\n",
    "\n",
    "A picture is worth a thousand words. In the following screenshot you see some features and how to interpret them."
   ]
  },
  {
   "cell_type": "markdown",
   "id": "2e76a8bc",
   "metadata": {
    "deletable": false,
    "editable": false,
    "nbgrader": {
     "cell_type": "markdown",
     "checksum": "e71b070ccd907e1fe099d155b4b0c4e6",
     "grade": false,
     "grade_id": "cell-9b6099c3a5380cf8",
     "locked": true,
     "schema_version": 3,
     "solution": false,
     "task": false
    }
   },
   "source": [
    "![](wish_viz.jpg)"
   ]
  },
  {
   "cell_type": "code",
   "execution_count": 76,
   "id": "afa026fd",
   "metadata": {
    "deletable": false,
    "nbgrader": {
     "cell_type": "code",
     "checksum": "24df17957ed1bc59b546ebc8016a1054",
     "grade": false,
     "grade_id": "cell-90cb0ba6b0e67ba6",
     "locked": false,
     "schema_version": 3,
     "solution": true,
     "task": false
    }
   },
   "outputs": [
    {
     "name": "stdout",
     "output_type": "stream",
     "text": [
      "                                               title  \\\n",
      "0  2020 Summer Vintage Flamingo Print  Pajamas Se...   \n",
      "1  SSHOUSE Summer Casual Sleeveless Soirée Party ...   \n",
      "2  2020 Nouvelle Arrivée Femmes Printemps et Été ...   \n",
      "3  Hot Summer Cool T-shirt pour les femmes Mode T...   \n",
      "4  Femmes Shorts d'été à lacets taille élastique ...   \n",
      "\n",
      "                                          title_orig  price  retail_price  \\\n",
      "0  2020 Summer Vintage Flamingo Print  Pajamas Se...  16.00            14   \n",
      "1   Women's Casual Summer Sleeveless Sexy Mini Dress   8.00            22   \n",
      "2  2020 New Arrival Women Spring and Summer Beach...   8.00            43   \n",
      "3  Hot Summer Cool T Shirt for Women Fashion Tops...   8.00             8   \n",
      "4  Women Summer Shorts Lace Up Elastic Waistband ...   2.72             3   \n",
      "\n",
      "  currency_buyer  units_sold  uses_ad_boosts  rating  rating_count  \\\n",
      "0            EUR         100               0    3.76            54   \n",
      "1            EUR       20000               1    3.45          6135   \n",
      "2            EUR         100               0    3.57            14   \n",
      "3            EUR        5000               1    4.03           579   \n",
      "4            EUR         100               1    3.10            20   \n",
      "\n",
      "   rating_five_count  ...  merchant_rating_count  merchant_rating  \\\n",
      "0               26.0  ...                    568         4.128521   \n",
      "1             2269.0  ...                  17752         3.899673   \n",
      "2                5.0  ...                    295         3.989831   \n",
      "3              295.0  ...                  23832         4.020435   \n",
      "4                6.0  ...                  14482         4.001588   \n",
      "\n",
      "                merchant_id  merchant_has_profile_picture  \\\n",
      "0  595097d6a26f6e070cb878d1                             0   \n",
      "1  56458aa03a698c35c9050988                             0   \n",
      "2  5d464a1ffdf7bc44ee933c65                             0   \n",
      "3  58cfdefdacb37b556efdff7c                             0   \n",
      "4  5ab3b592c3911a095ad5dadb                             0   \n",
      "\n",
      "   merchant_profile_picture                                      product_url  \\\n",
      "0                       NaN  https://www.wish.com/c/5e9ae51d43d6a96e303acdb0   \n",
      "1                       NaN  https://www.wish.com/c/58940d436a0d3d5da4e95a38   \n",
      "2                       NaN  https://www.wish.com/c/5ea10e2c617580260d55310a   \n",
      "3                       NaN  https://www.wish.com/c/5cedf17ad1d44c52c59e4aca   \n",
      "4                       NaN  https://www.wish.com/c/5ebf5819ebac372b070b0e70   \n",
      "\n",
      "                                     product_picture  \\\n",
      "0  https://contestimg.wish.com/api/webimage/5e9ae...   \n",
      "1  https://contestimg.wish.com/api/webimage/58940...   \n",
      "2  https://contestimg.wish.com/api/webimage/5ea10...   \n",
      "3  https://contestimg.wish.com/api/webimage/5cedf...   \n",
      "4  https://contestimg.wish.com/api/webimage/5ebf5...   \n",
      "\n",
      "                 product_id   theme crawl_month  \n",
      "0  5e9ae51d43d6a96e303acdb0  summer     2020-08  \n",
      "1  58940d436a0d3d5da4e95a38  summer     2020-08  \n",
      "2  5ea10e2c617580260d55310a  summer     2020-08  \n",
      "3  5cedf17ad1d44c52c59e4aca  summer     2020-08  \n",
      "4  5ebf5819ebac372b070b0e70  summer     2020-08  \n",
      "\n",
      "[5 rows x 43 columns]\n"
     ]
    }
   ],
   "source": [
    "### Ex-10-Task-1\n",
    "df = None \n",
    "# Read the product data frame with rating and performance \n",
    "### BEGIN SOLUTION \n",
    "# YOUR CODE HERE\n",
    "product = pd.read_csv(\"/home/sandeep/data_wr/pandas/summer-products-with-rating-and-performance_2020-08 (1).csv\")\n",
    "print(product.head())### END SOLUTION"
   ]
  },
  {
   "cell_type": "code",
   "execution_count": null,
   "id": "0ab02271",
   "metadata": {
    "deletable": false,
    "editable": false,
    "nbgrader": {
     "cell_type": "code",
     "checksum": "ba1f8eec0e748389ffcb340905bb0129",
     "grade": true,
     "grade_id": "cell-149f0a0caae47f29",
     "locked": true,
     "points": 1,
     "schema_version": 3,
     "solution": false,
     "task": false
    }
   },
   "outputs": [],
   "source": []
  },
  {
   "cell_type": "markdown",
   "id": "e9264124",
   "metadata": {
    "deletable": false,
    "editable": false,
    "nbgrader": {
     "cell_type": "markdown",
     "checksum": "ca24904520f7f44ef87718413603058c",
     "grade": false,
     "grade_id": "cell-89ba6af5a35d2ddc",
     "locked": true,
     "schema_version": 3,
     "solution": false,
     "task": false
    }
   },
   "source": [
    "There are total 43 columns. Let's try to reduce the number. \n",
    "\n",
    "#### Some considerations:\n",
    "- Excluded product color and size because it's just showing the ones that were found in getting the data : there are more colors and sizes for each product so having just one for each category doesn't say much.\n",
    "- Excluded currency used, as every price is in EUR\n",
    "- Excluded shipping option, the \"shipping_is_express\" column is enough.\n",
    "- Excluded product's and merchant's id's and pictures, that won't be needed.\n",
    "- Use only original title \n",
    "\n"
   ]
  },
  {
   "cell_type": "markdown",
   "id": "a3079bf3",
   "metadata": {
    "deletable": false,
    "editable": false,
    "nbgrader": {
     "cell_type": "markdown",
     "checksum": "0242c22e9222213a8fef9d25a671cb08",
     "grade": false,
     "grade_id": "cell-f1e0b4fff17ae336",
     "locked": true,
     "schema_version": 3,
     "solution": false,
     "task": false
    }
   },
   "source": [
    "After removal of column, it must only have these columns. \n",
    "\n",
    "'title_orig', 'price', 'retail_price',\n",
    "'units_sold', 'uses_ad_boosts', 'rating', 'rating_count',\n",
    "'rating_five_count', 'rating_four_count', 'rating_three_count',\n",
    "'rating_two_count', 'rating_one_count', 'badges_count',\n",
    "'badge_local_product', 'badge_product_quality', 'badge_fast_shipping',\n",
    "'tags', 'shipping_option_price', 'shipping_is_express', 'countries_shipped_to',\n",
    "'inventory_total', 'has_urgency_banner',\n",
    "'merchant_rating_count', 'merchant_rating',\n",
    "'merchant_has_profile_picture'"
   ]
  },
  {
   "cell_type": "code",
   "execution_count": 79,
   "id": "eda6dc85",
   "metadata": {
    "deletable": false,
    "nbgrader": {
     "cell_type": "code",
     "checksum": "9aef7b79f087403a189c5713cd5b4c6b",
     "grade": false,
     "grade_id": "cell-762c798491c128f0",
     "locked": false,
     "schema_version": 3,
     "solution": true,
     "task": false
    }
   },
   "outputs": [
    {
     "name": "stdout",
     "output_type": "stream",
     "text": [
      "<class 'pandas.core.frame.DataFrame'>\n",
      "RangeIndex: 1573 entries, 0 to 1572\n",
      "Data columns (total 24 columns):\n",
      " #   Column                        Non-Null Count  Dtype  \n",
      "---  ------                        --------------  -----  \n",
      " 0   title_orig                    1573 non-null   object \n",
      " 1   price                         1573 non-null   float64\n",
      " 2   retail_price                  1573 non-null   int64  \n",
      " 3   units_sold                    1573 non-null   int64  \n",
      " 4   uses_ad_boosts                1573 non-null   int64  \n",
      " 5   rating                        1573 non-null   float64\n",
      " 6   rating_count                  1573 non-null   int64  \n",
      " 7   rating_five_count             1528 non-null   float64\n",
      " 8   rating_four_count             1528 non-null   float64\n",
      " 9   rating_three_count            1528 non-null   float64\n",
      " 10  rating_two_count              1528 non-null   float64\n",
      " 11  rating_one_count              1528 non-null   float64\n",
      " 12  badges_count                  1573 non-null   int64  \n",
      " 13  badge_local_product           1573 non-null   int64  \n",
      " 14  badge_product_quality         1573 non-null   int64  \n",
      " 15  badge_fast_shipping           1573 non-null   int64  \n",
      " 16  tags                          1573 non-null   object \n",
      " 17  shipping_option_price         1573 non-null   int64  \n",
      " 18  shipping_is_express           1573 non-null   int64  \n",
      " 19  countries_shipped_to          1573 non-null   int64  \n",
      " 20  has_urgency_banner            473 non-null    float64\n",
      " 21  merchant_rating_count         1573 non-null   int64  \n",
      " 22  merchant_rating               1573 non-null   float64\n",
      " 23  merchant_has_profile_picture  1573 non-null   int64  \n",
      "dtypes: float64(9), int64(13), object(2)\n",
      "memory usage: 295.1+ KB\n",
      "None\n",
      "title_orig                         0\n",
      "price                              0\n",
      "retail_price                       0\n",
      "units_sold                         0\n",
      "uses_ad_boosts                     0\n",
      "rating                             0\n",
      "rating_count                       0\n",
      "rating_five_count                 45\n",
      "rating_four_count                 45\n",
      "rating_three_count                45\n",
      "rating_two_count                  45\n",
      "rating_one_count                  45\n",
      "badges_count                       0\n",
      "badge_local_product                0\n",
      "badge_product_quality              0\n",
      "badge_fast_shipping                0\n",
      "tags                               0\n",
      "shipping_option_price              0\n",
      "shipping_is_express                0\n",
      "countries_shipped_to               0\n",
      "has_urgency_banner              1100\n",
      "merchant_rating_count              0\n",
      "merchant_rating                    0\n",
      "merchant_has_profile_picture       0\n",
      "dtype: int64\n",
      "has_urgency_banner\n",
      "NaN    1100\n",
      "1.0     473\n",
      "Name: count, dtype: int64\n",
      "is_running_out\n",
      "0.0    1100\n",
      "1.0     473\n",
      "Name: count, dtype: int64\n",
      "Index(['title', 'price', 'retail_price', 'units_sold', 'uses_ad_boosts',\n",
      "       'rating', 'rating_count', 'rating_five_count', 'rating_four_count',\n",
      "       'rating_three_count', 'rating_two_count', 'rating_one_count',\n",
      "       'badges_count', 'badge_local_product', 'badge_product_quality',\n",
      "       'badge_fast_shipping', 'tags', 'shipping_option_price',\n",
      "       'shipping_is_express', 'countries_shipped_to', 'is_running_out',\n",
      "       'merchant_rating_count', 'merchant_rating',\n",
      "       'merchant_has_profile_picture'],\n",
      "      dtype='object')\n"
     ]
    }
   ],
   "source": [
    "### Ex-10-Task-2\n",
    "df = pd.read_csv(\"/home/sandeep/data_wr/pandas/summer-products-with-rating-and-performance_2020-08 (1).csv\")\n",
    "df = df[['title_orig', 'price', 'retail_price',\n",
    "        'units_sold', 'uses_ad_boosts', 'rating', 'rating_count',\n",
    "       'rating_five_count', 'rating_four_count', 'rating_three_count',\n",
    "       'rating_two_count', 'rating_one_count', 'badges_count',\n",
    "       'badge_local_product', 'badge_product_quality', 'badge_fast_shipping',\n",
    "       'tags', 'shipping_option_price','shipping_is_express', 'countries_shipped_to',\n",
    "        'has_urgency_banner','merchant_rating_count', 'merchant_rating','merchant_has_profile_picture',\n",
    "        ]]\n",
    "\n",
    "# print(df.info())\n",
    "# print(df.isna().sum())\n",
    "# print(df['has_urgency_banner'].value_counts())\n",
    "# Check the data frame information, total no. of null entries in each columns and has_urgency_banner columns counts\n",
    "# After loading the data we se we have 1573 entries and some null values, let's see what some of them are about:\n",
    "# - Exactly 45 for rating counts from 1 to 5 star, could it be that there are products with no ratings at all?\n",
    "# - 1100 null values in the has urgency banner : the values there are 1's so the null values should be turned into 0's\n",
    "# Now, Rename the columns 'has_urgency_banner' to 'is_running_out' and 'title_orig' to 'title' to make it more clear.\n",
    "# **Fix the runing out column. fill all the null values with 0's.\n",
    "### BEGIN SOLUTION \n",
    "# YOUR CODE HERE\n",
    "# Assuming df is already loaded with your product data\n",
    "\n",
    "# Check basic info and null counts\n",
    "print(df.info())\n",
    "print(df.isna().sum())\n",
    "\n",
    "# Check the counts in 'has_urgency_banner'\n",
    "print(df['has_urgency_banner'].value_counts(dropna=False))\n",
    "\n",
    "# Fill null values in 'has_urgency_banner' with 0 (meaning no urgency banner)\n",
    "df['has_urgency_banner'] = df['has_urgency_banner'].fillna(0)\n",
    "\n",
    "# Rename columns for clarity\n",
    "df = df.rename(columns={'has_urgency_banner': 'is_running_out', 'title_orig': 'title'})\n",
    "\n",
    "# Confirm changes\n",
    "print(df['is_running_out'].value_counts())\n",
    "print(df.columns)\n",
    "### END SOLUTION"
   ]
  },
  {
   "cell_type": "code",
   "execution_count": null,
   "id": "ac9aff1d",
   "metadata": {
    "deletable": false,
    "editable": false,
    "nbgrader": {
     "cell_type": "code",
     "checksum": "7e21cd3722825c4ed91d6eb56a3a735d",
     "grade": true,
     "grade_id": "cell-2792a2b0fe4bc990",
     "locked": true,
     "points": 1,
     "schema_version": 3,
     "solution": false,
     "task": false
    }
   },
   "outputs": [],
   "source": []
  },
  {
   "cell_type": "markdown",
   "id": "13dcdebe",
   "metadata": {
    "deletable": false,
    "editable": false,
    "nbgrader": {
     "cell_type": "markdown",
     "checksum": "b2eeb7b92b19bee482f66fca23267920",
     "grade": false,
     "grade_id": "cell-3e87e9d30abaae85",
     "locked": true,
     "schema_version": 3,
     "solution": false,
     "task": false
    }
   },
   "source": [
    "#### Check if all the 45 null values for all rating columns belong to same product.\n",
    "- Get the dataframe for which rating_five_count have null values\n",
    "- Then, Count the no. of null values for four, three, two and one rating column.\n",
    "\n",
    "Conclusion: As expected we see the null values in the rating are actually of the same 45 products"
   ]
  },
  {
   "cell_type": "code",
   "execution_count": 80,
   "id": "50e1bf69",
   "metadata": {
    "deletable": false,
    "nbgrader": {
     "cell_type": "code",
     "checksum": "17f2ed322b10f89e0698476589c7a45a",
     "grade": false,
     "grade_id": "cell-869ce4e343b94b16",
     "locked": false,
     "schema_version": 3,
     "solution": true,
     "task": false
    }
   },
   "outputs": [
    {
     "name": "stdout",
     "output_type": "stream",
     "text": [
      "Rows updated: 0\n",
      "Empty DataFrame\n",
      "Columns: [title, price, retail_price, units_sold, uses_ad_boosts, rating, rating_count, rating_five_count, rating_four_count, rating_three_count, rating_two_count, rating_one_count, badges_count, badge_local_product, badge_product_quality, badge_fast_shipping, tags, shipping_option_price, shipping_is_express, countries_shipped_to, is_running_out, merchant_rating_count, merchant_rating, merchant_has_profile_picture]\n",
      "Index: []\n",
      "\n",
      "[0 rows x 24 columns]\n"
     ]
    }
   ],
   "source": [
    "### Ex-10-Task-3\n",
    "df[df['rating_five_count'].isna()][['rating_four_count', 'rating_three_count',\n",
    "       'rating_two_count', 'rating_one_count']].isna().sum()\n",
    "df[df['rating_five_count'].isna()].head()\n",
    "# They seem to be having a rating of 5 even with no ratings: we are going to change the rating and all the rating counts to 0\n",
    "### BEGIN SOLUTION \n",
    "# YOUR CODE HERE\n",
    "# Condition: rating == 5 and all rating counts == 0\n",
    "condition = (\n",
    "    (df['rating'] == 5) &\n",
    "    (df['rating_five_count'] == 0) &\n",
    "    (df['rating_four_count'] == 0) &\n",
    "    (df['rating_three_count'] == 0) &\n",
    "    (df['rating_two_count'] == 0) &\n",
    "    (df['rating_one_count'] == 0)\n",
    ")\n",
    "\n",
    "# For rows matching the condition, set rating and all rating counts to 0\n",
    "df.loc[condition, ['rating', 'rating_five_count', 'rating_four_count', \n",
    "                  'rating_three_count', 'rating_two_count', 'rating_one_count']] = 0\n",
    "\n",
    "# Optional: check how many rows were updated\n",
    "print(f\"Rows updated: {condition.sum()}\")\n",
    "\n",
    "# Check a few corrected rows\n",
    "print(df.loc[condition].head())\n",
    "### END SOLUTION"
   ]
  },
  {
   "cell_type": "code",
   "execution_count": null,
   "id": "3ce42672",
   "metadata": {
    "deletable": false,
    "editable": false,
    "nbgrader": {
     "cell_type": "code",
     "checksum": "7443bae47b542a2ac3b422cc4d452f8e",
     "grade": true,
     "grade_id": "cell-c19575e64a68a249",
     "locked": true,
     "points": 2,
     "schema_version": 3,
     "solution": false,
     "task": false
    }
   },
   "outputs": [],
   "source": []
  },
  {
   "cell_type": "markdown",
   "id": "ed51746f",
   "metadata": {
    "deletable": false,
    "editable": false,
    "nbgrader": {
     "cell_type": "markdown",
     "checksum": "fbff584ffbd8a2c144cec0f1a0cde971",
     "grade": false,
     "grade_id": "cell-d6aeb563abcc4dd7",
     "locked": true,
     "schema_version": 3,
     "solution": false,
     "task": false
    }
   },
   "source": [
    "## Data Exploration"
   ]
  },
  {
   "cell_type": "markdown",
   "id": "4e5c8df3",
   "metadata": {
    "deletable": false,
    "editable": false,
    "nbgrader": {
     "cell_type": "markdown",
     "checksum": "6e51d4f2d3b52c2d7e2810aff5b411d4",
     "grade": false,
     "grade_id": "cell-59d1f46caa0cc552",
     "locked": true,
     "schema_version": 3,
     "solution": false,
     "task": false
    }
   },
   "source": [
    "```df['units_sold'].unique()```"
   ]
  },
  {
   "cell_type": "markdown",
   "id": "596bf957",
   "metadata": {
    "deletable": false,
    "editable": false,
    "nbgrader": {
     "cell_type": "markdown",
     "checksum": "588bf7f26bf04ccfa68d60dca86ee41d",
     "grade": false,
     "grade_id": "cell-0fa82b606236279e",
     "locked": true,
     "schema_version": 3,
     "solution": false,
     "task": false
    }
   },
   "source": [
    "It seems like they are all numbers approximated to their lower bound. So let's pretend they are divided in ranges like this:\n",
    "\n",
    "- 10-100\n",
    "- 100-1000\n",
    "- 1000-5000\n",
    "- 5000-10000\n",
    "- 10000-20000\n",
    "- 20000-50000\n",
    "- 50000-100000\n",
    "- 100000+\n",
    "\n",
    "Let's define 3 performance characteristics:\n",
    "\n",
    "- Average : 0-1000\n",
    "- Successful: 1000-20000\n",
    "- Very Successful 20000+\n",
    "\n",
    "Find the percentage of product belongs to each category.\n",
    "Steps:\n",
    "1. First find the performance category and store in performance columns\n",
    "2. Then, Calculate the percentage of product in each performance category\n",
    "\n"
   ]
  },
  {
   "cell_type": "code",
   "execution_count": 84,
   "id": "744063f9",
   "metadata": {
    "deletable": false,
    "nbgrader": {
     "cell_type": "code",
     "checksum": "35529fcfa1f1c61b58d31304db826093",
     "grade": false,
     "grade_id": "cell-276dee2ed209a6be",
     "locked": false,
     "schema_version": 3,
     "solution": true,
     "task": false
    }
   },
   "outputs": [
    {
     "name": "stdout",
     "output_type": "stream",
     "text": [
      "performance_category\n",
      "high      58.804832\n",
      "medium    32.358551\n",
      "low        8.836618\n",
      "Name: proportion, dtype: float64\n"
     ]
    }
   ],
   "source": [
    "### Ex-10-Task-4\n",
    "percentage_of_product_in_each_performance_category = None\n",
    "### BEGIN SOLUTION \n",
    "# YOUR CODE HERE\n",
    "percentage_of_product_in_each_performance_category = (\n",
    "    df['performance_category'].value_counts(normalize=True) * 100\n",
    ")\n",
    "\n",
    "print(percentage_of_product_in_each_performance_category)\n",
    "### END SOLUTION\n"
   ]
  },
  {
   "cell_type": "code",
   "execution_count": null,
   "id": "6bcdd8a8",
   "metadata": {
    "deletable": false,
    "editable": false,
    "nbgrader": {
     "cell_type": "code",
     "checksum": "aa928a1697ccdbf3114c1f2254ccf6fd",
     "grade": true,
     "grade_id": "cell-084e3aae9beedb69",
     "locked": true,
     "points": 2,
     "schema_version": 3,
     "solution": false,
     "task": false
    }
   },
   "outputs": [],
   "source": []
  },
  {
   "cell_type": "markdown",
   "id": "4bbf4f98",
   "metadata": {
    "deletable": false,
    "editable": false,
    "nbgrader": {
     "cell_type": "markdown",
     "checksum": "8864f799b28e44ca1f2c677f132470a4",
     "grade": false,
     "grade_id": "cell-a8b02413975b57af",
     "locked": true,
     "schema_version": 3,
     "solution": false,
     "task": false
    }
   },
   "source": [
    "## Product Rating and Performance Comparision"
   ]
  },
  {
   "cell_type": "markdown",
   "id": "8c62adc0",
   "metadata": {
    "deletable": false,
    "editable": false,
    "nbgrader": {
     "cell_type": "markdown",
     "checksum": "21c03ebbe4b9b2e41b5e7a13ee035167",
     "grade": false,
     "grade_id": "cell-4a647c18ed111e2b",
     "locked": true,
     "schema_version": 3,
     "solution": false,
     "task": false
    }
   },
   "source": [
    "Looking at the rating columns I notice two things:\n",
    "\n",
    "- Some products have a rating count that's too low to be considered, let's only look at products with more than 150 ratings to try to have a fair result\n",
    "- The rating of the products is a decimal number: let's create another column that categorizes each product into it's rating range.\n",
    "    - columns are \n",
    "        1. < 1 if rating < 1\n",
    "        2. 1-2 if rating >= 1 and rating < 2\n",
    "        3. 2-3 if rating >= 2 and rating < 3\n",
    "        4. 3-4 if rating >= 3 and rating < 4\n",
    "        5. 4-5 if rating >= 4 and rating < 5\n",
    "- Create pivot table with performance in index, raiting_range in column and no. of product as values\n",
    "\n"
   ]
  },
  {
   "cell_type": "code",
   "execution_count": 85,
   "id": "7ba90b50",
   "metadata": {
    "deletable": false,
    "nbgrader": {
     "cell_type": "code",
     "checksum": "d4f088eea8ca9938262fea4ab09abca6",
     "grade": false,
     "grade_id": "cell-232ab77d5b3981bf",
     "locked": false,
     "schema_version": 3,
     "solution": true,
     "task": false
    }
   },
   "outputs": [
    {
     "name": "stdout",
     "output_type": "stream",
     "text": [
      "                                                  title  price  retail_price  \\\n",
      "1      Women's Casual Summer Sleeveless Sexy Mini Dress   8.00            22   \n",
      "3     Hot Summer Cool T Shirt for Women Fashion Tops...   8.00             8   \n",
      "6     Women Fashion Loose Lace Blouse V Neck Bat Sle...   7.00             6   \n",
      "7     Women's Baggy Tunic Dress Summer Dress Denim D...  12.00            11   \n",
      "9     Summer Women Plus Size Casual Loose V Neck Sho...   5.78            22   \n",
      "...                                                 ...    ...           ...   \n",
      "1558  Summer Fashion Women's Jumpsuit Floral Print S...  13.00            11   \n",
      "1560  Women Summer Shirts Plus V Neck Sleeveless Top...   7.00            25   \n",
      "1564  2018 Women fashion Summer Lace Patchwork Tank ...   5.91             5   \n",
      "1567  Sleeveless Solid Color Women Jumpsuit Ladies S...   8.00             7   \n",
      "1568  New Fashion Women Bohemia Dandelion Print Tee ...   6.00             9   \n",
      "\n",
      "      units_sold  uses_ad_boosts  rating  rating_count  rating_five_count  \\\n",
      "1          20000               1    3.45          6135             2269.0   \n",
      "3           5000               1    4.03           579              295.0   \n",
      "6          50000               0    3.84          6742             3172.0   \n",
      "7           1000               0    3.76           286              120.0   \n",
      "9           5000               0    3.60           687              287.0   \n",
      "...          ...             ...     ...           ...                ...   \n",
      "1558       10000               0    4.12          2901             1573.0   \n",
      "1560        5000               0    3.50           774              258.0   \n",
      "1564        1000               0    3.38           414              156.0   \n",
      "1567       20000               1    4.25          3127             1919.0   \n",
      "1568       10000               1    4.08          1367              722.0   \n",
      "\n",
      "      rating_four_count  rating_three_count  ...  badge_fast_shipping  \\\n",
      "1                1027.0              1118.0  ...                    0   \n",
      "3                 119.0                87.0  ...                    0   \n",
      "6                1352.0               971.0  ...                    0   \n",
      "7                  56.0                61.0  ...                    0   \n",
      "9                 128.0                92.0  ...                    0   \n",
      "...                 ...                 ...  ...                  ...   \n",
      "1558              606.0               399.0  ...                    0   \n",
      "1560              176.0               147.0  ...                    0   \n",
      "1564               58.0                72.0  ...                    0   \n",
      "1567              580.0               304.0  ...                    0   \n",
      "1568              293.0               185.0  ...                    0   \n",
      "\n",
      "                                                   tags  \\\n",
      "1     Mini,womens dresses,Summer,Patchwork,fashion d...   \n",
      "3     Summer,Shorts,Cotton,Cotton T Shirt,Sleeve,pri...   \n",
      "6     blouse,Women,lace t shirt,summer t-shirts,Lace...   \n",
      "7     Jeans,Fashion,tunic,Shirt,Summer,Dress,Denim,s...   \n",
      "9     blouse,Summer,Plus Size,Floral print,Necks,Sle...   \n",
      "...                                                 ...   \n",
      "1558  Summer,trousers,Floral print,Fashion,Print,Lon...   \n",
      "1560  shirtsforwomen,Summer,Fashion,Tops & Blouses,S...   \n",
      "1564  blouse,Summer,Vest,Fashion,Women Blouse,sleeve...   \n",
      "1567  bodycon jumpsuits,nightwear,Shorts,slim,Body S...   \n",
      "1568  bohemia,Plus Size,dandelionfloralprinted,short...   \n",
      "\n",
      "      shipping_option_price  shipping_is_express  countries_shipped_to  \\\n",
      "1                         2                    0                    41   \n",
      "3                         2                    0                    41   \n",
      "6                         2                    0                    31   \n",
      "7                         3                    0                   139   \n",
      "9                         2                    0                    33   \n",
      "...                     ...                  ...                   ...   \n",
      "1558                      3                    0                    36   \n",
      "1560                      2                    0                    27   \n",
      "1564                      2                    0                    36   \n",
      "1567                      2                    0                    44   \n",
      "1568                      2                    0                    41   \n",
      "\n",
      "      is_running_out merchant_rating_count  merchant_rating  \\\n",
      "1                1.0                 17752         3.899673   \n",
      "3                0.0                 23832         4.020435   \n",
      "6                0.0                 10194         4.076516   \n",
      "7                0.0                   342         3.681287   \n",
      "9                0.0                  5534         3.999819   \n",
      "...              ...                   ...              ...   \n",
      "1558             1.0                 14502         4.147842   \n",
      "1560             0.0                 11680         4.192894   \n",
      "1564             1.0                 12134         3.866903   \n",
      "1567             0.0                 16803         4.155032   \n",
      "1568             0.0                  5316         4.224605   \n",
      "\n",
      "      merchant_has_profile_picture  performance_category  \n",
      "1                                0                  high  \n",
      "3                                0                  high  \n",
      "6                                1                  high  \n",
      "7                                0                  high  \n",
      "9                                0                  high  \n",
      "...                            ...                   ...  \n",
      "1558                             1                  high  \n",
      "1560                             0                  high  \n",
      "1564                             0                  high  \n",
      "1567                             0                  high  \n",
      "1568                             0                  high  \n",
      "\n",
      "[876 rows x 25 columns]\n"
     ]
    }
   ],
   "source": [
    "### Ex-10-Task-5\n",
    "df_ratings = pd.DataFrame()  ## get records with rating_count > 100\n",
    "df_ratings['rating_range'] = None\n",
    "pivot_table = None\n",
    "### BEGIN SOLUTION \n",
    "# YOUR CODE HERE\n",
    "filtered_df = df[df['rating_count'] > 100]\n",
    "print(filtered_df)\n",
    "### END SOLUTION"
   ]
  },
  {
   "cell_type": "markdown",
   "id": "be1c64f7",
   "metadata": {
    "deletable": false,
    "editable": false,
    "nbgrader": {
     "cell_type": "markdown",
     "checksum": "8f815dc10b09235a6349f5372925d578",
     "grade": false,
     "grade_id": "cell-318c2c6d0f68165f",
     "locked": true,
     "schema_version": 3,
     "solution": false,
     "task": false
    }
   },
   "source": [
    "This table shows that if the product have average rating of 3-4. THen, it is most likely to be successful product."
   ]
  },
  {
   "cell_type": "code",
   "execution_count": null,
   "id": "c23169c8",
   "metadata": {
    "deletable": false,
    "editable": false,
    "nbgrader": {
     "cell_type": "code",
     "checksum": "3685a856131460d5a48299f1e10c6955",
     "grade": true,
     "grade_id": "cell-f722ef96643e7bc3",
     "locked": true,
     "points": 3,
     "schema_version": 3,
     "solution": false,
     "task": false
    }
   },
   "outputs": [],
   "source": []
  },
  {
   "cell_type": "code",
   "execution_count": null,
   "id": "4abdcb7c",
   "metadata": {
    "deletable": false,
    "editable": false,
    "nbgrader": {
     "cell_type": "code",
     "checksum": "ea80f5ec32e1d04ae2641eb2643c6b12",
     "grade": false,
     "grade_id": "cell-68e58f026e8e4cc4",
     "locked": true,
     "schema_version": 3,
     "solution": false,
     "task": false
    }
   },
   "outputs": [],
   "source": []
  }
 ],
 "metadata": {
  "kernelspec": {
   "display_name": ".venv",
   "language": "python",
   "name": "python3"
  },
  "language_info": {
   "codemirror_mode": {
    "name": "ipython",
    "version": 3
   },
   "file_extension": ".py",
   "mimetype": "text/x-python",
   "name": "python",
   "nbconvert_exporter": "python",
   "pygments_lexer": "ipython3",
   "version": "3.12.3"
  }
 },
 "nbformat": 4,
 "nbformat_minor": 5
}
