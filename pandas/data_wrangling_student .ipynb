{
 "cells": [
  {
   "cell_type": "markdown",
   "id": "8876b1f9-b662-41ab-9cfc-8562cbc22ef9",
   "metadata": {
    "deletable": false,
    "editable": false,
    "nbgrader": {
     "cell_type": "markdown",
     "checksum": "8e4287e0981346bd0b15b95222584ea6",
     "grade": false,
     "grade_id": "cell-9af76d76178d43f9",
     "locked": true,
     "schema_version": 3,
     "solution": false,
     "task": false
    }
   },
   "source": [
    "## Practice Data Wrangling"
   ]
  },
  {
   "cell_type": "markdown",
   "id": "93507b3c-efdf-4f62-a70c-2a2ba190b546",
   "metadata": {},
   "source": [
    "![](https://iili.io/3S2kRyu.png)"
   ]
  },
  {
   "cell_type": "markdown",
   "id": "090fb412",
   "metadata": {
    "deletable": false,
    "editable": false,
    "nbgrader": {
     "cell_type": "markdown",
     "checksum": "d8532c092110b7dee57ae8b5045b4de2",
     "grade": false,
     "grade_id": "cell-2def07a8e3676424",
     "locked": true,
     "schema_version": 3,
     "solution": false,
     "task": false
    }
   },
   "source": [
    "## Pandas"
   ]
  },
  {
   "cell_type": "markdown",
   "id": "f0727fce",
   "metadata": {
    "deletable": false,
    "editable": false,
    "nbgrader": {
     "cell_type": "markdown",
     "checksum": "5e503caa24f0f2beb340b25748880bcf",
     "grade": false,
     "grade_id": "cell-12325e2e96dafb09",
     "locked": true,
     "schema_version": 3,
     "solution": false,
     "task": false
    }
   },
   "source": [
    "\n",
    "Pandas is a Python library extensively used for data analysis and manipulation. It provides data structures like DataFrames, which are similar to tables, and Series, which are like lists or columns in a table. These structures allow for efficient handling and processing of structured data. Pandas is built on top of NumPy and integrates well with other scientific computing libraries. It simplifies tasks such as data cleaning, transformation, and analysis, making it a fundamental tool for data scientists and analysts.\n"
   ]
  },
  {
   "cell_type": "markdown",
   "id": "cecf556a",
   "metadata": {
    "deletable": false,
    "editable": false,
    "nbgrader": {
     "cell_type": "markdown",
     "checksum": "9373a747a47423dba3039f48f3cb6cd6",
     "grade": false,
     "grade_id": "cell-af33d36aeecffa31",
     "locked": true,
     "schema_version": 3,
     "solution": false,
     "task": false
    }
   },
   "source": [
    "### Installing and Importing Pandas"
   ]
  },
  {
   "cell_type": "markdown",
   "id": "327673fc",
   "metadata": {
    "deletable": false,
    "editable": false,
    "nbgrader": {
     "cell_type": "markdown",
     "checksum": "297e71729a8112e28f01f4494994dca4",
     "grade": false,
     "grade_id": "cell-fad339df151b2d1c",
     "locked": true,
     "schema_version": 3,
     "solution": false,
     "task": false
    }
   },
   "source": [
    "Installing Pandas\n",
    "```\n",
    "pip install pandas\n",
    "```"
   ]
  },
  {
   "cell_type": "code",
   "execution_count": null,
   "id": "09a64c1d",
   "metadata": {
    "deletable": false,
    "editable": false,
    "nbgrader": {
     "cell_type": "code",
     "checksum": "f77cdfbe80d5410136998bed901e25f8",
     "grade": false,
     "grade_id": "cell-ac426de569b2851e",
     "locked": true,
     "schema_version": 3,
     "solution": false,
     "task": false
    }
   },
   "outputs": [],
   "source": [
    "!pip install pandas"
   ]
  },
  {
   "cell_type": "markdown",
   "id": "5ce9d6a6",
   "metadata": {
    "deletable": false,
    "editable": false,
    "nbgrader": {
     "cell_type": "markdown",
     "checksum": "0d8777f6a7ccea70a288bbd1597b5472",
     "grade": false,
     "grade_id": "cell-ec40aad4ab6a2469",
     "locked": true,
     "schema_version": 3,
     "solution": false,
     "task": false
    }
   },
   "source": [
    "importing pandas"
   ]
  },
  {
   "cell_type": "code",
   "execution_count": null,
   "id": "9fdd78c4",
   "metadata": {
    "deletable": false,
    "editable": false,
    "nbgrader": {
     "cell_type": "code",
     "checksum": "004e253735680f0035fdc6e3bbbcc4af",
     "grade": false,
     "grade_id": "cell-fd1740a834856638",
     "locked": true,
     "schema_version": 3,
     "solution": false,
     "task": false
    }
   },
   "outputs": [],
   "source": [
    "## pd is widely used alias for pandas\n",
    "import pandas as pd\n",
    "import numpy as np\n",
    "pd.set_option('display.max_columns', 50)\n"
   ]
  },
  {
   "cell_type": "markdown",
   "id": "77771e4f",
   "metadata": {
    "deletable": false,
    "editable": false,
    "nbgrader": {
     "cell_type": "markdown",
     "checksum": "5708a08953aba1fb892f491de66a5af8",
     "grade": false,
     "grade_id": "cell-120db3972eea1440",
     "locked": true,
     "schema_version": 3,
     "solution": false,
     "task": false
    }
   },
   "source": [
    "### Creating Series and Pandas Data Frame"
   ]
  },
  {
   "cell_type": "markdown",
   "id": "63174ebb",
   "metadata": {
    "deletable": false,
    "editable": false,
    "nbgrader": {
     "cell_type": "markdown",
     "checksum": "3c45e4f74f9f67056de2d30e4978aea5",
     "grade": false,
     "grade_id": "cell-f9ef7b962aeb3865",
     "locked": true,
     "schema_version": 3,
     "solution": false,
     "task": false
    }
   },
   "source": [
    "#### 1. Creating Series\n",
    " A Pandas Series is a one-dimensional labeled array capable of holding data of any type. It is similar to a column in a spreadsheet or a SQL table. The labels for the Series are collectively known as the index. A Series can be created from a variety of data types, including lists, dictionaries, and NumPy arrays. \n"
   ]
  },
  {
   "cell_type": "code",
   "execution_count": null,
   "id": "68dc6cac",
   "metadata": {
    "deletable": false,
    "nbgrader": {
     "cell_type": "code",
     "checksum": "1894ea205d7efbec3b4301bc8f78777b",
     "grade": false,
     "grade_id": "cell-10ad5638c3d31a75",
     "locked": false,
     "schema_version": 3,
     "solution": true,
     "task": false
    }
   },
   "outputs": [],
   "source": [
    "### Ex-1-Task-1\n",
    "\n",
    "s = None \n",
    "a = [1, 2, 3, 4, 5, 6]\n",
    "# Task: create a series using list \n",
    "### BEGIN SOLUTION \n",
    "# YOUR CODE HERE\n",
    "raise NotImplementedError() \n",
    "### END SOLUTION\n",
    "\n"
   ]
  },
  {
   "cell_type": "code",
   "execution_count": null,
   "id": "3797fdbf",
   "metadata": {
    "deletable": false,
    "editable": false,
    "nbgrader": {
     "cell_type": "code",
     "checksum": "1088c5e967071d4d10be18875d995957",
     "grade": true,
     "grade_id": "cell-041a534889d2ad74",
     "locked": true,
     "points": 1,
     "schema_version": 3,
     "solution": false,
     "task": false
    }
   },
   "outputs": [],
   "source": []
  },
  {
   "cell_type": "code",
   "execution_count": null,
   "id": "2a786c9f",
   "metadata": {
    "deletable": false,
    "nbgrader": {
     "cell_type": "code",
     "checksum": "89e373a404a1d58b53adc42dae9d2eae",
     "grade": false,
     "grade_id": "cell-8f4085589c39c5f2",
     "locked": false,
     "schema_version": 3,
     "solution": true,
     "task": false
    }
   },
   "outputs": [],
   "source": [
    "### Ex-1-Task-2\n",
    "a = {\n",
    "    'a': 80,\n",
    "    'b': 90,\n",
    "    'c': 100\n",
    "}\n",
    "s = None \n",
    "## Task: Create a series using dictionary\n",
    "\n",
    "### BEGIN SOLUTION \n",
    "# YOUR CODE HERE\n",
    "raise NotImplementedError() \n",
    "### END SOLUTION\n"
   ]
  },
  {
   "cell_type": "code",
   "execution_count": null,
   "id": "950943bc",
   "metadata": {
    "deletable": false,
    "editable": false,
    "nbgrader": {
     "cell_type": "code",
     "checksum": "43fbd9cd3013f7c099b24d38d21da655",
     "grade": true,
     "grade_id": "cell-e3354abce4a49b3a",
     "locked": true,
     "points": 1,
     "schema_version": 3,
     "solution": false,
     "task": false
    }
   },
   "outputs": [],
   "source": []
  },
  {
   "cell_type": "code",
   "execution_count": null,
   "id": "b631df22",
   "metadata": {
    "deletable": false,
    "nbgrader": {
     "cell_type": "code",
     "checksum": "88f27b35987cbc62cb630e8d6abb3bb9",
     "grade": false,
     "grade_id": "cell-4b0ae806bc60be91",
     "locked": false,
     "schema_version": 3,
     "solution": true,
     "task": false
    }
   },
   "outputs": [],
   "source": [
    "### Ex-1-Task-3\n",
    "a = [1, 2, 3, 4, 5, 6]\n",
    "a = np.array(a)\n",
    "s = None\n",
    "## Creating a series using numpy array\n",
    "### BEGIN SOLUTION \n",
    "# YOUR CODE HERE\n",
    "raise NotImplementedError() \n",
    "### END SOLUTION\n"
   ]
  },
  {
   "cell_type": "code",
   "execution_count": null,
   "id": "048109fc",
   "metadata": {
    "deletable": false,
    "editable": false,
    "nbgrader": {
     "cell_type": "code",
     "checksum": "cf68d81cb84f20ee03304726f89ee561",
     "grade": true,
     "grade_id": "cell-22c6a8ee13343849",
     "locked": true,
     "points": 1,
     "schema_version": 3,
     "solution": false,
     "task": false
    }
   },
   "outputs": [],
   "source": []
  },
  {
   "cell_type": "code",
   "execution_count": null,
   "id": "f1a5c0ed",
   "metadata": {
    "deletable": false,
    "nbgrader": {
     "cell_type": "code",
     "checksum": "dad5da4ad4585ca137950548a231d901",
     "grade": false,
     "grade_id": "cell-84a652054cc77cfd",
     "locked": false,
     "schema_version": 3,
     "solution": true,
     "task": false
    }
   },
   "outputs": [],
   "source": [
    "### Ex-1-Task-4\n",
    "population = {\n",
    "    'Nepal': 30000000,\n",
    "    'India': 1463865525,\n",
    "    'Pakistan':255219554,\n",
    "    'China': 1416096094\n",
    "}\n",
    "s = None\n",
    "## Create a series with name 'population' and dtype='int64' \n",
    "### BEGIN SOLUTION \n",
    "# YOUR CODE HERE\n",
    "raise NotImplementedError() \n",
    "### END SOLUTION"
   ]
  },
  {
   "cell_type": "code",
   "execution_count": null,
   "id": "e9b2efab",
   "metadata": {
    "deletable": false,
    "editable": false,
    "nbgrader": {
     "cell_type": "code",
     "checksum": "ac7390c89cc4ba921951c65b4a91df3a",
     "grade": true,
     "grade_id": "cell-998486f70e1cd13b",
     "locked": true,
     "points": 1,
     "schema_version": 3,
     "solution": false,
     "task": false
    }
   },
   "outputs": [],
   "source": []
  },
  {
   "cell_type": "markdown",
   "id": "26257f0c",
   "metadata": {
    "deletable": false,
    "editable": false,
    "nbgrader": {
     "cell_type": "markdown",
     "checksum": "c5083fb233ee13bca54d4f2022085487",
     "grade": false,
     "grade_id": "cell-8c071f0c26e2685b",
     "locked": true,
     "schema_version": 3,
     "solution": false,
     "task": false
    }
   },
   "source": [
    "#### 2. Creating DataFrame"
   ]
  },
  {
   "cell_type": "code",
   "execution_count": null,
   "id": "b396a20a",
   "metadata": {
    "deletable": false,
    "nbgrader": {
     "cell_type": "code",
     "checksum": "97b1121a98da418a9563eb924b9cd31d",
     "grade": false,
     "grade_id": "cell-4a1c079478d4502c",
     "locked": false,
     "schema_version": 3,
     "solution": true,
     "task": false
    }
   },
   "outputs": [],
   "source": [
    "### Ex-2-Task-1\n",
    "a = [1, 2, 3, 4, 5, 6, 7, 8, 9, 10]\n",
    "df = None \n",
    "# Creating Data Frame from Python List\n",
    "### BEGIN SOLUTION \n",
    "# YOUR CODE HERE\n",
    "raise NotImplementedError() \n",
    "### END SOLUTION\n"
   ]
  },
  {
   "cell_type": "code",
   "execution_count": null,
   "id": "ca485834",
   "metadata": {
    "deletable": false,
    "editable": false,
    "nbgrader": {
     "cell_type": "code",
     "checksum": "e62faf36575b56c6ed9b7e01ca4e9423",
     "grade": true,
     "grade_id": "cell-6ac1c0285d30d45d",
     "locked": true,
     "points": 1,
     "schema_version": 3,
     "solution": false,
     "task": false
    }
   },
   "outputs": [],
   "source": []
  },
  {
   "cell_type": "code",
   "execution_count": null,
   "id": "d30bfe4c",
   "metadata": {
    "deletable": false,
    "nbgrader": {
     "cell_type": "code",
     "checksum": "cb5a936fb6dafdf7747e9f9520b7038f",
     "grade": false,
     "grade_id": "cell-4dbd8346815d30f3",
     "locked": false,
     "schema_version": 3,
     "solution": true,
     "task": false
    }
   },
   "outputs": [],
   "source": [
    "### Ex-2-Task-2\n",
    "my_list = [['A', 1], ['B', 2], ['C', 3], ['D', 4]]\n",
    "# Creating Data Frame from List of List\n",
    "### BEGIN SOLUTION \n",
    "# YOUR CODE HERE\n",
    "raise NotImplementedError() \n",
    "### END SOLUTION"
   ]
  },
  {
   "cell_type": "code",
   "execution_count": null,
   "id": "6f3ef289",
   "metadata": {
    "deletable": false,
    "editable": false,
    "nbgrader": {
     "cell_type": "code",
     "checksum": "ea3579008d97b4166e97b6b42172512d",
     "grade": true,
     "grade_id": "cell-9958f0732862c4e3",
     "locked": true,
     "points": 1,
     "schema_version": 3,
     "solution": false,
     "task": false
    }
   },
   "outputs": [],
   "source": []
  },
  {
   "cell_type": "code",
   "execution_count": null,
   "id": "698943d3",
   "metadata": {
    "deletable": false,
    "nbgrader": {
     "cell_type": "code",
     "checksum": "332f859672ec572b81f14e91416aeef0",
     "grade": false,
     "grade_id": "cell-45889bed1c599650",
     "locked": false,
     "schema_version": 3,
     "solution": true,
     "task": false
    }
   },
   "outputs": [],
   "source": [
    "### Ex-2-Task-3\n",
    "my_data = {\n",
    "    'country': ['Nepal', 'India', 'China'],\n",
    "    'Population': [30000000, 1463865525, 1416096094]\n",
    "}\n",
    "df = None\n",
    "# Creating Data Frame using Python Dictionary\n",
    "### BEGIN SOLUTION \n",
    "# YOUR CODE HERE\n",
    "raise NotImplementedError() \n",
    "### END SOLUTION\n"
   ]
  },
  {
   "cell_type": "code",
   "execution_count": null,
   "id": "67c8b979",
   "metadata": {
    "deletable": false,
    "editable": false,
    "nbgrader": {
     "cell_type": "code",
     "checksum": "d35557a672f751c1aecc9fd26eb2ca6a",
     "grade": true,
     "grade_id": "cell-cf0c32490f3e13ff",
     "locked": true,
     "points": 1,
     "schema_version": 3,
     "solution": false,
     "task": false
    }
   },
   "outputs": [],
   "source": []
  },
  {
   "cell_type": "markdown",
   "id": "a7990c68",
   "metadata": {
    "deletable": false,
    "editable": false,
    "nbgrader": {
     "cell_type": "markdown",
     "checksum": "a07316f5761d2c61ffc624e5acd520fa",
     "grade": false,
     "grade_id": "cell-b0a79915e488bf6c",
     "locked": true,
     "schema_version": 3,
     "solution": false,
     "task": false
    }
   },
   "source": [
    "## Data Loading and Inspection"
   ]
  },
  {
   "cell_type": "markdown",
   "id": "0e1786eb",
   "metadata": {
    "deletable": false,
    "editable": false,
    "nbgrader": {
     "cell_type": "markdown",
     "checksum": "cda41d28d6bb5a17925a4318b1bc2659",
     "grade": false,
     "grade_id": "cell-f8c880383bf31709",
     "locked": true,
     "schema_version": 3,
     "solution": false,
     "task": false
    }
   },
   "source": [
    "### Reading Data\n",
    "A simple way to store big data is to use CSV files (comma Seperated files) or Parquet Files. \n",
    "- df_sales --> computed_insight_success_of_active_sellers.csv'\n",
    "- df_product --> summer-products-with-rating-and-performance_2020-08.csv"
   ]
  },
  {
   "cell_type": "code",
   "execution_count": null,
   "id": "4c4e7cee",
   "metadata": {
    "deletable": false,
    "nbgrader": {
     "cell_type": "code",
     "checksum": "ce6bac268460a227072d8cbff96bbc79",
     "grade": false,
     "grade_id": "cell-4d82ea0870a3c552",
     "locked": false,
     "schema_version": 3,
     "solution": true,
     "task": false
    }
   },
   "outputs": [],
   "source": [
    "### Ex-3-Task-1\n",
    "df_sales = None\n",
    "df_product = None\n",
    "\n",
    "# reading CSV file\n",
    "### BEGIN SOLUTION \n",
    "# YOUR CODE HERE\n",
    "raise NotImplementedError() \n",
    "### END SOLUTION\n"
   ]
  },
  {
   "cell_type": "code",
   "execution_count": null,
   "id": "d2cf1078",
   "metadata": {
    "deletable": false,
    "editable": false,
    "nbgrader": {
     "cell_type": "code",
     "checksum": "84ab4acd8453930e0c42f72165ae8c64",
     "grade": true,
     "grade_id": "cell-41a8f39ffe16bff3",
     "locked": true,
     "points": 1,
     "schema_version": 3,
     "solution": false,
     "task": false
    }
   },
   "outputs": [],
   "source": []
  },
  {
   "cell_type": "markdown",
   "id": "ec86b5d0",
   "metadata": {
    "deletable": false,
    "editable": false,
    "nbgrader": {
     "cell_type": "markdown",
     "checksum": "536a088c2563fccb250d78e66cfbebb7",
     "grade": false,
     "grade_id": "cell-aaddbc8e1c9d7f31",
     "locked": true,
     "schema_version": 3,
     "solution": false,
     "task": false
    }
   },
   "source": [
    "### Basic Inspection"
   ]
  },
  {
   "cell_type": "code",
   "execution_count": null,
   "id": "2c0f06f0",
   "metadata": {
    "deletable": false,
    "nbgrader": {
     "cell_type": "code",
     "checksum": "7c470626e98860b964a39c2e65bcf9e0",
     "grade": false,
     "grade_id": "cell-ce2bca53a06aed23",
     "locked": false,
     "schema_version": 3,
     "solution": true,
     "task": false
    }
   },
   "outputs": [],
   "source": [
    "### Ex-3-Task-2\n",
    "head_df = None \n",
    "tail_df = None \n",
    "desribe_num_df = None\n",
    "desribe_cate_df = None\n",
    "# check the first 10 records of the sales dataframe \n",
    "# check the last 10 records of the product dataframe\n",
    "## Check the description of the numerical and categorical columns of prodcut dataframe\n",
    "### BEGIN SOLUTION \n",
    "# YOUR CODE HERE\n",
    "raise NotImplementedError() \n",
    "### END SOLUTION"
   ]
  },
  {
   "cell_type": "code",
   "execution_count": null,
   "id": "f58b4280",
   "metadata": {
    "deletable": false,
    "editable": false,
    "nbgrader": {
     "cell_type": "code",
     "checksum": "dacb3747dab9ebe38d04c58c3780729b",
     "grade": true,
     "grade_id": "cell-abaa40e3dc8f3774",
     "locked": true,
     "points": 1,
     "schema_version": 3,
     "solution": false,
     "task": false
    }
   },
   "outputs": [],
   "source": []
  },
  {
   "cell_type": "code",
   "execution_count": null,
   "id": "55de7845",
   "metadata": {
    "deletable": false,
    "nbgrader": {
     "cell_type": "code",
     "checksum": "88decb912cd012520f36c337858ab49e",
     "grade": false,
     "grade_id": "cell-1b39910e2c1a83c2",
     "locked": false,
     "schema_version": 3,
     "solution": true,
     "task": false
    }
   },
   "outputs": [],
   "source": [
    "### Ex-3-Task-3\n",
    "\n",
    "# set merchant id as the index of the sales dataframe and check index\n",
    "### BEGIN SOLUTION \n",
    "# YOUR CODE HERE\n",
    "raise NotImplementedError() \n",
    "### END SOLUTION"
   ]
  },
  {
   "cell_type": "code",
   "execution_count": null,
   "id": "c1a78ea0",
   "metadata": {
    "deletable": false,
    "editable": false,
    "nbgrader": {
     "cell_type": "code",
     "checksum": "8d5703fbe7bdff4d991db8976ff7ae44",
     "grade": true,
     "grade_id": "cell-913ac404538d8371",
     "locked": true,
     "points": 1,
     "schema_version": 3,
     "solution": false,
     "task": false
    }
   },
   "outputs": [],
   "source": []
  },
  {
   "cell_type": "code",
   "execution_count": null,
   "id": "db8de8fa",
   "metadata": {
    "deletable": false,
    "nbgrader": {
     "cell_type": "code",
     "checksum": "bbe9c6590287f2a7ac8b8a8002f07f96",
     "grade": false,
     "grade_id": "cell-6c292f0cdae5bf29",
     "locked": false,
     "schema_version": 3,
     "solution": true,
     "task": false
    }
   },
   "outputs": [],
   "source": [
    "### Ex-3-Task-4\n",
    "sorted_df = None\n",
    "## Sort the sales dataframe by rating in Ascending Order, if two records have same rating then sort in descending order by total unit sold\n",
    "### BEGIN SOLUTION \n",
    "# YOUR CODE HERE\n",
    "raise NotImplementedError() \n",
    "### END SOLUTION"
   ]
  },
  {
   "cell_type": "code",
   "execution_count": null,
   "id": "de884114",
   "metadata": {
    "deletable": false,
    "editable": false,
    "nbgrader": {
     "cell_type": "code",
     "checksum": "7147da7be2ca2c4a57030320f4e08795",
     "grade": true,
     "grade_id": "cell-ba1d27a14b984b5a",
     "locked": true,
     "points": 1,
     "schema_version": 3,
     "solution": false,
     "task": false
    }
   },
   "outputs": [],
   "source": []
  },
  {
   "cell_type": "code",
   "execution_count": null,
   "id": "5c8e4273",
   "metadata": {
    "deletable": false,
    "nbgrader": {
     "cell_type": "code",
     "checksum": "fac577f8ae275d5d1e1a24442bafe27a",
     "grade": false,
     "grade_id": "cell-32a7df146fdb75df",
     "locked": false,
     "schema_version": 3,
     "solution": true,
     "task": false
    }
   },
   "outputs": [],
   "source": [
    "### Ex-3-Task-5\n",
    "portion_df = None\n",
    "### Get the sorted dataframe for which rating is 4.041 and store in portion_df\n",
    "### BEGIN SOLUTION \n",
    "# YOUR CODE HERE\n",
    "raise NotImplementedError() \n",
    "### END SOLUTION"
   ]
  },
  {
   "cell_type": "code",
   "execution_count": null,
   "id": "f6d50c75",
   "metadata": {
    "deletable": false,
    "editable": false,
    "nbgrader": {
     "cell_type": "code",
     "checksum": "61f4b05b37094881e23517d0c4ac9f9e",
     "grade": true,
     "grade_id": "cell-4a49c91b20e21223",
     "locked": true,
     "points": 1,
     "schema_version": 3,
     "solution": false,
     "task": false
    }
   },
   "outputs": [],
   "source": []
  },
  {
   "cell_type": "markdown",
   "id": "dd9952db",
   "metadata": {
    "deletable": false,
    "editable": false,
    "nbgrader": {
     "cell_type": "markdown",
     "checksum": "d7de0af9c74ae3d22f7cc324c6e6b83b",
     "grade": false,
     "grade_id": "cell-43fcb3f29a0e0189",
     "locked": true,
     "schema_version": 3,
     "solution": false,
     "task": false
    }
   },
   "source": [
    "### Data Types and Conversion"
   ]
  },
  {
   "cell_type": "code",
   "execution_count": null,
   "id": "e93f7bf5",
   "metadata": {
    "deletable": false,
    "nbgrader": {
     "cell_type": "code",
     "checksum": "1e58c892c99cf7e6211071d9a95355a6",
     "grade": false,
     "grade_id": "cell-e079b9cd0cbdc8a6",
     "locked": false,
     "schema_version": 3,
     "solution": true,
     "task": false
    }
   },
   "outputs": [],
   "source": [
    "### Ex-4-Task-1\n",
    "\n",
    "# the price of the product is upto 2 digit place. I want to convert it into int\n",
    "### BEGIN SOLUTION \n",
    "# YOUR CODE HERE\n",
    "raise NotImplementedError() \n",
    "### END SOLUTION"
   ]
  },
  {
   "cell_type": "code",
   "execution_count": null,
   "id": "19b65e71",
   "metadata": {
    "deletable": false,
    "editable": false,
    "nbgrader": {
     "cell_type": "code",
     "checksum": "6af8ae202d8faf651c0f12ccfff5d322",
     "grade": true,
     "grade_id": "cell-1eafaaed6e1bb7f7",
     "locked": true,
     "points": 1,
     "schema_version": 3,
     "solution": false,
     "task": false
    }
   },
   "outputs": [],
   "source": []
  },
  {
   "cell_type": "code",
   "execution_count": null,
   "id": "2743266e",
   "metadata": {
    "deletable": false,
    "nbgrader": {
     "cell_type": "code",
     "checksum": "d0becff2bf6c8db8364c4e93facb0d90",
     "grade": false,
     "grade_id": "cell-0be0724d8541c06b",
     "locked": false,
     "schema_version": 3,
     "solution": true,
     "task": false
    }
   },
   "outputs": [],
   "source": [
    "### Ex-4-Task-2\n",
    "# The datatype of the craw_month is Object type. I want to convert it to data time format and store it in same columns\n",
    "### BEGIN SOLUTION \n",
    "# YOUR CODE HERE\n",
    "raise NotImplementedError() \n",
    "### END SOLUTION"
   ]
  },
  {
   "cell_type": "code",
   "execution_count": null,
   "id": "a73d8b66",
   "metadata": {
    "deletable": false,
    "editable": false,
    "nbgrader": {
     "cell_type": "code",
     "checksum": "51d2ecb92b81232328e7c58ee3b53bbe",
     "grade": true,
     "grade_id": "cell-fab43c35cf5011db",
     "locked": true,
     "points": 1,
     "schema_version": 3,
     "solution": false,
     "task": false
    }
   },
   "outputs": [],
   "source": []
  },
  {
   "cell_type": "markdown",
   "id": "800f97de",
   "metadata": {
    "deletable": false,
    "editable": false,
    "nbgrader": {
     "cell_type": "markdown",
     "checksum": "ead4583e6081ecce09da19d811202590",
     "grade": false,
     "grade_id": "cell-25d06497af6bb09e",
     "locked": true,
     "schema_version": 3,
     "solution": false,
     "task": false
    }
   },
   "source": [
    "## Data Selection and Filtering"
   ]
  },
  {
   "cell_type": "markdown",
   "id": "6032e99d",
   "metadata": {
    "deletable": false,
    "editable": false,
    "nbgrader": {
     "cell_type": "markdown",
     "checksum": "4cb6acedfeffacb4c861a887d019c4fa",
     "grade": false,
     "grade_id": "cell-2e10fd250e33a6ab",
     "locked": true,
     "schema_version": 3,
     "solution": false,
     "task": false
    }
   },
   "source": [
    "### Selecting Columns and Rows"
   ]
  },
  {
   "cell_type": "code",
   "execution_count": null,
   "id": "f31cb481",
   "metadata": {
    "deletable": false,
    "nbgrader": {
     "cell_type": "code",
     "checksum": "68c1a2f6a5c69c470fce010b97274d43",
     "grade": false,
     "grade_id": "cell-4a89638bb4e331bb",
     "locked": false,
     "schema_version": 3,
     "solution": true,
     "task": false
    }
   },
   "outputs": [],
   "source": [
    "### Ex-5-Task-1\n",
    "ser = None \n",
    "\n",
    "# Select a 'title' column from product dataframe and store in separate variables as series (ser)\n",
    "### BEGIN SOLUTION \n",
    "# YOUR CODE HERE\n",
    "raise NotImplementedError() \n",
    "### END SOLUTION"
   ]
  },
  {
   "cell_type": "code",
   "execution_count": null,
   "id": "db822be7",
   "metadata": {
    "deletable": false,
    "editable": false,
    "nbgrader": {
     "cell_type": "code",
     "checksum": "bc963e1b098871013a6322c33ebccce5",
     "grade": true,
     "grade_id": "cell-c5b6f7ddbbaab9df",
     "locked": true,
     "points": 1,
     "schema_version": 3,
     "solution": false,
     "task": false
    }
   },
   "outputs": [],
   "source": []
  },
  {
   "cell_type": "code",
   "execution_count": null,
   "id": "d169a4ed",
   "metadata": {
    "deletable": false,
    "nbgrader": {
     "cell_type": "code",
     "checksum": "c3025f6a37f97c778d1293dfefb63068",
     "grade": false,
     "grade_id": "cell-aa6e58ced9ad0cd4",
     "locked": false,
     "schema_version": 3,
     "solution": true,
     "task": false
    }
   },
   "outputs": [],
   "source": [
    "### Ex-5-Task-2\n",
    "product_price = None \n",
    "# Select multiple columns ('title', 'price', and 'retail price' ) from product dataframe and store in variable product_price.\n",
    "### BEGIN SOLUTION \n",
    "# YOUR CODE HERE\n",
    "raise NotImplementedError() \n",
    "### END SOLUTION"
   ]
  },
  {
   "cell_type": "code",
   "execution_count": null,
   "id": "d26a0c27",
   "metadata": {
    "deletable": false,
    "editable": false,
    "nbgrader": {
     "cell_type": "code",
     "checksum": "f7a760f2c72d8cc768cff1aa19c0128d",
     "grade": true,
     "grade_id": "cell-f90c8bd6ff766b03",
     "locked": true,
     "points": 0,
     "schema_version": 3,
     "solution": false,
     "task": false
    }
   },
   "outputs": [],
   "source": []
  },
  {
   "cell_type": "markdown",
   "id": "233283c2",
   "metadata": {
    "deletable": false,
    "editable": false,
    "nbgrader": {
     "cell_type": "markdown",
     "checksum": "51f793744ecf9ea014096ff0be93af3f",
     "grade": false,
     "grade_id": "cell-b5cc8db5b5a7499e",
     "locked": true,
     "schema_version": 3,
     "solution": false,
     "task": false
    }
   },
   "source": [
    "### Selection by labels and Selection by position"
   ]
  },
  {
   "cell_type": "code",
   "execution_count": null,
   "id": "7000eea9",
   "metadata": {
    "deletable": false,
    "nbgrader": {
     "cell_type": "code",
     "checksum": "21865fb574944fb1484e4600f85a2a19",
     "grade": false,
     "grade_id": "cell-182f37ff824d8eac",
     "locked": false,
     "schema_version": 3,
     "solution": true,
     "task": false
    }
   },
   "outputs": [],
   "source": [
    "### Ex-5-Task-3\n",
    "single_data = None\n",
    "## Select a data of title column and at index 1572 of product dataframe\n",
    "### BEGIN SOLUTION \n",
    "# YOUR CODE HERE\n",
    "raise NotImplementedError() \n",
    "### END SOLUTION\n"
   ]
  },
  {
   "cell_type": "code",
   "execution_count": null,
   "id": "735a1174",
   "metadata": {
    "deletable": false,
    "editable": false,
    "nbgrader": {
     "cell_type": "code",
     "checksum": "354d350037d3ce6d6bc74a3c14dc396d",
     "grade": true,
     "grade_id": "cell-aa3984006bc075f2",
     "locked": true,
     "points": 1,
     "schema_version": 3,
     "solution": false,
     "task": false
    }
   },
   "outputs": [],
   "source": []
  },
  {
   "cell_type": "code",
   "execution_count": null,
   "id": "9ce4e5da",
   "metadata": {
    "deletable": false,
    "nbgrader": {
     "cell_type": "code",
     "checksum": "228854988bcd13a853a8973145c0d89a",
     "grade": false,
     "grade_id": "cell-859e6859ed62a2ca",
     "locked": false,
     "schema_version": 3,
     "solution": true,
     "task": false
    }
   },
   "outputs": [],
   "source": [
    "### Ex-5-Task-4\n",
    "single_data = None\n",
    "## Select a data of 6th column and at  5tj row of product dataframe\n",
    "### BEGIN SOLUTION \n",
    "# YOUR CODE HERE\n",
    "raise NotImplementedError() \n",
    "### END SOLUTION"
   ]
  },
  {
   "cell_type": "code",
   "execution_count": null,
   "id": "781678a6",
   "metadata": {
    "deletable": false,
    "editable": false,
    "nbgrader": {
     "cell_type": "code",
     "checksum": "3277eda3671ffeb19a728379ac8ac39d",
     "grade": true,
     "grade_id": "cell-951cb3eacc682889",
     "locked": true,
     "points": 1,
     "schema_version": 3,
     "solution": false,
     "task": false
    }
   },
   "outputs": [],
   "source": []
  },
  {
   "cell_type": "code",
   "execution_count": null,
   "id": "797384da",
   "metadata": {
    "deletable": false,
    "nbgrader": {
     "cell_type": "code",
     "checksum": "9570eccd6601ade20898b46c22e55f75",
     "grade": false,
     "grade_id": "cell-67b0b6c6d6ba760b",
     "locked": false,
     "schema_version": 3,
     "solution": true,
     "task": false
    }
   },
   "outputs": [],
   "source": [
    "### Ex-5-Task-5\n",
    "sliced_data = None \n",
    "## Select a portion of data frame with column name currency_buyer, units_sold, merchant_rating_count, merchant_rating and with index 100 to 200\n",
    "### BEGIN SOLUTION \n",
    "# YOUR CODE HERE\n",
    "raise NotImplementedError() \n",
    "### END SOLUTION"
   ]
  },
  {
   "cell_type": "code",
   "execution_count": null,
   "id": "8a5aff8d",
   "metadata": {
    "deletable": false,
    "editable": false,
    "nbgrader": {
     "cell_type": "code",
     "checksum": "6fa42ffe53bc4733cddcb712ba654543",
     "grade": true,
     "grade_id": "cell-0043e436b0682c22",
     "locked": true,
     "points": 1,
     "schema_version": 3,
     "solution": false,
     "task": false
    }
   },
   "outputs": [],
   "source": []
  },
  {
   "cell_type": "code",
   "execution_count": null,
   "id": "1c4f9d9e",
   "metadata": {
    "deletable": false,
    "nbgrader": {
     "cell_type": "code",
     "checksum": "a41d7de179813fa8e73c02108e5e2346",
     "grade": false,
     "grade_id": "cell-0d7f0352100369da",
     "locked": false,
     "schema_version": 3,
     "solution": true,
     "task": false
    }
   },
   "outputs": [],
   "source": [
    "### Ex-5-Task-6\n",
    "sliced_data = None \n",
    "## Select a portion of data frame with 3rd to 8th columns and with rows 100 to 200 \n",
    "# it must only include 100 rows and 7 columns \n",
    "### BEGIN SOLUTION \n",
    "# YOUR CODE HERE\n",
    "raise NotImplementedError() \n",
    "### END SOLUTION\n"
   ]
  },
  {
   "cell_type": "code",
   "execution_count": null,
   "id": "0a72eb8a",
   "metadata": {
    "deletable": false,
    "editable": false,
    "nbgrader": {
     "cell_type": "code",
     "checksum": "944861c79e135b1558d93f5aaafae51f",
     "grade": true,
     "grade_id": "cell-571e43dbc5b0d6eb",
     "locked": true,
     "points": 1,
     "schema_version": 3,
     "solution": false,
     "task": false
    }
   },
   "outputs": [],
   "source": []
  },
  {
   "cell_type": "markdown",
   "id": "6d3d47ea",
   "metadata": {
    "deletable": false,
    "editable": false,
    "nbgrader": {
     "cell_type": "markdown",
     "checksum": "25d7203a070b4ea4e452b8ff0fc5fb25",
     "grade": false,
     "grade_id": "cell-5cb5b08934d8f231",
     "locked": true,
     "schema_version": 3,
     "solution": false,
     "task": false
    }
   },
   "source": [
    "### Boolean Indexing and Conditional Filtering"
   ]
  },
  {
   "cell_type": "code",
   "execution_count": null,
   "id": "b7e76c24",
   "metadata": {
    "deletable": false,
    "nbgrader": {
     "cell_type": "code",
     "checksum": "b579def09b4bceb6d3edbf097cd700b3",
     "grade": false,
     "grade_id": "cell-2094de1b6c7ba6c5",
     "locked": false,
     "schema_version": 3,
     "solution": true,
     "task": false
    }
   },
   "outputs": [],
   "source": [
    "### Ex-5-Task-7\n",
    "mean = None\n",
    "Q3 = None \n",
    "records = None \n",
    "# Find mean and 3rd quantile of the price from product dataframe and get all the records that lies between mean and Q3\n",
    "### BEGIN SOLUTION \n",
    "# YOUR CODE HERE\n",
    "raise NotImplementedError() \n",
    "### END SOLUTION"
   ]
  },
  {
   "cell_type": "code",
   "execution_count": null,
   "id": "c74fcd54",
   "metadata": {
    "deletable": false,
    "editable": false,
    "nbgrader": {
     "cell_type": "code",
     "checksum": "f2b903d71bd567696b5048dff622901e",
     "grade": true,
     "grade_id": "cell-ccd387feabc78546",
     "locked": true,
     "points": 1,
     "schema_version": 3,
     "solution": false,
     "task": false
    }
   },
   "outputs": [],
   "source": []
  },
  {
   "cell_type": "code",
   "execution_count": null,
   "id": "72f11aab",
   "metadata": {
    "deletable": false,
    "nbgrader": {
     "cell_type": "code",
     "checksum": "3bf86349ae569eaa410f5b3c71f319a2",
     "grade": false,
     "grade_id": "cell-23a0fd79d3c282e8",
     "locked": false,
     "schema_version": 3,
     "solution": true,
     "task": false
    }
   },
   "outputs": [],
   "source": [
    "### Ex-5-Task-8\n",
    "summer_product = None \n",
    "## Find all the row in product dataframe containing 'summer' keyword in its title. Make sure the string is lower to get all the records. \n",
    "### BEGIN SOLUTION \n",
    "# YOUR CODE HERE\n",
    "raise NotImplementedError() \n",
    "### END SOLUTION"
   ]
  },
  {
   "cell_type": "code",
   "execution_count": null,
   "id": "819c57cd",
   "metadata": {
    "deletable": false,
    "editable": false,
    "nbgrader": {
     "cell_type": "code",
     "checksum": "f87b654f5dfedb8dcfd6ffd344ca25bd",
     "grade": true,
     "grade_id": "cell-251fe461d71bd244",
     "locked": true,
     "points": 1,
     "schema_version": 3,
     "solution": false,
     "task": false
    }
   },
   "outputs": [],
   "source": []
  },
  {
   "cell_type": "markdown",
   "id": "146a4ec1",
   "metadata": {
    "deletable": false,
    "editable": false,
    "nbgrader": {
     "cell_type": "markdown",
     "checksum": "0090d796121a689f7fa908fa1746a351",
     "grade": false,
     "grade_id": "cell-1a1900ac9c9c957e",
     "locked": true,
     "schema_version": 3,
     "solution": false,
     "task": false
    }
   },
   "source": [
    "## Handling Missing Data"
   ]
  },
  {
   "cell_type": "code",
   "execution_count": null,
   "id": "badb076d",
   "metadata": {
    "deletable": false,
    "nbgrader": {
     "cell_type": "code",
     "checksum": "b444343b03d223781552a9159de4dce9",
     "grade": false,
     "grade_id": "cell-e4dcb1feba437a37",
     "locked": false,
     "schema_version": 3,
     "solution": true,
     "task": false
    }
   },
   "outputs": [],
   "source": [
    "### Ex-6-Task-1\n",
    "count_na = None\n",
    "# Count the number of null data in each columns\n",
    "### BEGIN SOLUTION \n",
    "# YOUR CODE HERE\n",
    "raise NotImplementedError() \n",
    "### END SOLUTION"
   ]
  },
  {
   "cell_type": "code",
   "execution_count": null,
   "id": "69336f3c",
   "metadata": {
    "deletable": false,
    "editable": false,
    "nbgrader": {
     "cell_type": "code",
     "checksum": "5d9a129e660fd144c1d149a86960b1cc",
     "grade": true,
     "grade_id": "cell-bfb77311b2d473eb",
     "locked": true,
     "points": 1,
     "schema_version": 3,
     "solution": false,
     "task": false
    }
   },
   "outputs": [],
   "source": []
  },
  {
   "cell_type": "code",
   "execution_count": null,
   "id": "b573a4b3",
   "metadata": {
    "deletable": false,
    "nbgrader": {
     "cell_type": "code",
     "checksum": "13ee28ffb023462c24066f20e378469b",
     "grade": false,
     "grade_id": "cell-7590f5c0fd1abc99",
     "locked": false,
     "schema_version": 3,
     "solution": true,
     "task": false
    }
   },
   "outputs": [],
   "source": [
    "### Ex-6-Task-2\n",
    "\n",
    "# Impute the  product color with maximum occur value as it is the categorical columns \n",
    "# Impute the rating five count by mean and rating four count by median of respective columns\n",
    "### BEGIN SOLUTION \n",
    "# YOUR CODE HERE\n",
    "raise NotImplementedError() \n",
    "### END SOLUTION"
   ]
  },
  {
   "cell_type": "code",
   "execution_count": null,
   "id": "48c2fbcf",
   "metadata": {
    "deletable": false,
    "editable": false,
    "nbgrader": {
     "cell_type": "code",
     "checksum": "cee2a0941f478af7d7cb80afd8c64a4c",
     "grade": true,
     "grade_id": "cell-f9ddfbd10b3a286f",
     "locked": true,
     "points": 2,
     "schema_version": 3,
     "solution": false,
     "task": false
    }
   },
   "outputs": [],
   "source": []
  },
  {
   "cell_type": "markdown",
   "id": "89931b5e",
   "metadata": {
    "deletable": false,
    "editable": false,
    "nbgrader": {
     "cell_type": "markdown",
     "checksum": "fb13b59dc2125e488b76ff3a55d9c7f5",
     "grade": false,
     "grade_id": "cell-63b225fd1ca69870",
     "locked": true,
     "schema_version": 3,
     "solution": false,
     "task": false
    }
   },
   "source": [
    "## Data Cleaning"
   ]
  },
  {
   "cell_type": "markdown",
   "id": "8ba952b9",
   "metadata": {
    "deletable": false,
    "editable": false,
    "nbgrader": {
     "cell_type": "markdown",
     "checksum": "8ad4302b5ef646270946c75b7bc90022",
     "grade": false,
     "grade_id": "cell-2f5b47c21f602b61",
     "locked": true,
     "schema_version": 3,
     "solution": false,
     "task": false
    }
   },
   "source": [
    "### Removing Duplicates"
   ]
  },
  {
   "cell_type": "code",
   "execution_count": null,
   "id": "2853ae66",
   "metadata": {
    "deletable": false,
    "nbgrader": {
     "cell_type": "code",
     "checksum": "80bb7c5ced28678e68f963851ce384d5",
     "grade": false,
     "grade_id": "cell-7680cf8b324c91be",
     "locked": false,
     "schema_version": 3,
     "solution": true,
     "task": false
    }
   },
   "outputs": [],
   "source": [
    "### Ex-7-Task-1\n",
    "duplicate_count = None\n",
    "df_drop_duplicate = None # store the data frame after removing duplicates \n",
    "# Count no. of duplicates value in product dataframe and drop all the duplicate values \n",
    "### BEGIN SOLUTION \n",
    "# YOUR CODE HERE\n",
    "raise NotImplementedError() \n",
    "### END SOLUTION"
   ]
  },
  {
   "cell_type": "code",
   "execution_count": null,
   "id": "89a5cb7c",
   "metadata": {
    "deletable": false,
    "editable": false,
    "nbgrader": {
     "cell_type": "code",
     "checksum": "56de2c66a7e01766464fd3b9fe1bf190",
     "grade": true,
     "grade_id": "cell-3e3c733c0a4b0e75",
     "locked": true,
     "points": 1,
     "schema_version": 3,
     "solution": false,
     "task": false
    }
   },
   "outputs": [],
   "source": []
  },
  {
   "cell_type": "markdown",
   "id": "427ad132",
   "metadata": {
    "deletable": false,
    "editable": false,
    "nbgrader": {
     "cell_type": "markdown",
     "checksum": "7c71e8cc4af65c1f3ac935bce48fe631",
     "grade": false,
     "grade_id": "cell-a06caa9f77a21271",
     "locked": true,
     "schema_version": 3,
     "solution": false,
     "task": false
    }
   },
   "source": [
    "## Data Transformation"
   ]
  },
  {
   "cell_type": "markdown",
   "id": "79e3826b",
   "metadata": {
    "deletable": false,
    "editable": false,
    "nbgrader": {
     "cell_type": "markdown",
     "checksum": "27270bfd32345b83fd489ae9d259b713",
     "grade": false,
     "grade_id": "cell-9f5713f7da6b80f7",
     "locked": true,
     "schema_version": 3,
     "solution": false,
     "task": false
    }
   },
   "source": [
    "### Applying Functions: Apply, map"
   ]
  },
  {
   "cell_type": "code",
   "execution_count": null,
   "id": "3e484c30",
   "metadata": {
    "deletable": false,
    "nbgrader": {
     "cell_type": "code",
     "checksum": "83d9cef3a30f41cc1749d2dbc59802fa",
     "grade": false,
     "grade_id": "cell-37bdbc2fe79bf59e",
     "locked": false,
     "schema_version": 3,
     "solution": true,
     "task": false
    }
   },
   "outputs": [],
   "source": [
    "### Ex-7-Task-2\n",
    "\n",
    "df_sales['total_profit'] = None\n",
    "# Calculate the total profit using apply function in pandas and save in total_profit column\n",
    "# Formulae: total_profit = (mean product price - mean retail price) * total units sold\n",
    "### BEGIN SOLUTION \n",
    "# YOUR CODE HERE\n",
    "raise NotImplementedError() \n",
    "### END SOLUTION"
   ]
  },
  {
   "cell_type": "code",
   "execution_count": null,
   "id": "d3c2003d",
   "metadata": {
    "deletable": false,
    "editable": false,
    "nbgrader": {
     "cell_type": "code",
     "checksum": "cc4c22eb00de8ba7d64f4dc4f9387f55",
     "grade": true,
     "grade_id": "cell-738ff67865db7568",
     "locked": true,
     "points": 1,
     "schema_version": 3,
     "solution": false,
     "task": false
    }
   },
   "outputs": [],
   "source": []
  },
  {
   "cell_type": "markdown",
   "id": "b2d1416b",
   "metadata": {
    "deletable": false,
    "editable": false,
    "nbgrader": {
     "cell_type": "markdown",
     "checksum": "c927d77ef14908ef83b762b85947b314",
     "grade": false,
     "grade_id": "cell-ef8a78e397b10b5a",
     "locked": true,
     "schema_version": 3,
     "solution": false,
     "task": false
    }
   },
   "source": [
    "### Binning and Categorizing Data"
   ]
  },
  {
   "cell_type": "code",
   "execution_count": null,
   "id": "a38b8a53",
   "metadata": {
    "deletable": false,
    "nbgrader": {
     "cell_type": "code",
     "checksum": "8d4ad5fe8027cf9f6c6109109ce6fe5d",
     "grade": false,
     "grade_id": "cell-adae3d3197a50a0d",
     "locked": false,
     "schema_version": 3,
     "solution": true,
     "task": false
    }
   },
   "outputs": [],
   "source": [
    "### Ex-7-Task-3\n",
    "df_product['sales_category'] = None\n",
    "# Divide the row into three category based on their units sold and save it into the sales_category column of produdct dataframe\n",
    "# category are : low_sales, medium sales, and high sales \n",
    "### BEGIN SOLUTION \n",
    "# YOUR CODE HERE\n",
    "raise NotImplementedError() \n",
    "### END SOLUTION"
   ]
  },
  {
   "cell_type": "code",
   "execution_count": null,
   "id": "a02c2ece",
   "metadata": {
    "deletable": false,
    "editable": false,
    "nbgrader": {
     "cell_type": "code",
     "checksum": "65dcba4ef640ac656d3b52dba4594bfa",
     "grade": true,
     "grade_id": "cell-cf8b45ec41dc1658",
     "locked": true,
     "points": 1,
     "schema_version": 3,
     "solution": false,
     "task": false
    }
   },
   "outputs": [],
   "source": []
  },
  {
   "cell_type": "markdown",
   "id": "badb8b3e",
   "metadata": {
    "deletable": false,
    "editable": false,
    "nbgrader": {
     "cell_type": "markdown",
     "checksum": "3a56bb525106dbc2038dc09d134201e8",
     "grade": false,
     "grade_id": "cell-ab03aef8c319efae",
     "locked": true,
     "schema_version": 3,
     "solution": false,
     "task": false
    }
   },
   "source": [
    "## Data Aggregation and Grouping"
   ]
  },
  {
   "cell_type": "markdown",
   "id": "771796e6",
   "metadata": {
    "deletable": false,
    "editable": false,
    "nbgrader": {
     "cell_type": "markdown",
     "checksum": "90d17a4ac0a4ef3e117807d7754cc141",
     "grade": false,
     "grade_id": "cell-336a67c716f289ad",
     "locked": true,
     "schema_version": 3,
     "solution": false,
     "task": false
    }
   },
   "source": [
    "### Groupby aggregation function\n"
   ]
  },
  {
   "cell_type": "code",
   "execution_count": null,
   "id": "8eb680d5",
   "metadata": {
    "deletable": false,
    "nbgrader": {
     "cell_type": "code",
     "checksum": "1e23172f7d0139d4d1a871b04c0870bd",
     "grade": false,
     "grade_id": "cell-bc09883254c13cbb",
     "locked": false,
     "schema_version": 3,
     "solution": true,
     "task": false
    }
   },
   "outputs": [],
   "source": [
    "### Ex-8-Task-1\n",
    "\n",
    "group_df = None \n",
    "# Create a group of low, medium and high sales and then calulcate, mean of price, median of retail price, min of units_sold and max of rating_five_count of each category\n",
    "### BEGIN SOLUTION \n",
    "# YOUR CODE HERE\n",
    "raise NotImplementedError() \n",
    "### END SOLUTION"
   ]
  },
  {
   "cell_type": "code",
   "execution_count": null,
   "id": "707ab870",
   "metadata": {
    "deletable": false,
    "editable": false,
    "nbgrader": {
     "cell_type": "code",
     "checksum": "a3e58f54137eb898fa58cd171517a720",
     "grade": true,
     "grade_id": "cell-8fe59ad3ea8407dd",
     "locked": true,
     "points": 1,
     "schema_version": 3,
     "solution": false,
     "task": false
    }
   },
   "outputs": [],
   "source": []
  },
  {
   "cell_type": "code",
   "execution_count": null,
   "id": "1f352a84",
   "metadata": {
    "deletable": false,
    "nbgrader": {
     "cell_type": "code",
     "checksum": "05c6e533d41cf034bde477f91d4a8674",
     "grade": false,
     "grade_id": "cell-255f0b442e9f0439",
     "locked": false,
     "schema_version": 3,
     "solution": true,
     "task": false
    }
   },
   "outputs": [],
   "source": [
    "### Ex-8-Task-2\n",
    "group_df = None\n",
    "## Calculate the Coefficient of Variation of each sales category\n",
    "### BEGIN SOLUTION \n",
    "# YOUR CODE HERE\n",
    "raise NotImplementedError() \n",
    "### END SOLUTION\n"
   ]
  },
  {
   "cell_type": "code",
   "execution_count": null,
   "id": "4c299817",
   "metadata": {
    "deletable": false,
    "editable": false,
    "nbgrader": {
     "cell_type": "code",
     "checksum": "b507610a564605d71a19a5a1515775b0",
     "grade": true,
     "grade_id": "cell-65228f6081c39dd9",
     "locked": true,
     "points": 1,
     "schema_version": 3,
     "solution": false,
     "task": false
    }
   },
   "outputs": [],
   "source": []
  },
  {
   "cell_type": "code",
   "execution_count": null,
   "id": "82187787",
   "metadata": {
    "deletable": false,
    "nbgrader": {
     "cell_type": "code",
     "checksum": "8dc7788f5775e9869b018fd635eba79c",
     "grade": false,
     "grade_id": "cell-0eb63d9d4433e462",
     "locked": false,
     "schema_version": 3,
     "solution": true,
     "task": false
    }
   },
   "outputs": [],
   "source": [
    "### Ex-8-Task-3\n",
    "df_product['price_zscore'] = None\n",
    "## Calculate the Z_score of price for each sales category\n",
    "### BEGIN SOLUTION \n",
    "# YOUR CODE HERE\n",
    "raise NotImplementedError() \n",
    "### END SOLUTION"
   ]
  },
  {
   "cell_type": "code",
   "execution_count": null,
   "id": "2a4b0c72",
   "metadata": {
    "deletable": false,
    "editable": false,
    "nbgrader": {
     "cell_type": "code",
     "checksum": "c4d0ff0a80620e4f98acd511ef640e42",
     "grade": true,
     "grade_id": "cell-6e683a9fe7f0ebae",
     "locked": true,
     "points": 1,
     "schema_version": 3,
     "solution": false,
     "task": false
    }
   },
   "outputs": [],
   "source": []
  },
  {
   "cell_type": "markdown",
   "id": "332105b2",
   "metadata": {
    "deletable": false,
    "editable": false,
    "nbgrader": {
     "cell_type": "markdown",
     "checksum": "cea5216760ade70f3b347ae198368566",
     "grade": false,
     "grade_id": "cell-73cfb7e1ff209c75",
     "locked": true,
     "schema_version": 3,
     "solution": false,
     "task": false
    }
   },
   "source": [
    "## Merging"
   ]
  },
  {
   "cell_type": "code",
   "execution_count": null,
   "id": "7c2a1017",
   "metadata": {
    "deletable": false,
    "nbgrader": {
     "cell_type": "code",
     "checksum": "3269c19a53b455cdd8b4a9c7bba095b6",
     "grade": false,
     "grade_id": "cell-d35eb6f93360efbd",
     "locked": false,
     "schema_version": 3,
     "solution": true,
     "task": false
    }
   },
   "outputs": [],
   "source": [
    "### Ex-9-Task-1\n",
    "merged_df = None\n",
    "# Merge the sales and product dataframe and delete all the non common entries. Merge two dataframe based on merchant id.\n",
    "### BEGIN SOLUTION \n",
    "# YOUR CODE HERE\n",
    "raise NotImplementedError() \n",
    "### END SOLUTION"
   ]
  },
  {
   "cell_type": "code",
   "execution_count": null,
   "id": "1a69f064",
   "metadata": {
    "deletable": false,
    "editable": false,
    "nbgrader": {
     "cell_type": "code",
     "checksum": "89b908ab91d3db4f4135d606a00a520b",
     "grade": true,
     "grade_id": "cell-89f4a5c6f9a67448",
     "locked": true,
     "points": 1,
     "schema_version": 3,
     "solution": false,
     "task": false
    }
   },
   "outputs": [],
   "source": []
  },
  {
   "cell_type": "markdown",
   "id": "4eba231b",
   "metadata": {
    "deletable": false,
    "editable": false,
    "nbgrader": {
     "cell_type": "markdown",
     "checksum": "9e4f39188b42896adae8bb608e260180",
     "grade": false,
     "grade_id": "cell-19dd0389d61f7aa3",
     "locked": true,
     "schema_version": 3,
     "solution": false,
     "task": false
    }
   },
   "source": [
    "# Data Wrangling End to End "
   ]
  },
  {
   "cell_type": "markdown",
   "id": "0d1ed08c",
   "metadata": {
    "deletable": false,
    "editable": false,
    "nbgrader": {
     "cell_type": "markdown",
     "checksum": "02a9ff059eb8d44ea00d1aeec9b6498a",
     "grade": false,
     "grade_id": "cell-4a8f991c26062ee7",
     "locked": true,
     "schema_version": 3,
     "solution": false,
     "task": false
    }
   },
   "source": [
    "## Data Cleaning"
   ]
  },
  {
   "cell_type": "markdown",
   "id": "b3887a25",
   "metadata": {
    "deletable": false,
    "editable": false,
    "nbgrader": {
     "cell_type": "markdown",
     "checksum": "aa3a6f31ea4e2045acbe67320328e39f",
     "grade": false,
     "grade_id": "cell-adc568fe379be45f",
     "locked": true,
     "schema_version": 3,
     "solution": false,
     "task": false
    }
   },
   "source": [
    "#### Features and Columns \n",
    "The data was scraped in the french localisation (hence some non-ascii latin characters such as « é » and « à ») in the title column.\n",
    "\n",
    "The title_orig on the other hand contains the original title (the base title) that is displayed by default. When a translation is provided by the seller, it appears in the title column. When the title and title_orig columns are the same, it generally means that the seller did not specify a translation that would be displayed to users with french settings.\n",
    "\n",
    "A picture is worth a thousand words. In the following screenshot you see some features and how to interpret them."
   ]
  },
  {
   "cell_type": "markdown",
   "id": "2e76a8bc",
   "metadata": {
    "deletable": false,
    "editable": false,
    "nbgrader": {
     "cell_type": "markdown",
     "checksum": "e71b070ccd907e1fe099d155b4b0c4e6",
     "grade": false,
     "grade_id": "cell-9b6099c3a5380cf8",
     "locked": true,
     "schema_version": 3,
     "solution": false,
     "task": false
    }
   },
   "source": [
    "![](wish_viz.jpg)"
   ]
  },
  {
   "cell_type": "code",
   "execution_count": null,
   "id": "afa026fd",
   "metadata": {
    "deletable": false,
    "nbgrader": {
     "cell_type": "code",
     "checksum": "24df17957ed1bc59b546ebc8016a1054",
     "grade": false,
     "grade_id": "cell-90cb0ba6b0e67ba6",
     "locked": false,
     "schema_version": 3,
     "solution": true,
     "task": false
    }
   },
   "outputs": [],
   "source": [
    "### Ex-10-Task-1\n",
    "df = None \n",
    "# Read the product data frame with rating and performance \n",
    "### BEGIN SOLUTION \n",
    "# YOUR CODE HERE\n",
    "raise NotImplementedError() \n",
    "### END SOLUTION"
   ]
  },
  {
   "cell_type": "code",
   "execution_count": null,
   "id": "0ab02271",
   "metadata": {
    "deletable": false,
    "editable": false,
    "nbgrader": {
     "cell_type": "code",
     "checksum": "ba1f8eec0e748389ffcb340905bb0129",
     "grade": true,
     "grade_id": "cell-149f0a0caae47f29",
     "locked": true,
     "points": 1,
     "schema_version": 3,
     "solution": false,
     "task": false
    }
   },
   "outputs": [],
   "source": []
  },
  {
   "cell_type": "markdown",
   "id": "e9264124",
   "metadata": {
    "deletable": false,
    "editable": false,
    "nbgrader": {
     "cell_type": "markdown",
     "checksum": "ca24904520f7f44ef87718413603058c",
     "grade": false,
     "grade_id": "cell-89ba6af5a35d2ddc",
     "locked": true,
     "schema_version": 3,
     "solution": false,
     "task": false
    }
   },
   "source": [
    "There are total 43 columns. Let's try to reduce the number. \n",
    "\n",
    "#### Some considerations:\n",
    "- Excluded product color and size because it's just showing the ones that were found in getting the data : there are more colors and sizes for each product so having just one for each category doesn't say much.\n",
    "- Excluded currency used, as every price is in EUR\n",
    "- Excluded shipping option, the \"shipping_is_express\" column is enough.\n",
    "- Excluded product's and merchant's id's and pictures, that won't be needed.\n",
    "- Use only original title \n",
    "\n"
   ]
  },
  {
   "cell_type": "markdown",
   "id": "a3079bf3",
   "metadata": {
    "deletable": false,
    "editable": false,
    "nbgrader": {
     "cell_type": "markdown",
     "checksum": "0242c22e9222213a8fef9d25a671cb08",
     "grade": false,
     "grade_id": "cell-f1e0b4fff17ae336",
     "locked": true,
     "schema_version": 3,
     "solution": false,
     "task": false
    }
   },
   "source": [
    "After removal of column, it must only have these columns. \n",
    "\n",
    "'title_orig', 'price', 'retail_price',\n",
    "'units_sold', 'uses_ad_boosts', 'rating', 'rating_count',\n",
    "'rating_five_count', 'rating_four_count', 'rating_three_count',\n",
    "'rating_two_count', 'rating_one_count', 'badges_count',\n",
    "'badge_local_product', 'badge_product_quality', 'badge_fast_shipping',\n",
    "'tags', 'shipping_option_price', 'shipping_is_express', 'countries_shipped_to',\n",
    "'inventory_total', 'has_urgency_banner',\n",
    "'merchant_rating_count', 'merchant_rating',\n",
    "'merchant_has_profile_picture'"
   ]
  },
  {
   "cell_type": "code",
   "execution_count": null,
   "id": "eda6dc85",
   "metadata": {
    "deletable": false,
    "nbgrader": {
     "cell_type": "code",
     "checksum": "9aef7b79f087403a189c5713cd5b4c6b",
     "grade": false,
     "grade_id": "cell-762c798491c128f0",
     "locked": false,
     "schema_version": 3,
     "solution": true,
     "task": false
    }
   },
   "outputs": [],
   "source": [
    "### Ex-10-Task-2\n",
    "df = df[['title_orig', 'price', 'retail_price',\n",
    "        'units_sold', 'uses_ad_boosts', 'rating', 'rating_count',\n",
    "       'rating_five_count', 'rating_four_count', 'rating_three_count',\n",
    "       'rating_two_count', 'rating_one_count', 'badges_count',\n",
    "       'badge_local_product', 'badge_product_quality', 'badge_fast_shipping',\n",
    "       'tags', 'shipping_option_price','shipping_is_express', 'countries_shipped_to',\n",
    "        'has_urgency_banner','merchant_rating_count', 'merchant_rating','merchant_has_profile_picture',\n",
    "        ]]\n",
    "\n",
    "# print(df.info())\n",
    "# print(df.isna().sum())\n",
    "# print(df['has_urgency_banner'].value_counts())\n",
    "# Check the data frame information, total no. of null entries in each columns and has_urgency_banner columns counts\n",
    "# After loading the data we se we have 1573 entries and some null values, let's see what some of them are about:\n",
    "# - Exactly 45 for rating counts from 1 to 5 star, could it be that there are products with no ratings at all?\n",
    "# - 1100 null values in the has urgency banner : the values there are 1's so the null values should be turned into 0's\n",
    "# Now, Rename the columns 'has_urgency_banner' to 'is_running_out' and 'title_orig' to 'title' to make it more clear.\n",
    "# **Fix the runing out column. fill all the null values with 0's.\n",
    "### BEGIN SOLUTION \n",
    "# YOUR CODE HERE\n",
    "raise NotImplementedError() \n",
    "### END SOLUTION"
   ]
  },
  {
   "cell_type": "code",
   "execution_count": null,
   "id": "ac9aff1d",
   "metadata": {
    "deletable": false,
    "editable": false,
    "nbgrader": {
     "cell_type": "code",
     "checksum": "7e21cd3722825c4ed91d6eb56a3a735d",
     "grade": true,
     "grade_id": "cell-2792a2b0fe4bc990",
     "locked": true,
     "points": 1,
     "schema_version": 3,
     "solution": false,
     "task": false
    }
   },
   "outputs": [],
   "source": []
  },
  {
   "cell_type": "markdown",
   "id": "13dcdebe",
   "metadata": {
    "deletable": false,
    "editable": false,
    "nbgrader": {
     "cell_type": "markdown",
     "checksum": "b2eeb7b92b19bee482f66fca23267920",
     "grade": false,
     "grade_id": "cell-3e87e9d30abaae85",
     "locked": true,
     "schema_version": 3,
     "solution": false,
     "task": false
    }
   },
   "source": [
    "#### Check if all the 45 null values for all rating columns belong to same product.\n",
    "- Get the dataframe for which rating_five_count have null values\n",
    "- Then, Count the no. of null values for four, three, two and one rating column.\n",
    "\n",
    "Conclusion: As expected we see the null values in the rating are actually of the same 45 products"
   ]
  },
  {
   "cell_type": "code",
   "execution_count": null,
   "id": "50e1bf69",
   "metadata": {
    "deletable": false,
    "nbgrader": {
     "cell_type": "code",
     "checksum": "17f2ed322b10f89e0698476589c7a45a",
     "grade": false,
     "grade_id": "cell-869ce4e343b94b16",
     "locked": false,
     "schema_version": 3,
     "solution": true,
     "task": false
    }
   },
   "outputs": [],
   "source": [
    "### Ex-10-Task-3\n",
    "df[df['rating_five_count'].isna()][['rating_four_count', 'rating_three_count',\n",
    "       'rating_two_count', 'rating_one_count']].isna().sum()\n",
    "df[df['rating_five_count'].isna()].head()\n",
    "# They seem to be having a rating of 5 even with no ratings: we are going to change the rating and all the rating counts to 0\n",
    "### BEGIN SOLUTION \n",
    "# YOUR CODE HERE\n",
    "raise NotImplementedError() \n",
    "### END SOLUTION"
   ]
  },
  {
   "cell_type": "code",
   "execution_count": null,
   "id": "3ce42672",
   "metadata": {
    "deletable": false,
    "editable": false,
    "nbgrader": {
     "cell_type": "code",
     "checksum": "7443bae47b542a2ac3b422cc4d452f8e",
     "grade": true,
     "grade_id": "cell-c19575e64a68a249",
     "locked": true,
     "points": 2,
     "schema_version": 3,
     "solution": false,
     "task": false
    }
   },
   "outputs": [],
   "source": []
  },
  {
   "cell_type": "markdown",
   "id": "ed51746f",
   "metadata": {
    "deletable": false,
    "editable": false,
    "nbgrader": {
     "cell_type": "markdown",
     "checksum": "fbff584ffbd8a2c144cec0f1a0cde971",
     "grade": false,
     "grade_id": "cell-d6aeb563abcc4dd7",
     "locked": true,
     "schema_version": 3,
     "solution": false,
     "task": false
    }
   },
   "source": [
    "## Data Exploration"
   ]
  },
  {
   "cell_type": "markdown",
   "id": "4e5c8df3",
   "metadata": {
    "deletable": false,
    "editable": false,
    "nbgrader": {
     "cell_type": "markdown",
     "checksum": "6e51d4f2d3b52c2d7e2810aff5b411d4",
     "grade": false,
     "grade_id": "cell-59d1f46caa0cc552",
     "locked": true,
     "schema_version": 3,
     "solution": false,
     "task": false
    }
   },
   "source": [
    "```df['units_sold'].unique()```"
   ]
  },
  {
   "cell_type": "markdown",
   "id": "596bf957",
   "metadata": {
    "deletable": false,
    "editable": false,
    "nbgrader": {
     "cell_type": "markdown",
     "checksum": "588bf7f26bf04ccfa68d60dca86ee41d",
     "grade": false,
     "grade_id": "cell-0fa82b606236279e",
     "locked": true,
     "schema_version": 3,
     "solution": false,
     "task": false
    }
   },
   "source": [
    "It seems like they are all numbers approximated to their lower bound. So let's pretend they are divided in ranges like this:\n",
    "\n",
    "- 10-100\n",
    "- 100-1000\n",
    "- 1000-5000\n",
    "- 5000-10000\n",
    "- 10000-20000\n",
    "- 20000-50000\n",
    "- 50000-100000\n",
    "- 100000+\n",
    "\n",
    "Let's define 3 performance characteristics:\n",
    "\n",
    "- Average : 0-1000\n",
    "- Successful: 1000-20000\n",
    "- Very Successful 20000+\n",
    "\n",
    "Find the percentage of product belongs to each category.\n",
    "Steps:\n",
    "1. First find the performance category and store in performance columns\n",
    "2. Then, Calculate the percentage of product in each performance category\n",
    "\n"
   ]
  },
  {
   "cell_type": "code",
   "execution_count": null,
   "id": "744063f9",
   "metadata": {
    "deletable": false,
    "nbgrader": {
     "cell_type": "code",
     "checksum": "35529fcfa1f1c61b58d31304db826093",
     "grade": false,
     "grade_id": "cell-276dee2ed209a6be",
     "locked": false,
     "schema_version": 3,
     "solution": true,
     "task": false
    }
   },
   "outputs": [],
   "source": [
    "### Ex-10-Task-4\n",
    "percentage_of_product_in_each_performance_category = None\n",
    "### BEGIN SOLUTION \n",
    "# YOUR CODE HERE\n",
    "raise NotImplementedError() \n",
    "### END SOLUTION\n"
   ]
  },
  {
   "cell_type": "code",
   "execution_count": null,
   "id": "6bcdd8a8",
   "metadata": {
    "deletable": false,
    "editable": false,
    "nbgrader": {
     "cell_type": "code",
     "checksum": "aa928a1697ccdbf3114c1f2254ccf6fd",
     "grade": true,
     "grade_id": "cell-084e3aae9beedb69",
     "locked": true,
     "points": 2,
     "schema_version": 3,
     "solution": false,
     "task": false
    }
   },
   "outputs": [],
   "source": []
  },
  {
   "cell_type": "markdown",
   "id": "4bbf4f98",
   "metadata": {
    "deletable": false,
    "editable": false,
    "nbgrader": {
     "cell_type": "markdown",
     "checksum": "8864f799b28e44ca1f2c677f132470a4",
     "grade": false,
     "grade_id": "cell-a8b02413975b57af",
     "locked": true,
     "schema_version": 3,
     "solution": false,
     "task": false
    }
   },
   "source": [
    "## Product Rating and Performance Comparision"
   ]
  },
  {
   "cell_type": "markdown",
   "id": "8c62adc0",
   "metadata": {
    "deletable": false,
    "editable": false,
    "nbgrader": {
     "cell_type": "markdown",
     "checksum": "21c03ebbe4b9b2e41b5e7a13ee035167",
     "grade": false,
     "grade_id": "cell-4a647c18ed111e2b",
     "locked": true,
     "schema_version": 3,
     "solution": false,
     "task": false
    }
   },
   "source": [
    "Looking at the rating columns I notice two things:\n",
    "\n",
    "- Some products have a rating count that's too low to be considered, let's only look at products with more than 150 ratings to try to have a fair result\n",
    "- The rating of the products is a decimal number: let's create another column that categorizes each product into it's rating range.\n",
    "    - columns are \n",
    "        1. < 1 if rating < 1\n",
    "        2. 1-2 if rating >= 1 and rating < 2\n",
    "        3. 2-3 if rating >= 2 and rating < 3\n",
    "        4. 3-4 if rating >= 3 and rating < 4\n",
    "        5. 4-5 if rating >= 4 and rating < 5\n",
    "- Create pivot table with performance in index, raiting_range in column and no. of product as values\n",
    "\n"
   ]
  },
  {
   "cell_type": "code",
   "execution_count": null,
   "id": "7ba90b50",
   "metadata": {
    "deletable": false,
    "nbgrader": {
     "cell_type": "code",
     "checksum": "d4f088eea8ca9938262fea4ab09abca6",
     "grade": false,
     "grade_id": "cell-232ab77d5b3981bf",
     "locked": false,
     "schema_version": 3,
     "solution": true,
     "task": false
    }
   },
   "outputs": [],
   "source": [
    "### Ex-10-Task-5\n",
    "df_ratings = pd.DataFrame()  ## get records with rating_count > 100\n",
    "df_ratings['rating_range'] = None\n",
    "pivot_table = None\n",
    "### BEGIN SOLUTION \n",
    "# YOUR CODE HERE\n",
    "raise NotImplementedError() \n",
    "### END SOLUTION"
   ]
  },
  {
   "cell_type": "markdown",
   "id": "be1c64f7",
   "metadata": {
    "deletable": false,
    "editable": false,
    "nbgrader": {
     "cell_type": "markdown",
     "checksum": "8f815dc10b09235a6349f5372925d578",
     "grade": false,
     "grade_id": "cell-318c2c6d0f68165f",
     "locked": true,
     "schema_version": 3,
     "solution": false,
     "task": false
    }
   },
   "source": [
    "This table shows that if the product have average rating of 3-4. THen, it is most likely to be successful product."
   ]
  },
  {
   "cell_type": "code",
   "execution_count": null,
   "id": "c23169c8",
   "metadata": {
    "deletable": false,
    "editable": false,
    "nbgrader": {
     "cell_type": "code",
     "checksum": "3685a856131460d5a48299f1e10c6955",
     "grade": true,
     "grade_id": "cell-f722ef96643e7bc3",
     "locked": true,
     "points": 3,
     "schema_version": 3,
     "solution": false,
     "task": false
    }
   },
   "outputs": [],
   "source": []
  },
  {
   "cell_type": "code",
   "execution_count": null,
   "id": "4abdcb7c",
   "metadata": {
    "deletable": false,
    "editable": false,
    "nbgrader": {
     "cell_type": "code",
     "checksum": "ea80f5ec32e1d04ae2641eb2643c6b12",
     "grade": false,
     "grade_id": "cell-68e58f026e8e4cc4",
     "locked": true,
     "schema_version": 3,
     "solution": false,
     "task": false
    }
   },
   "outputs": [],
   "source": []
  }
 ],
 "metadata": {
  "kernelspec": {
   "display_name": "Python 3 (ipykernel)",
   "language": "python",
   "name": "python3"
  },
  "language_info": {
   "codemirror_mode": {
    "name": "ipython",
    "version": 3
   },
   "file_extension": ".py",
   "mimetype": "text/x-python",
   "name": "python",
   "nbconvert_exporter": "python",
   "pygments_lexer": "ipython3",
   "version": "3.10.16"
  }
 },
 "nbformat": 4,
 "nbformat_minor": 5
}
