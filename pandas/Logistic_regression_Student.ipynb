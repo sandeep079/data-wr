{
 "cells": [
  {
   "cell_type": "markdown",
   "metadata": {
    "deletable": false,
    "editable": false,
    "id": "fx6UjEaZVOog",
    "nbgrader": {
     "cell_type": "markdown",
     "checksum": "acd5d872973e852ac65f80ff48b86ffb",
     "grade": false,
     "grade_id": "cell-91e17f0c857ac889",
     "locked": true,
     "schema_version": 3,
     "solution": false
    }
   },
   "source": [
    "# Student Performance in Secondary School\n",
    "## Learning Objective\n",
    "*Here in this assignment, we will be using the same dataset we used in the assignment of Linear regression i.e Student Performance Dataset.*\n",
    "\n",
    "Here, you will train Logistic regression to predict if the students pass or fail given different features and also, evaluate the performance of the model.\n",
    "\n",
    "<b><div style=\"text-align: right\">[TOTAL POINTS: 10]</div></b>\n",
    "\n"
   ]
  },
  {
   "cell_type": "markdown",
   "metadata": {
    "deletable": false,
    "editable": false,
    "id": "rki0jFkpONul",
    "nbgrader": {
     "cell_type": "markdown",
     "checksum": "149b81624a22c5c5f0cf9f1709c70d87",
     "grade": false,
     "grade_id": "cell-08c1ccbd6c052df6",
     "locked": true,
     "schema_version": 3,
     "solution": false
    }
   },
   "source": [
    "## Dataset Description:\n",
    "\n",
    "**Student Performance Data Set**\n",
    "\n",
    "*Source:* https://archive.ics.uci.edu/ml/datasets/Student+Performance \\\n",
    "*Author:* Paulo Cortez, University of Minho, Guimarães, Portugal, http://www3.dsi.uminho.pt/pcortez \\\n",
    "*Original Source:* P. Cortez and A. Silva. Using Data Mining to Predict Secondary School Student Performance. In A. Brito and J. Teixeira Eds., Proceedings of 5th FUture BUsiness TEChnology Conference (FUBUTEC 2008) pp. 5-12, Porto, Portugal, April, 2008, EUROSIS, ISBN 978-9077381-39-7.\n",
    "\n",
    "\n",
    "This data approach student achievement in secondary education of two Portuguese schools. The data attributes include student grades, demographic, social and school related features and it was collected by using school reports and questionnaires. Two datasets are provided regarding the performance in two distinct subjects: Mathematics (mat) and Portuguese language (por). In [Cortez and Silva, 2008](http://www3.dsi.uminho.pt/pcortez/student.pdf), the two datasets were modeled under binary/five-level classification and regression tasks.  But here we are only using it binary classification task.\n",
    "\n",
    "**Number of Instances:** 395 \\\n",
    "**Number of Attributes:** 32 **Input Features** + 1 **Target**('G3')\n",
    "\n",
    "### Attribute Information:\n",
    "\n",
    "Attributes for both student-mat.csv (Math course) and student-por.csv (Portuguese language course) datasets:\n",
    "1. school - student's school (binary: 'GP' - Gabriel Pereira or 'MS' - Mousinho da Silveira)\n",
    "2. sex - student's sex (binary: 'F' - female or 'M' - male)\n",
    "3. age - student's age (numeric: from 15 to 22)\n",
    "4. address - student's home address type (binary: 'U' - urban or 'R' - rural)\n",
    "5. famsize - family size (binary: 'LE3' - less or equal to 3 or 'GT3' - greater than 3)\n",
    "6. Pstatus - parent's cohabitation status (binary: 'T' - living together or 'A' - apart)\n",
    "7. Medu - mother's education (numeric: 0 - none, 1 - primary education (4th grade), 2 - 5th to 9th grade, 3 - secondary education or 4 - higher education)\n",
    "8. Fedu - father's education (numeric: 0 - none, 1 - primary education (4th grade), 2 - 5th to 9th grade, 3 - secondary education or 4 - higher education)\n",
    "9. Mjob - mother's job (nominal: 'teacher', 'health' care related, civil 'services' (e.g. administrative or police), 'at_home' or 'other')\n",
    "10. Fjob - father's job (nominal: 'teacher', 'health' care related, civil 'services' (e.g. administrative or police), 'at_home' or 'other')\n",
    "11. reason - reason to choose this school (nominal: close to 'home', school 'reputation', 'course' preference or 'other')\n",
    "12. guardian - student's guardian (nominal: 'mother', 'father' or 'other')\n",
    "13. traveltime - home to school travel time (numeric: 1 - <15 min., 2 - 15 to 30 min., 3 - 30 min. to 1 hour, or 4 - >1 hour)\n",
    "14. studytime - weekly study time (numeric: 1 - <2 hours, 2 - 2 to 5 hours, 3 - 5 to 10 hours, or 4 - >10 hours)\n",
    "15. failures - number of past class failures (numeric: n if 1<=n<3, else 4)\n",
    "16. schoolsup - extra educational support (binary: yes or no)\n",
    "17. famsup - family educational support (binary: yes or no)\n",
    "18. paid - extra paid classes within the course subject (Math or Portuguese) (binary: yes or no)\n",
    "19. activities - extra-curricular activities (binary: yes or no)\n",
    "20. nursery - attended nursery school (binary: yes or no)\n",
    "21. higher - wants to take higher education (binary: yes or no)\n",
    "22. internet - Internet access at home (binary: yes or no)\n",
    "23. romantic - with a romantic relationship (binary: yes or no)\n",
    "24. famrel - quality of family relationships (numeric: from 1 - very bad to 5 - excellent)\n",
    "25. freetime - free time after school (numeric: from 1 - very low to 5 - very high)\n",
    "26. goout - going out with friends (numeric: from 1 - very low to 5 - very high)\n",
    "27. Dalc - workday alcohol consumption (numeric: from 1 - very low to 5 - very high)\n",
    "28. Walc - weekend alcohol consumption (numeric: from 1 - very low to 5 - very high)\n",
    "29. health - current health status (numeric: from 1 - very bad to 5 - very good)\n",
    "30. absences - number of school absences (numeric: from 0 to 93)\n",
    "\n",
    "These grades are related with the course subject, Math or Portuguese:\n",
    "\n",
    "31. G1 - first period grade (numeric: from 0 to 20)\n",
    "31. G2 - second period grade (numeric: from 0 to 20)\n",
    "33. **G3 - final grade (numeric: from 0 to 20, output target)**\n",
    "\n",
    "\n",
    "**Note:** the target attribute G3 has a strong correlation with attributes G2 and G1. This occurs because G3 is the final year grade (issued at the 3rd period), while G1 and G2 correspond to the 1st and 2nd period grades. It is more difficult to predict G3 without G2 and G1, but such prediction is much more useful.\n",
    "\n",
    "\n",
    "This is a regression problem that you already solved in the previous module. To model this as the classification problem we somehow need to convert the numeric values to categories.\n",
    "One way to do so is by predicting if student passes or fails i.e binary classification, rather than predicting the score itself.\n",
    "\n",
    "In the dataset `G3` is the final grade score. We can define a passing criteria such that, if the G3 Score is less than 10, the student fails, and if the G3 score is greater than or equal to 10, the student pass.\n"
   ]
  },
  {
   "cell_type": "markdown",
   "metadata": {
    "deletable": false,
    "editable": false,
    "id": "EoQWq9H6x8Yj",
    "nbgrader": {
     "cell_type": "markdown",
     "checksum": "7ccbd0be467521b0bec635c0009d6acb",
     "grade": false,
     "grade_id": "cell-569149bbace8af47",
     "locked": true,
     "schema_version": 3,
     "solution": false
    }
   },
   "source": [
    "### Import libraries and load the dataset.\n"
   ]
  },
  {
   "cell_type": "code",
   "execution_count": 1,
   "metadata": {
    "deletable": false,
    "editable": false,
    "id": "1Et_lU4lUYch",
    "nbgrader": {
     "cell_type": "code",
     "checksum": "99eaa705502d4cdc96327872edeba080",
     "grade": false,
     "grade_id": "cell-c453a2643c435012",
     "locked": true,
     "schema_version": 3,
     "solution": false
    }
   },
   "outputs": [],
   "source": [
    "### Import Necessary libraries\n",
    "\n",
    "import numpy as np\n",
    "import pandas as pd\n",
    "import matplotlib.pyplot as plt\n",
    "\n",
    "%matplotlib inline"
   ]
  },
  {
   "cell_type": "markdown",
   "metadata": {
    "deletable": false,
    "editable": false,
    "id": "ZLASrVMiyPo-",
    "nbgrader": {
     "cell_type": "markdown",
     "checksum": "612ace5e187be0526a69e299e2b8a18f",
     "grade": false,
     "grade_id": "cell-c05673e3d3ab2595",
     "locked": true,
     "schema_version": 3,
     "solution": false
    }
   },
   "source": [
    "### Exercise 1 : Load the data.\n",
    "<b><div style=\"text-align: right\">[UNGRADED]</div></b>\n",
    "\n",
    "**Task:**\n",
    "\n",
    "\n",
    "*  Load the data using `DATASET_URL`  as pandas dataframe in `df`\n",
    "\n",
    "\n",
    "\n"
   ]
  },
  {
   "cell_type": "code",
   "execution_count": 8,
   "metadata": {
    "deletable": false,
    "id": "LqugEBkMOK15",
    "nbgrader": {
     "cell_type": "code",
     "checksum": "fc5c3e1cb095cd6254839c7951c8ee4a",
     "grade": false,
     "grade_id": "cell-2eda3d00120568b7",
     "locked": false,
     "schema_version": 3,
     "solution": true
    },
    "tags": [
     "Ex-1-Task-1"
    ]
   },
   "outputs": [
    {
     "name": "stdout",
     "output_type": "stream",
     "text": [
      "Shape of Data (395, 33)\n"
     ]
    },
    {
     "data": {
      "text/html": [
       "<div>\n",
       "<style scoped>\n",
       "    .dataframe tbody tr th:only-of-type {\n",
       "        vertical-align: middle;\n",
       "    }\n",
       "\n",
       "    .dataframe tbody tr th {\n",
       "        vertical-align: top;\n",
       "    }\n",
       "\n",
       "    .dataframe thead th {\n",
       "        text-align: right;\n",
       "    }\n",
       "</style>\n",
       "<table border=\"1\" class=\"dataframe\">\n",
       "  <thead>\n",
       "    <tr style=\"text-align: right;\">\n",
       "      <th></th>\n",
       "      <th>school</th>\n",
       "      <th>sex</th>\n",
       "      <th>age</th>\n",
       "      <th>address</th>\n",
       "      <th>famsize</th>\n",
       "      <th>Pstatus</th>\n",
       "      <th>Medu</th>\n",
       "      <th>Fedu</th>\n",
       "      <th>Mjob</th>\n",
       "      <th>Fjob</th>\n",
       "      <th>...</th>\n",
       "      <th>famrel</th>\n",
       "      <th>freetime</th>\n",
       "      <th>goout</th>\n",
       "      <th>Dalc</th>\n",
       "      <th>Walc</th>\n",
       "      <th>health</th>\n",
       "      <th>absences</th>\n",
       "      <th>G1</th>\n",
       "      <th>G2</th>\n",
       "      <th>G3</th>\n",
       "    </tr>\n",
       "  </thead>\n",
       "  <tbody>\n",
       "    <tr>\n",
       "      <th>0</th>\n",
       "      <td>GP</td>\n",
       "      <td>F</td>\n",
       "      <td>18</td>\n",
       "      <td>U</td>\n",
       "      <td>GT3</td>\n",
       "      <td>A</td>\n",
       "      <td>4</td>\n",
       "      <td>4</td>\n",
       "      <td>at_home</td>\n",
       "      <td>teacher</td>\n",
       "      <td>...</td>\n",
       "      <td>4</td>\n",
       "      <td>3</td>\n",
       "      <td>4</td>\n",
       "      <td>1</td>\n",
       "      <td>1</td>\n",
       "      <td>3</td>\n",
       "      <td>6</td>\n",
       "      <td>5</td>\n",
       "      <td>6</td>\n",
       "      <td>6</td>\n",
       "    </tr>\n",
       "    <tr>\n",
       "      <th>1</th>\n",
       "      <td>GP</td>\n",
       "      <td>F</td>\n",
       "      <td>17</td>\n",
       "      <td>U</td>\n",
       "      <td>GT3</td>\n",
       "      <td>T</td>\n",
       "      <td>1</td>\n",
       "      <td>1</td>\n",
       "      <td>at_home</td>\n",
       "      <td>other</td>\n",
       "      <td>...</td>\n",
       "      <td>5</td>\n",
       "      <td>3</td>\n",
       "      <td>3</td>\n",
       "      <td>1</td>\n",
       "      <td>1</td>\n",
       "      <td>3</td>\n",
       "      <td>4</td>\n",
       "      <td>5</td>\n",
       "      <td>5</td>\n",
       "      <td>6</td>\n",
       "    </tr>\n",
       "    <tr>\n",
       "      <th>2</th>\n",
       "      <td>GP</td>\n",
       "      <td>F</td>\n",
       "      <td>15</td>\n",
       "      <td>U</td>\n",
       "      <td>LE3</td>\n",
       "      <td>T</td>\n",
       "      <td>1</td>\n",
       "      <td>1</td>\n",
       "      <td>at_home</td>\n",
       "      <td>other</td>\n",
       "      <td>...</td>\n",
       "      <td>4</td>\n",
       "      <td>3</td>\n",
       "      <td>2</td>\n",
       "      <td>2</td>\n",
       "      <td>3</td>\n",
       "      <td>3</td>\n",
       "      <td>10</td>\n",
       "      <td>7</td>\n",
       "      <td>8</td>\n",
       "      <td>10</td>\n",
       "    </tr>\n",
       "    <tr>\n",
       "      <th>3</th>\n",
       "      <td>GP</td>\n",
       "      <td>F</td>\n",
       "      <td>15</td>\n",
       "      <td>U</td>\n",
       "      <td>GT3</td>\n",
       "      <td>T</td>\n",
       "      <td>4</td>\n",
       "      <td>2</td>\n",
       "      <td>health</td>\n",
       "      <td>services</td>\n",
       "      <td>...</td>\n",
       "      <td>3</td>\n",
       "      <td>2</td>\n",
       "      <td>2</td>\n",
       "      <td>1</td>\n",
       "      <td>1</td>\n",
       "      <td>5</td>\n",
       "      <td>2</td>\n",
       "      <td>15</td>\n",
       "      <td>14</td>\n",
       "      <td>15</td>\n",
       "    </tr>\n",
       "    <tr>\n",
       "      <th>4</th>\n",
       "      <td>GP</td>\n",
       "      <td>F</td>\n",
       "      <td>16</td>\n",
       "      <td>U</td>\n",
       "      <td>GT3</td>\n",
       "      <td>T</td>\n",
       "      <td>3</td>\n",
       "      <td>3</td>\n",
       "      <td>other</td>\n",
       "      <td>other</td>\n",
       "      <td>...</td>\n",
       "      <td>4</td>\n",
       "      <td>3</td>\n",
       "      <td>2</td>\n",
       "      <td>1</td>\n",
       "      <td>2</td>\n",
       "      <td>5</td>\n",
       "      <td>4</td>\n",
       "      <td>6</td>\n",
       "      <td>10</td>\n",
       "      <td>10</td>\n",
       "    </tr>\n",
       "  </tbody>\n",
       "</table>\n",
       "<p>5 rows × 33 columns</p>\n",
       "</div>"
      ],
      "text/plain": [
       "  school sex  age address famsize Pstatus  Medu  Fedu     Mjob      Fjob  ...  \\\n",
       "0     GP   F   18       U     GT3       A     4     4  at_home   teacher  ...   \n",
       "1     GP   F   17       U     GT3       T     1     1  at_home     other  ...   \n",
       "2     GP   F   15       U     LE3       T     1     1  at_home     other  ...   \n",
       "3     GP   F   15       U     GT3       T     4     2   health  services  ...   \n",
       "4     GP   F   16       U     GT3       T     3     3    other     other  ...   \n",
       "\n",
       "  famrel freetime  goout  Dalc  Walc health absences  G1  G2  G3  \n",
       "0      4        3      4     1     1      3        6   5   6   6  \n",
       "1      5        3      3     1     1      3        4   5   5   6  \n",
       "2      4        3      2     2     3      3       10   7   8  10  \n",
       "3      3        2      2     1     1      5        2  15  14  15  \n",
       "4      4        3      2     1     2      5        4   6  10  10  \n",
       "\n",
       "[5 rows x 33 columns]"
      ]
     },
     "execution_count": 8,
     "metadata": {},
     "output_type": "execute_result"
    }
   ],
   "source": [
    "### Ex-1-Task-1\n",
    "df = None\n",
    "DATASET_URL = \"https://drive.google.com/uc?id=1L5I9MhhLMgopPSA9YLhXqmhDoYMSu7mN\"\n",
    "\n",
    "### BEGIN SOLUTION\n",
    "# your code here\n",
    "df = pd.read_csv(DATASET_URL, sep=';')\n",
    "### END SOLUTION\n",
    "print(\"Shape of Data\", df.shape)\n",
    "df.head()"
   ]
  },
  {
   "cell_type": "code",
   "execution_count": 9,
   "metadata": {
    "deletable": false,
    "editable": false,
    "id": "cS27ShNpgnEG",
    "nbgrader": {
     "cell_type": "code",
     "checksum": "73264d2f887b0218354c5e18079452de",
     "grade": true,
     "grade_id": "cell-79a931104949bb29",
     "locked": true,
     "points": 0,
     "schema_version": 3,
     "solution": false
    },
    "tags": [
     "Ex-1-Task-1"
    ]
   },
   "outputs": [],
   "source": [
    "\n",
    "assert df is not None\n",
    "assert(df.shape == (395, 33))\n"
   ]
  },
  {
   "cell_type": "markdown",
   "metadata": {
    "deletable": false,
    "editable": false,
    "id": "51XWLIKkyqDr",
    "nbgrader": {
     "cell_type": "markdown",
     "checksum": "4e53c8e54ed11df1e1a966a2a9580ecb",
     "grade": false,
     "grade_id": "cell-dc43a3ed8e846e4f",
     "locked": true,
     "schema_version": 3,
     "solution": false
    }
   },
   "source": [
    "There are no missing values in the dataset, and also values are in the range specified, so we are good to go.\n",
    "\n",
    "The dataset contains 32 features and 395 entries. G3 is the target variable. Among 32 features, are all of them useful? There are some ordinal, nominal features. We will find out if all of them are useful or not and how the model improves by using all features or some selected features."
   ]
  },
  {
   "cell_type": "markdown",
   "metadata": {
    "deletable": false,
    "editable": false,
    "id": "qwM4WRnhFsdo",
    "nbgrader": {
     "cell_type": "markdown",
     "checksum": "072b1cb4d904077895442bb030f5764b",
     "grade": false,
     "grade_id": "cell-233eab2f805b217f",
     "locked": true,
     "schema_version": 3,
     "solution": false
    }
   },
   "source": [
    "### Exercise 2: Assign data and target.\n",
    "<b><div style=\"text-align: right\">[POINTS: 1]</div></b>\n",
    "\n",
    "**Task:**\n",
    "\n",
    "\n",
    "*   Assigning data and target to `X` and `y` respectively.\n",
    "\n",
    "  `X` -> all the features except target column G3\n",
    "\n",
    "  `y` -> G3 ( Target variable)\n",
    "\n",
    "\n",
    "\n",
    "*  Convert `y` to a categorical variable.\n",
    "\n",
    "> a. G3 score of greater than or equal to pass mark, label as a pass ( 1 )\n",
    "\n",
    "> b. G3 score of less than pass mark, label as a fail ( 0 )\n",
    "\n",
    "\n",
    "\n",
    "\n"
   ]
  },
  {
   "cell_type": "markdown",
   "metadata": {
    "deletable": false,
    "editable": false,
    "id": "-4GmIZPFxKEW",
    "nbgrader": {
     "cell_type": "markdown",
     "checksum": "abef614a131795545f002a04d1e2d171",
     "grade": false,
     "grade_id": "cell-87ee95ba28a64274",
     "locked": true,
     "schema_version": 3,
     "solution": false
    }
   },
   "source": [
    "The output after converting `y` to the categorical variable should be like this.\n",
    "\n",
    "<table style=\"border-collapse:collapse;border-spacing:0\" class=\"tg\"><tr><th style=\"font-family:Arial, sans-serif;font-size:14px;font-weight:normal;padding:10px 10px;border-style:solid;border-width:1px;overflow:hidden;word-break:normal;border-color:inherit;text-align:center;vertical-align:middle\"><span style=\"font-weight:bold\">y</span></th><th style=\"font-family:Arial, sans-serif;font-size:14px;font-weight:normal;padding:10px 10px;border-style:solid;border-width:1px;overflow:hidden;word-break:normal;border-color:inherit;text-align:center;vertical-align:top\" rowspan=\"5\"><span style=\"font-weight:bold\"></span> <br>(<span style=\"font-weight:bold\">After Conversion</span>) ------&gt;</th><th style=\"font-family:Arial, sans-serif;font-size:14px;font-weight:normal;padding:10px 10px;border-style:solid;border-width:1px;overflow:hidden;word-break:normal;border-color:inherit;text-align:center;vertical-align:top\"><span style=\"font-weight:bold\">y</span></th></tr><tr><td style=\"font-family:Arial, sans-serif;font-size:14px;padding:10px 10px;border-style:solid;border-width:1px;overflow:hidden;word-break:normal;border-color:inherit;text-align:center;vertical-align:top\">10</td><td style=\"font-family:Arial, sans-serif;font-size:14px;padding:10px 10px;border-style:solid;border-width:1px;overflow:hidden;word-break:normal;style=\"font-family:Arial, sans-serif;font-size:14px;padding:10px 10px;border-style:solid;border-width:1px;overflow:hidden;word-break:normal;border-color:inherit;text-align:center;vertical-align:top\">1</td></tr><tr><td style=\"font-family:Arial, sans-serif;font-size:14px;padding:10px 10px;border-style:solid;border-width:1px;overflow:hidden;word-break:normal;border-color:inherit;text-align:center;vertical-align:top\">12</td><td style=\"font-family:Arial, sans-serif;font-size:14px;padding:10px 10px;border-style:solid;border-width:1px;overflow:hidden;word-break:normal;style=\"font-family:Arial, sans-serif;font-size:14px;padding:10px 10px;border-style:solid;border-width:1px;overflow:hidden;word-break:normal;border-color:inherit;text-align:center;vertical-align:top\">1</td></tr><tr><td style=\"font-family:Arial, sans-serif;font-size:14px;padding:10px 10px;border-style:solid;border-width:1px;overflow:hidden;word-break:normal;border-color:inherit;text-align:center;vertical-align:middle\">8</td><td style=\"font-family:Arial, sans-serif;font-size:14px;padding:10px 10px;border-style:solid;border-width:1px;overflow:hidden;word-break:normal;style=\"font-family:Arial, sans-serif;font-size:14px;padding:10px 10px;border-style:solid;border-width:1px;overflow:hidden;word-break:normal;border-color:inherit;text-align:center;vertical-align:top\">0</td></tr></table>\n",
    "\n",
    "<center>Conversion of target variable y to categorical variable</center>\n"
   ]
  },
  {
   "cell_type": "markdown",
   "metadata": {
    "deletable": false,
    "editable": false,
    "id": "89IL-usiYQj5",
    "nbgrader": {
     "cell_type": "markdown",
     "checksum": "e6a0582d1863637e78d6aa861e149a84",
     "grade": false,
     "grade_id": "cell-b7ceebd68276cc46",
     "locked": true,
     "schema_version": 3,
     "solution": false
    }
   },
   "source": [
    "* Hint: `Pandas.series.apply()` function might come in handy"
   ]
  },
  {
   "cell_type": "code",
   "execution_count": 44,
   "metadata": {
    "deletable": false,
    "id": "mVUkEhmRqIxb",
    "nbgrader": {
     "cell_type": "code",
     "checksum": "bc0548c05a0f110c5618243faa5a52a1",
     "grade": false,
     "grade_id": "cell-dace165bbd8e3680",
     "locked": false,
     "schema_version": 3,
     "solution": true
    },
    "tags": [
     "Ex-2-Task-1"
    ]
   },
   "outputs": [],
   "source": [
    "### Ex-2-Task-1\n",
    "\n",
    "passing_mark = 10\n",
    "X = None\n",
    "y = None\n",
    "\n",
    "# Use 10 as passing mark, DON'T CHANGE\n",
    "\n",
    "# Exercise 2 / Task 1\n",
    "### BEGIN SOLUTION\n",
    "X = df.drop(columns=['G3'])\n",
    "y = df['G3'].apply(lambda score: 1 if score >= passing_mark else 0)\n",
    "# your code here\n",
    "### END SOLUTION"
   ]
  },
  {
   "cell_type": "code",
   "execution_count": 45,
   "metadata": {
    "deletable": false,
    "editable": false,
    "id": "arNKZEXv6PeW",
    "nbgrader": {
     "cell_type": "code",
     "checksum": "6e3dacc31cbd6f6a39a3204ff96b88d2",
     "grade": true,
     "grade_id": "cell-3bf3b8130cee52b3",
     "locked": true,
     "points": 1,
     "schema_version": 3,
     "solution": false
    },
    "tags": [
     "Ex-2-Task-1"
    ]
   },
   "outputs": [],
   "source": [
    "\n",
    "assert(X.shape == (395, 32))\n",
    "assert(y.shape == (395,))"
   ]
  },
  {
   "cell_type": "code",
   "execution_count": 46,
   "metadata": {
    "deletable": false,
    "editable": false,
    "id": "3X3ww6hbqI-X",
    "nbgrader": {
     "cell_type": "code",
     "checksum": "cc424ae8348b17fa8757838fe962f5bc",
     "grade": false,
     "grade_id": "cell-42cd487a1da0b516",
     "locked": true,
     "schema_version": 3,
     "solution": false
    }
   },
   "outputs": [
    {
     "data": {
      "text/plain": [
       "G3\n",
       "1    265\n",
       "0    130\n",
       "Name: count, dtype: int64"
      ]
     },
     "execution_count": 46,
     "metadata": {},
     "output_type": "execute_result"
    }
   ],
   "source": [
    "# Number of data points in each class\n",
    "\n",
    "y.value_counts()"
   ]
  },
  {
   "cell_type": "markdown",
   "metadata": {
    "deletable": false,
    "editable": false,
    "id": "N-HDc7StJ6VQ",
    "nbgrader": {
     "cell_type": "markdown",
     "checksum": "4d9e7c908edb99ae4fa4557279052ca6",
     "grade": false,
     "grade_id": "cell-e908fa579f1f4198",
     "locked": true,
     "schema_version": 3,
     "solution": false
    }
   },
   "source": [
    "### Exercise 3: Splitting into train and test set\n",
    "<b><div style=\"text-align: right\">[UNGRADED]</div></b>\n",
    "\n",
    "Use Scikit learn `train_test_split` method to split the dataset features `X` and labels `y`, as 80 % for training and 20% for testing.\n",
    "\n",
    "**Task:** :  Split in 80-20% ratio using `random_seed` provided.\n"
   ]
  },
  {
   "cell_type": "code",
   "execution_count": 47,
   "metadata": {
    "deletable": false,
    "id": "Pp_Fxq-FqdWU",
    "nbgrader": {
     "cell_type": "code",
     "checksum": "3308e4d0f125d91b2c075f8a0dd9133a",
     "grade": false,
     "grade_id": "cell-e97fe9e08a47438c",
     "locked": false,
     "schema_version": 3,
     "solution": true
    },
    "tags": [
     "Ex-3-Task-1"
    ]
   },
   "outputs": [],
   "source": [
    "### Ex-3-Task-1\n",
    "\n",
    "X_train, X_test, y_train, y_test = None, None, None, None\n",
    "random_seed = 0\n",
    "### BEGIN SOLUTION\n",
    "# your code here\n",
    "from sklearn.model_selection import train_test_split\n",
    "\n",
    "X_train, X_test, y_train, y_test = train_test_split(X, y, test_size=0.2, random_state = random_seed)\n",
    "### END SOLUTION"
   ]
  },
  {
   "cell_type": "code",
   "execution_count": 48,
   "metadata": {
    "deletable": false,
    "editable": false,
    "id": "trMkdxriKe_m",
    "nbgrader": {
     "cell_type": "code",
     "checksum": "aa838217e1778ab2dd0c6f23e0d82396",
     "grade": true,
     "grade_id": "cell-835ec058bf3ea2b1",
     "locked": true,
     "points": 0,
     "schema_version": 3,
     "solution": false
    },
    "tags": [
     "Ex-3-Task-1"
    ]
   },
   "outputs": [],
   "source": [
    "\n",
    "assert not X_train is None\n",
    "assert not y_train is None\n",
    "assert not X_test is None\n",
    "assert not y_test is None\n",
    "\n",
    "assert(y_train.shape == (316,))\n",
    "assert(y_test.shape == (79,))"
   ]
  },
  {
   "cell_type": "markdown",
   "metadata": {
    "id": "1xUX4OfRLFir"
   },
   "source": [
    "### Exercise 4: Correlations.\n",
    "<b><div style=\"text-align: right\">[POINTS: 1]</div></b>\n",
    "\n",
    "**Task:**\n",
    "\n",
    "\n",
    "*   Check the correlation of all the numerical features with the target G3, and extract the top 5 features among them to variable `top_five`\n",
    "\n",
    "* The variable `corr` should contain the correlation between features and the target. It should contain a series object with features as index and correlation as it's value.\n",
    "\n",
    "*  The variable `top_five` should consist of a `list` of top five features based on correlation with the target variable.\n",
    "\n",
    "Hints:\n",
    "- Use `pandas.DataFrame.corrwith` function to compute correlation between `X_train` and `y_train` for variable `corr`\n",
    "\n",
    "- Keep in mind that a feature may have a positive or negative correlation with the target. The top five features with strong positive or negative correlation with target should be chosen. `numpy.abs` or `numpy.absolute` functions might come in handy.\n",
    "\n",
    "-\n",
    "\n",
    "\n",
    "\n"
   ]
  },
  {
   "cell_type": "code",
   "execution_count": 49,
   "metadata": {
    "deletable": false,
    "id": "16erme77fcxZ",
    "nbgrader": {
     "cell_type": "code",
     "checksum": "de59e8733a80b2dc7ad8eec2627a7aca",
     "grade": false,
     "grade_id": "cell-c5c617321b49e0d1",
     "locked": false,
     "schema_version": 3,
     "solution": true
    },
    "tags": [
     "Ex-4-Task-1"
    ]
   },
   "outputs": [
    {
     "data": {
      "text/plain": [
       "G2          0.721287\n",
       "G1          0.645108\n",
       "failures   -0.339825\n",
       "age        -0.198607\n",
       "goout      -0.190767\n",
       "dtype: float64"
      ]
     },
     "execution_count": 49,
     "metadata": {},
     "output_type": "execute_result"
    }
   ],
   "source": [
    "### Ex-4-Task-1\n",
    "corr = None\n",
    "top_five = None\n",
    "\n",
    "### BEGIN SOLUTION\n",
    "corr = X_train.select_dtypes(include='number').corrwith(y_train)\n",
    "top_five = np.abs(corr).sort_values(ascending=False).head(5).index.tolist()\n",
    "corr[top_five]\n",
    "### END SOLUTION"
   ]
  },
  {
   "cell_type": "code",
   "execution_count": 50,
   "metadata": {
    "deletable": false,
    "editable": false,
    "id": "rRVX9SCAge1_",
    "nbgrader": {
     "cell_type": "code",
     "checksum": "ce9fcb66354c3c734e14d321aa04cba3",
     "grade": true,
     "grade_id": "cell-1c966b531304006e",
     "locked": true,
     "points": 1,
     "schema_version": 3,
     "solution": false
    },
    "tags": [
     "Ex-4-Task-1"
    ]
   },
   "outputs": [],
   "source": [
    "assert(top_five[0] =='G2')\n",
    "assert(top_five[-1]=='goout')"
   ]
  },
  {
   "cell_type": "markdown",
   "metadata": {
    "deletable": false,
    "editable": false,
    "id": "7q36AMV3MZKm",
    "nbgrader": {
     "cell_type": "markdown",
     "checksum": "3daf8f098d2a08895c8ea520060be5b6",
     "grade": false,
     "grade_id": "cell-3debf345f0754a7d",
     "locked": true,
     "schema_version": 3,
     "solution": false
    }
   },
   "source": [
    "### Exercise 5: Fit Logistic Regression model on top 5 features.\n",
    "<b><div style=\"text-align: right\">[POINTS: 1]</div></b>\n",
    "\n",
    "**Task:**\n",
    "\n",
    "\n",
    "*   Instantiate the `LogisticRegression` object as `log_reg_top5`\n",
    "\n",
    "*  Fit the model with the top 5 features using the training set.\n",
    "\n",
    "*  Save coefficient in `theta` and `intercept`.\n",
    "\n",
    "\n",
    "\n"
   ]
  },
  {
   "cell_type": "code",
   "execution_count": 53,
   "metadata": {
    "deletable": false,
    "id": "XtqZasfPqkOm",
    "nbgrader": {
     "cell_type": "code",
     "checksum": "d8269bf7bc0a65662385af429a18aa7a",
     "grade": false,
     "grade_id": "cell-4694e1825472bd49",
     "locked": false,
     "schema_version": 3,
     "solution": true
    },
    "tags": [
     "Ex-5-Task-1"
    ]
   },
   "outputs": [
    {
     "name": "stdout",
     "output_type": "stream",
     "text": [
      "[[ 1.59444084  0.21939253 -0.06431612 -0.42133997 -0.13873873]]\n",
      "[-8.86484257]\n"
     ]
    }
   ],
   "source": [
    "### Ex-5-Task-1\n",
    "\n",
    "log_reg_top5 = None\n",
    "theta = None\n",
    "intercept = None\n",
    "### BEGIN SOLUTION\n",
    "# your code here\n",
    "from sklearn.linear_model import LogisticRegression\n",
    "\n",
    "log_reg_top5 = LogisticRegression()\n",
    "log_reg_top5.fit(X_train[top_five], y_train)\n",
    "theta = log_reg_top5.coef_\n",
    "intercept = log_reg_top5.intercept_\n",
    "### END SOLUTION\n",
    "print(theta)\n",
    "print(intercept)"
   ]
  },
  {
   "cell_type": "code",
   "execution_count": 54,
   "metadata": {
    "deletable": false,
    "editable": false,
    "id": "lYGoHnt-NSUn",
    "nbgrader": {
     "cell_type": "code",
     "checksum": "7590fb1328282d6eb9d99f39139e6dbe",
     "grade": true,
     "grade_id": "cell-b4364eb33b3f9dc4",
     "locked": true,
     "points": 1,
     "schema_version": 3,
     "solution": false
    },
    "tags": [
     "Ex-5-Task-1"
    ]
   },
   "outputs": [],
   "source": [
    "assert  log_reg_top5 is not None\n",
    "assert log_reg_top5 is not None\n",
    "assert hasattr(log_reg_top5, 'coef_')\n",
    "assert hasattr(log_reg_top5 , 'intercept_')\n",
    "assert theta.size == 5"
   ]
  },
  {
   "cell_type": "markdown",
   "metadata": {
    "deletable": false,
    "editable": false,
    "id": "fYnIm50GPvq8",
    "nbgrader": {
     "cell_type": "markdown",
     "checksum": "cb9be91395c39cc8565521da79382cb4",
     "grade": false,
     "grade_id": "cell-c7f2dca034b8cadf",
     "locked": true,
     "schema_version": 3,
     "solution": false
    }
   },
   "source": [
    "### Exercise 6:Model prediction.\n",
    "<b><div style=\"text-align: right\">[POINTS: 2]</div></b>\n",
    "\n",
    "**Tasks:**\n",
    "\n",
    "\n",
    "*  Predict the classes for whole test set `X_test` and store in `y_pred`. Remember to use only `top_five` features.\n",
    "\n",
    "* Predict the probability of outcome of the second entry i.e. index number 318, from `X_test` and store it in `y_pred_proba_318`. Remember, you need to store only the maximum probability in `y_pred_proba_318`. The `max()` function may come handy.\n",
    "\n",
    "Check the documentation, how logistic regression outputs probability [Predicting probability of outcome](https://scikit-learn.org/stable/modules/generated/sklearn.linear_model.LogisticRegression.html#sklearn.linear_model.LogisticRegression.predict_proba)\n",
    "\n",
    "\n",
    "*Note: Use the top five features in predicting. We trained on top five features.*\n",
    "\n",
    "*Note: Numpy reshape feature might come handy here*\n",
    "\n",
    "\n",
    "\n",
    "\n"
   ]
  },
  {
   "cell_type": "code",
   "execution_count": 56,
   "metadata": {
    "deletable": false,
    "editable": false,
    "id": "Gp5sRUO3xgOV",
    "nbgrader": {
     "cell_type": "code",
     "checksum": "cbba5c41c9bc04f129d3812023ab10a2",
     "grade": false,
     "grade_id": "cell-1235803ab99a3f0d",
     "locked": true,
     "schema_version": 3,
     "solution": false
    }
   },
   "outputs": [
    {
     "data": {
      "text/html": [
       "<div>\n",
       "<style scoped>\n",
       "    .dataframe tbody tr th:only-of-type {\n",
       "        vertical-align: middle;\n",
       "    }\n",
       "\n",
       "    .dataframe tbody tr th {\n",
       "        vertical-align: top;\n",
       "    }\n",
       "\n",
       "    .dataframe thead th {\n",
       "        text-align: right;\n",
       "    }\n",
       "</style>\n",
       "<table border=\"1\" class=\"dataframe\">\n",
       "  <thead>\n",
       "    <tr style=\"text-align: right;\">\n",
       "      <th></th>\n",
       "      <th>G2</th>\n",
       "      <th>G1</th>\n",
       "      <th>failures</th>\n",
       "      <th>age</th>\n",
       "      <th>goout</th>\n",
       "    </tr>\n",
       "  </thead>\n",
       "  <tbody>\n",
       "    <tr>\n",
       "      <th>329</th>\n",
       "      <td>14</td>\n",
       "      <td>14</td>\n",
       "      <td>0</td>\n",
       "      <td>17</td>\n",
       "      <td>3</td>\n",
       "    </tr>\n",
       "    <tr>\n",
       "      <th>318</th>\n",
       "      <td>11</td>\n",
       "      <td>11</td>\n",
       "      <td>0</td>\n",
       "      <td>17</td>\n",
       "      <td>4</td>\n",
       "    </tr>\n",
       "    <tr>\n",
       "      <th>317</th>\n",
       "      <td>10</td>\n",
       "      <td>9</td>\n",
       "      <td>0</td>\n",
       "      <td>18</td>\n",
       "      <td>4</td>\n",
       "    </tr>\n",
       "    <tr>\n",
       "      <th>65</th>\n",
       "      <td>15</td>\n",
       "      <td>16</td>\n",
       "      <td>0</td>\n",
       "      <td>16</td>\n",
       "      <td>3</td>\n",
       "    </tr>\n",
       "    <tr>\n",
       "      <th>59</th>\n",
       "      <td>16</td>\n",
       "      <td>15</td>\n",
       "      <td>0</td>\n",
       "      <td>16</td>\n",
       "      <td>3</td>\n",
       "    </tr>\n",
       "  </tbody>\n",
       "</table>\n",
       "</div>"
      ],
      "text/plain": [
       "     G2  G1  failures  age  goout\n",
       "329  14  14         0   17      3\n",
       "318  11  11         0   17      4\n",
       "317  10   9         0   18      4\n",
       "65   15  16         0   16      3\n",
       "59   16  15         0   16      3"
      ]
     },
     "execution_count": 56,
     "metadata": {},
     "output_type": "execute_result"
    }
   ],
   "source": [
    "# first five entries in X_test\n",
    "X_test[top_five].head()"
   ]
  },
  {
   "cell_type": "code",
   "execution_count": 57,
   "metadata": {
    "deletable": false,
    "id": "7euOxWYEqnBy",
    "nbgrader": {
     "cell_type": "code",
     "checksum": "6d3ba314c066397340748dcd3e3b240d",
     "grade": false,
     "grade_id": "cell-83127c6c90b36d99",
     "locked": false,
     "schema_version": 3,
     "solution": true
    },
    "tags": [
     "Ex-6-Task-1"
    ]
   },
   "outputs": [
    {
     "name": "stdout",
     "output_type": "stream",
     "text": [
      "(79,)\n",
      "0.97\n"
     ]
    }
   ],
   "source": [
    "### Ex-6-Task-1\n",
    "\n",
    "y_pred = None\n",
    "y_pred_proba_318 = None\n",
    "### BEGIN SOLUTION\n",
    "# your code here\n",
    "y_pred = log_reg_top5.predict(X_test[top_five])\n",
    "y_pred_proba_318 = log_reg_top5.predict_proba(X_test[top_five].iloc[1:2])[0].max()\n",
    "### END SOLUTION\n",
    "\n",
    "# round off\n",
    "y_pred_proba = round(y_pred_proba_318, 2)\n",
    "\n",
    "print(y_pred.shape)\n",
    "print(y_pred_proba)"
   ]
  },
  {
   "cell_type": "code",
   "execution_count": 58,
   "metadata": {
    "deletable": false,
    "editable": false,
    "id": "9HLmBxFvVoKi",
    "nbgrader": {
     "cell_type": "code",
     "checksum": "83d0eb40726721055c91ac3350b9ea72",
     "grade": true,
     "grade_id": "cell-f95c6dc20b3744e1",
     "locked": true,
     "points": 2,
     "schema_version": 3,
     "solution": false
    },
    "tags": [
     "Ex-6-Task-1"
    ]
   },
   "outputs": [],
   "source": [
    "assert(y_pred.shape == (79,))\n",
    "assert(y_pred_proba_318 > 0.65)"
   ]
  },
  {
   "cell_type": "markdown",
   "metadata": {
    "deletable": false,
    "editable": false,
    "id": "o0zvx1ZDWgQU",
    "nbgrader": {
     "cell_type": "markdown",
     "checksum": "ab51d6907195ecf64f69fa16eef89974",
     "grade": false,
     "grade_id": "cell-e56f98c21882d242",
     "locked": true,
     "schema_version": 3,
     "solution": false
    }
   },
   "source": [
    "### Exercise 7  : Model evaluation ( Accuracy )\n",
    "<b><div style=\"text-align: right\">[POINTS: 1]</div></b>\n",
    "\n",
    "Now, its time to check how good is our model is performing. One evaluation metric, which can be used here is `accuracy` which gives the ratio of correctly classified points to the total number of points.\n",
    "\n",
    "Remember, we test our model in unseen data i.e., with the test set.\n",
    "\n",
    "\n",
    "**Task:**\n",
    "\n",
    "\n",
    "* Calculate the `accuracy` of our model in the test set.\n",
    "\n",
    "Sklearn provides default evaluation metrics for the classification problem. Check here [Scikit Learn - Metrics](https://scikit-learn.org/stable/modules/model_evaluation.html)\n",
    "\n",
    "Here, Positive class refers to as 1. i.e. Pass.\n",
    "\n"
   ]
  },
  {
   "cell_type": "code",
   "execution_count": 59,
   "metadata": {
    "deletable": false,
    "id": "pGeK8UcKpb9b",
    "nbgrader": {
     "cell_type": "code",
     "checksum": "a96aa0917499769a7aff95eb222da267",
     "grade": false,
     "grade_id": "cell-8f57fe92d8e133fd",
     "locked": false,
     "schema_version": 3,
     "solution": true
    },
    "tags": [
     "Ex-7-Task-1"
    ]
   },
   "outputs": [
    {
     "name": "stdout",
     "output_type": "stream",
     "text": [
      "Accuracy of the Model with Top 5 features 0.87\n"
     ]
    }
   ],
   "source": [
    "### Ex-7-Task-1\n",
    "\n",
    "# Calculate Accuracy\n",
    "accuracy = None\n",
    "\n",
    "### BEGIN SOLUTION\n",
    "# your code here\n",
    "from sklearn.metrics import accuracy_score\n",
    "accuracy = accuracy_score(y_test, y_pred)\n",
    "### END SOLUTION\n",
    "print(\"Accuracy of the Model with Top 5 features\", round(accuracy,2))"
   ]
  },
  {
   "cell_type": "code",
   "execution_count": 60,
   "metadata": {
    "deletable": false,
    "editable": false,
    "id": "XQZK9D4Ap8X4",
    "nbgrader": {
     "cell_type": "code",
     "checksum": "0b0907baf19a1621a178da0b204bca61",
     "grade": true,
     "grade_id": "cell-fc5c5c0e44047c8b",
     "locked": true,
     "points": 1,
     "schema_version": 3,
     "solution": false
    },
    "tags": [
     "Ex-7-Task-1"
    ]
   },
   "outputs": [],
   "source": [
    "\n",
    "assert(accuracy is not None)\n",
    "assert(accuracy >= 0.85), 'TEST FAILED'"
   ]
  },
  {
   "cell_type": "markdown",
   "metadata": {
    "deletable": false,
    "editable": false,
    "id": "jRyWzvdGqPif",
    "nbgrader": {
     "cell_type": "markdown",
     "checksum": "7378845f5e59b0059a1366403a2eeb4f",
     "grade": false,
     "grade_id": "cell-9d998efcc2ac3e7a",
     "locked": true,
     "schema_version": 3,
     "solution": false
    }
   },
   "source": [
    "As we know, accuracy is not a reliable metric in case of an Imbalanced dataset. There are other metrics such as recall, precision, F1 Score for better evaluation of the model.\n",
    "\n",
    "Now, let us check the recall, precision, F1 Score of our classifier.\n",
    "\n",
    "Before that, lets plot confusion matrix.\n",
    "\n",
    "Here, we have already provided code snippet to print the confusion matrix."
   ]
  },
  {
   "cell_type": "code",
   "execution_count": 61,
   "metadata": {
    "deletable": false,
    "editable": false,
    "id": "VzSPhTyodulD",
    "nbgrader": {
     "cell_type": "code",
     "checksum": "cf297f2433d0893bd62bd8435a9c40ce",
     "grade": false,
     "grade_id": "cell-995c2873580f99ad",
     "locked": true,
     "schema_version": 3,
     "solution": false
    }
   },
   "outputs": [
    {
     "name": "stdout",
     "output_type": "stream",
     "text": [
      "True Positive 46\n",
      "True Negative 23\n",
      "False Positive 7\n",
      "False Negative 3\n"
     ]
    }
   ],
   "source": [
    "### The number of true positives, true negatives, false positives, false negatives\n",
    "\n",
    "from sklearn.metrics import confusion_matrix\n",
    "tn, fp, fn, tp = confusion_matrix(y_test, y_pred).ravel()\n",
    "print(\"True Positive\", tp)\n",
    "print(\"True Negative\", tn)\n",
    "print(\"False Positive\", fp)\n",
    "print(\"False Negative\", fn)"
   ]
  },
  {
   "cell_type": "code",
   "execution_count": 62,
   "metadata": {
    "id": "-aUfH3DKc6RX"
   },
   "outputs": [
    {
     "name": "stderr",
     "output_type": "stream",
     "text": [
      "D:\\FuseMachines Fellowship\\venv\\Lib\\site-packages\\sklearn\\utils\\validation.py:2749: UserWarning: X does not have valid feature names, but LogisticRegression was fitted with feature names\n",
      "  warnings.warn(\n"
     ]
    },
    {
     "data": {
      "image/png": "[encoded data removed]",
      "text/plain": [
       "<Figure size 640x480 with 2 Axes>"
      ]
     },
     "metadata": {},
     "output_type": "display_data"
    }
   ],
   "source": [
    "### Plot confusion matrix\n",
    "\n",
    "class_names =['fail', 'pass']\n",
    "from sklearn.metrics import confusion_matrix, ConfusionMatrixDisplay\n",
    "\n",
    "ConfusionMatrixDisplay.from_estimator(log_reg_top5, X_test[top_five].values, y_test, display_labels=class_names);\n"
   ]
  },
  {
   "cell_type": "markdown",
   "metadata": {
    "id": "SRYW8DzhQn5T"
   },
   "source": [
    "Here, from the confusion matrix, we see that our model works very well for positive class i.e, `pass`. Only three instances of the positive class are miss-classified.\n",
    "Similarly, Seven instances of Negative class i.e, `fail` are misclassified.\n",
    "\n"
   ]
  },
  {
   "cell_type": "markdown",
   "metadata": {
    "id": "y5QnlkULrnAf"
   },
   "source": [
    "### Exercise 8 : Model Evaluation.\n",
    "<b><div style=\"text-align: right\">[POINTS: 1]</div></b>\n",
    "\n",
    "**Task:**\n",
    "\n",
    "\n",
    "*  Complete the function `calculate_score` to calculate `accuracy` , `f1 Score`, `precision` and `recall` for the test set."
   ]
  },
  {
   "cell_type": "code",
   "execution_count": 63,
   "metadata": {
    "deletable": false,
    "id": "xWs2r-xyWzzZ",
    "nbgrader": {
     "cell_type": "code",
     "checksum": "ec3063913a827b219f84d258e2223a19",
     "grade": false,
     "grade_id": "cell-d64d5c29317c5ff6",
     "locked": false,
     "schema_version": 3,
     "solution": true
    },
    "tags": [
     "Ex-8-Task-1"
    ]
   },
   "outputs": [],
   "source": [
    "### Ex-8-Task-1\n",
    "\n",
    "accuracy, precision, recall, f1Score = None, None, None, None\n",
    "\n",
    "# Complete the Function below.\n",
    "\n",
    "def calculate_score(y_test, y_pred):\n",
    "\n",
    "### BEGIN SOLUTION\n",
    "# your code here\n",
    "    from sklearn.metrics import accuracy_score, precision_score, recall_score, f1_score\n",
    "    accuracy = accuracy_score(y_test, y_pred)\n",
    "    precision = precision_score(y_test, y_pred)\n",
    "    recall = recall_score(y_test, y_pred)\n",
    "    f1Score = f1_score(y_test, y_pred)\n",
    "\n",
    "### END SOLUTION\n",
    "    return accuracy, precision, recall, f1Score\n",
    "\n",
    "\n",
    "# Call calculate_accuracy function\n",
    "accuracy, precision, recall, f1Score = calculate_score(y_test, y_pred)\n"
   ]
  },
  {
   "cell_type": "code",
   "execution_count": 64,
   "metadata": {
    "deletable": false,
    "editable": false,
    "id": "74nFjO0oWz6i",
    "nbgrader": {
     "cell_type": "code",
     "checksum": "bb1a3ae80a0624934af3f253be17ea11",
     "grade": true,
     "grade_id": "cell-f56ea00f0cbe06ff",
     "locked": true,
     "points": 1,
     "schema_version": 3,
     "solution": false
    },
    "tags": [
     "Ex-8-Task-1"
    ]
   },
   "outputs": [],
   "source": [
    "\n",
    "y_pred_check = np.array([1.,0.,0.,0.,1.,1.,1.])\n",
    "y_test_check = np.array([1.,1.,0.,1.,1.,1.,0.])\n",
    "accuracy_check,precision_check,recall_check,f1Score_check = calculate_score(y_test_check, y_pred_check)\n",
    "\n",
    "assert(accuracy_check > 0.55), 'TEST FAILED'\n",
    "assert(precision_check > 0.70), 'TEST FAILED'\n",
    "assert(recall_check > 0.58), 'TEST FAILED'\n",
    "assert(f1Score_check > 0.63), 'TEST FAILED'\n"
   ]
  },
  {
   "cell_type": "code",
   "execution_count": 65,
   "metadata": {
    "deletable": false,
    "editable": false,
    "id": "atf-q30oWz33",
    "nbgrader": {
     "cell_type": "code",
     "checksum": "240035b4629bf1ee006cd1157eeb67b0",
     "grade": false,
     "grade_id": "cell-23e786bf5c93faab",
     "locked": true,
     "schema_version": 3,
     "solution": false
    }
   },
   "outputs": [
    {
     "name": "stdout",
     "output_type": "stream",
     "text": [
      "Test Accuracy with top 5 features 0.87\n",
      "Test Precision Score with top 5 features 0.87\n",
      "Test Recall Score with top 5 features 0.94\n",
      "Test F1 Score with top 5 features 0.9\n"
     ]
    }
   ],
   "source": [
    "accuracy,precision,recall,f1Score = calculate_score(y_test, y_pred)\n",
    "print(\"Test Accuracy with top 5 features\", round(accuracy,2))\n",
    "print(\"Test Precision Score with top 5 features\", round(precision,2))\n",
    "print(\"Test Recall Score with top 5 features\", round(recall,2))\n",
    "print(\"Test F1 Score with top 5 features\", round(f1Score,2))"
   ]
  },
  {
   "cell_type": "markdown",
   "metadata": {
    "deletable": false,
    "editable": false,
    "id": "eIGlvSUzerdC",
    "nbgrader": {
     "cell_type": "markdown",
     "checksum": "8cc1a4dd4523e557bdacfba3b1857ae0",
     "grade": false,
     "grade_id": "cell-1da6c49f776a7753",
     "locked": true,
     "schema_version": 3,
     "solution": false
    }
   },
   "source": [
    "Here, we used the top five features, which all were numeric. Our dataset also contains other features that are categorical, nominal. Lets now use those features."
   ]
  },
  {
   "cell_type": "markdown",
   "metadata": {
    "deletable": false,
    "editable": false,
    "id": "SAPgh2iAfgjd",
    "nbgrader": {
     "cell_type": "markdown",
     "checksum": "9e16ace173428055957f61ccf30a1b53",
     "grade": false,
     "grade_id": "cell-d6f2b126698e5bbf",
     "locked": true,
     "schema_version": 3,
     "solution": false
    }
   },
   "source": [
    "### Variable Encoding\n",
    "\n",
    "Machine learning algorithms cannot understand categorical strings such as student's sex (binary: 'F' - female or 'M' - male) unless we convert them to numerical values (0: 'F' and 1: 'M'). We can do this using Label Encoding.\n",
    "\n",
    "**Label Encoding** assigns a value from 1 through N for each category for the feature, here we are assuming there are N categories. For eg:  Medu - mother's education (numeric: 0 - none, 1 - primary education (4th grade), 2 - 5th to 9th grade, 3 - secondary education or 4 - higher education) has already been encoded numerically.\n",
    "\n",
    "Label Encoder assumes that there is some order in the data, i.e., value 2 is greater than value 1, which is good if the data is ordinal but it is not suitable for nominal data types without any inherent order, such as mother's job (nominal: 'teacher', 'health' care related, civil 'services' (e.g., administrative or police), 'at_home' or 'other'), in such cases we need to perform some other encoding method, such as one-hot Encoding\n",
    "\n",
    "**One-hot Encoding** maps each category to a vector that contains 1 and 0 denoting the presence or absence of the feature. Hence, this method will create multiple columns based on the features' cardinality, i.e., the number of categories in the feature. For: e.g.: Mjob - mother's job (nominal: 'teacher', 'health' care related, civil 'services' (e.g., administrative or police), 'at_home' or 'other') has four different categories. Hence four columns will be created.\n",
    "\n",
    "This has been done for you in the following code. Do Check the columns of the new dataframe.\n",
    "\n",
    "You can read about different types of Encoding [here](https://towardsdatascience.com/all-about-categorical-variable-encoding-305f3361fd02).\n",
    "\n",
    "This has been implemented in the code below. Do check the new dataframe."
   ]
  },
  {
   "cell_type": "code",
   "execution_count": 66,
   "metadata": {
    "deletable": false,
    "editable": false,
    "id": "5YbTc0aVq0ci",
    "nbgrader": {
     "cell_type": "code",
     "checksum": "52bfc0fa32d64110262c58d3af899cc9",
     "grade": false,
     "grade_id": "cell-f03aa94e22c8901e",
     "locked": true,
     "schema_version": 3,
     "solution": false
    }
   },
   "outputs": [
    {
     "data": {
      "text/html": [
       "<div>\n",
       "<style scoped>\n",
       "    .dataframe tbody tr th:only-of-type {\n",
       "        vertical-align: middle;\n",
       "    }\n",
       "\n",
       "    .dataframe tbody tr th {\n",
       "        vertical-align: top;\n",
       "    }\n",
       "\n",
       "    .dataframe thead th {\n",
       "        text-align: right;\n",
       "    }\n",
       "</style>\n",
       "<table border=\"1\" class=\"dataframe\">\n",
       "  <thead>\n",
       "    <tr style=\"text-align: right;\">\n",
       "      <th></th>\n",
       "      <th>school</th>\n",
       "      <th>sex</th>\n",
       "      <th>age</th>\n",
       "      <th>address</th>\n",
       "      <th>famsize</th>\n",
       "      <th>Pstatus</th>\n",
       "      <th>Medu</th>\n",
       "      <th>Fedu</th>\n",
       "      <th>traveltime</th>\n",
       "      <th>studytime</th>\n",
       "      <th>...</th>\n",
       "      <th>Fjob_other</th>\n",
       "      <th>Fjob_services</th>\n",
       "      <th>Fjob_teacher</th>\n",
       "      <th>reason_course</th>\n",
       "      <th>reason_home</th>\n",
       "      <th>reason_other</th>\n",
       "      <th>reason_reputation</th>\n",
       "      <th>guardian_father</th>\n",
       "      <th>guardian_mother</th>\n",
       "      <th>guardian_other</th>\n",
       "    </tr>\n",
       "  </thead>\n",
       "  <tbody>\n",
       "    <tr>\n",
       "      <th>64</th>\n",
       "      <td>0</td>\n",
       "      <td>0</td>\n",
       "      <td>15</td>\n",
       "      <td>1</td>\n",
       "      <td>1</td>\n",
       "      <td>1</td>\n",
       "      <td>4</td>\n",
       "      <td>3</td>\n",
       "      <td>1</td>\n",
       "      <td>2</td>\n",
       "      <td>...</td>\n",
       "      <td>False</td>\n",
       "      <td>True</td>\n",
       "      <td>False</td>\n",
       "      <td>False</td>\n",
       "      <td>False</td>\n",
       "      <td>False</td>\n",
       "      <td>True</td>\n",
       "      <td>True</td>\n",
       "      <td>False</td>\n",
       "      <td>False</td>\n",
       "    </tr>\n",
       "    <tr>\n",
       "      <th>55</th>\n",
       "      <td>0</td>\n",
       "      <td>0</td>\n",
       "      <td>16</td>\n",
       "      <td>1</td>\n",
       "      <td>0</td>\n",
       "      <td>0</td>\n",
       "      <td>2</td>\n",
       "      <td>1</td>\n",
       "      <td>1</td>\n",
       "      <td>2</td>\n",
       "      <td>...</td>\n",
       "      <td>True</td>\n",
       "      <td>False</td>\n",
       "      <td>False</td>\n",
       "      <td>False</td>\n",
       "      <td>False</td>\n",
       "      <td>True</td>\n",
       "      <td>False</td>\n",
       "      <td>False</td>\n",
       "      <td>True</td>\n",
       "      <td>False</td>\n",
       "    </tr>\n",
       "    <tr>\n",
       "      <th>343</th>\n",
       "      <td>0</td>\n",
       "      <td>0</td>\n",
       "      <td>17</td>\n",
       "      <td>1</td>\n",
       "      <td>0</td>\n",
       "      <td>0</td>\n",
       "      <td>2</td>\n",
       "      <td>2</td>\n",
       "      <td>1</td>\n",
       "      <td>2</td>\n",
       "      <td>...</td>\n",
       "      <td>False</td>\n",
       "      <td>False</td>\n",
       "      <td>False</td>\n",
       "      <td>False</td>\n",
       "      <td>True</td>\n",
       "      <td>False</td>\n",
       "      <td>False</td>\n",
       "      <td>True</td>\n",
       "      <td>False</td>\n",
       "      <td>False</td>\n",
       "    </tr>\n",
       "    <tr>\n",
       "      <th>219</th>\n",
       "      <td>0</td>\n",
       "      <td>0</td>\n",
       "      <td>17</td>\n",
       "      <td>1</td>\n",
       "      <td>0</td>\n",
       "      <td>1</td>\n",
       "      <td>2</td>\n",
       "      <td>2</td>\n",
       "      <td>1</td>\n",
       "      <td>3</td>\n",
       "      <td>...</td>\n",
       "      <td>False</td>\n",
       "      <td>False</td>\n",
       "      <td>False</td>\n",
       "      <td>True</td>\n",
       "      <td>False</td>\n",
       "      <td>False</td>\n",
       "      <td>False</td>\n",
       "      <td>False</td>\n",
       "      <td>True</td>\n",
       "      <td>False</td>\n",
       "    </tr>\n",
       "    <tr>\n",
       "      <th>366</th>\n",
       "      <td>1</td>\n",
       "      <td>1</td>\n",
       "      <td>18</td>\n",
       "      <td>1</td>\n",
       "      <td>1</td>\n",
       "      <td>1</td>\n",
       "      <td>4</td>\n",
       "      <td>4</td>\n",
       "      <td>2</td>\n",
       "      <td>3</td>\n",
       "      <td>...</td>\n",
       "      <td>False</td>\n",
       "      <td>True</td>\n",
       "      <td>False</td>\n",
       "      <td>False</td>\n",
       "      <td>False</td>\n",
       "      <td>True</td>\n",
       "      <td>False</td>\n",
       "      <td>False</td>\n",
       "      <td>True</td>\n",
       "      <td>False</td>\n",
       "    </tr>\n",
       "  </tbody>\n",
       "</table>\n",
       "<p>5 rows × 45 columns</p>\n",
       "</div>"
      ],
      "text/plain": [
       "     school  sex  age  address  famsize  Pstatus  Medu  Fedu  traveltime  \\\n",
       "64        0    0   15        1        1        1     4     3           1   \n",
       "55        0    0   16        1        0        0     2     1           1   \n",
       "343       0    0   17        1        0        0     2     2           1   \n",
       "219       0    0   17        1        0        1     2     2           1   \n",
       "366       1    1   18        1        1        1     4     4           2   \n",
       "\n",
       "     studytime  ...  Fjob_other  Fjob_services  Fjob_teacher  reason_course  \\\n",
       "64           2  ...       False           True         False          False   \n",
       "55           2  ...        True          False         False          False   \n",
       "343          2  ...       False          False         False          False   \n",
       "219          3  ...       False          False         False           True   \n",
       "366          3  ...       False           True         False          False   \n",
       "\n",
       "     reason_home  reason_other  reason_reputation  guardian_father  \\\n",
       "64         False         False               True             True   \n",
       "55         False          True              False            False   \n",
       "343         True         False              False             True   \n",
       "219        False         False              False            False   \n",
       "366        False          True              False            False   \n",
       "\n",
       "     guardian_mother  guardian_other  \n",
       "64             False           False  \n",
       "55              True           False  \n",
       "343            False           False  \n",
       "219             True           False  \n",
       "366             True           False  \n",
       "\n",
       "[5 rows x 45 columns]"
      ]
     },
     "execution_count": 66,
     "metadata": {},
     "output_type": "execute_result"
    }
   ],
   "source": [
    "from sklearn.preprocessing import LabelEncoder\n",
    "\n",
    "def preprocess(df):\n",
    "    numeric = ['age', 'traveltime', 'Medu','Fedu', 'studytime', 'failures', 'famrel',\n",
    "               'freetime', 'goout', 'Dalc', 'Walc', 'health' , 'absences', 'G1', 'G2']\n",
    "    cat_nominal = ['Mjob', 'Fjob', 'reason', 'guardian']\n",
    "    cat_binary = ['school', 'sex', 'address', 'famsize', 'Pstatus', 'schoolsup',\n",
    "                  'famsup', 'paid', 'activities', 'nursery', 'higher', 'internet', 'romantic']\n",
    "\n",
    "    df[cat_binary] = df[cat_binary].apply(LabelEncoder().fit_transform)  # label_encoding\n",
    "\n",
    "    df = pd.get_dummies(df, columns=cat_nominal, prefix=cat_nominal)  # one-hot encoding\n",
    "    return df\n",
    "\n",
    "X_train, X_test = preprocess(X_train), preprocess(X_test)\n",
    "X_train.head()"
   ]
  },
  {
   "cell_type": "markdown",
   "metadata": {
    "deletable": false,
    "editable": false,
    "id": "Z0v3mFojgA85",
    "nbgrader": {
     "cell_type": "markdown",
     "checksum": "b0ffb477100bf9af7bf80e94d9ce3c79",
     "grade": false,
     "grade_id": "cell-169d923b28eef48f",
     "locked": true,
     "schema_version": 3,
     "solution": false
    }
   },
   "source": [
    "### Exercise 9: Fit Logistic regression model on all features.\n",
    "<b><div style=\"text-align: right\">[POINTS: 1]</div></b>\n",
    "\n",
    "**Task:**\n",
    "\n",
    "\n",
    "*   Instantiate the `LogisticRegression` object as `log_reg_all`\n",
    "\n",
    "*  Fit the model with all features using training set as preprocessed above.\n",
    "\n",
    "*  Save coefficients in `theta_all` and `intercept_all`.\n",
    "\n",
    "*Note: Use `liblinear` as the solver in Logistic Regression*\n",
    "\n",
    "Check out different solvers that Scikit-learn uses for Logistic regression.\n",
    "\n",
    "[Logistic Regression Solvers](https://scikit-learn.org/stable/modules/generated/sklearn.linear_model.LogisticRegression.html)\n"
   ]
  },
  {
   "cell_type": "code",
   "execution_count": 82,
   "metadata": {
    "deletable": false,
    "id": "2wNgTTBxq1SD",
    "nbgrader": {
     "cell_type": "code",
     "checksum": "2f56231c76765f6020ebfe973025021d",
     "grade": false,
     "grade_id": "cell-cd0f154bc42b7f2c",
     "locked": false,
     "schema_version": 3,
     "solution": true
    },
    "tags": [
     "Ex-9-Task-1"
    ]
   },
   "outputs": [],
   "source": [
    "### Ex-9-Task-1\n",
    "\n",
    "log_reg_all = None\n",
    "theta_all = None\n",
    "intercept_all = None\n",
    "\n",
    "### BEGIN SOLUTION\n",
    "# your code here\n",
    "log_reg_all = LogisticRegression(solver='liblinear')\n",
    "log_reg_all.fit(X_train, y_train)\n",
    "\n",
    "theta_all = log_reg_all.coef_\n",
    "intercept_all = log_reg_all.intercept_\n",
    "### END SOLUTION\n"
   ]
  },
  {
   "cell_type": "code",
   "execution_count": 69,
   "metadata": {
    "deletable": false,
    "editable": false,
    "id": "78eWHv5AiMjl",
    "nbgrader": {
     "cell_type": "code",
     "checksum": "55e9e394abd73af57517be54144544cc",
     "grade": true,
     "grade_id": "cell-0afa08b64a59bdf8",
     "locked": true,
     "points": 1,
     "schema_version": 3,
     "solution": false
    },
    "tags": [
     "Ex-9-Task-1"
    ]
   },
   "outputs": [],
   "source": [
    "\n",
    "assert(theta_all is not None)\n",
    "assert(intercept_all is not None)\n",
    "\n",
    "assert(theta_all.shape == (1, 45)), 'TEST FAILED'\n",
    "assert(intercept_all.shape == (1,)), 'TEST FAILED'\n"
   ]
  },
  {
   "cell_type": "markdown",
   "metadata": {
    "deletable": false,
    "editable": false,
    "id": "yvqUXO9jkHqR",
    "nbgrader": {
     "cell_type": "markdown",
     "checksum": "794dbb55f85e9f45b426d11b5bf28556",
     "grade": false,
     "grade_id": "cell-7d23357c16575da0",
     "locked": true,
     "schema_version": 3,
     "solution": false
    }
   },
   "source": [
    "### Exercise 10:Model prediction and evaluation.\n",
    "<b><div style=\"text-align: right\">[POINTS: 1]</div></b>\n",
    "\n",
    "**Task:**\n",
    "\n",
    "*  Complete the function `calculate_score_all` to calculate `accuracy_all` , `f1 Score_all`, `precision_all` and `recall_all` for the test set.\n",
    "\n",
    "We have already added code for plotting the Confusion matrix.\n"
   ]
  },
  {
   "cell_type": "markdown",
   "metadata": {
    "deletable": false,
    "editable": false,
    "id": "2fgVymTNlDgi",
    "nbgrader": {
     "cell_type": "markdown",
     "checksum": "6d4cb41ee84b10615ec1b44276ce0b46",
     "grade": false,
     "grade_id": "cell-6983896d55f57893",
     "locked": true,
     "schema_version": 3,
     "solution": false
    }
   },
   "source": [
    "### Model Prediction"
   ]
  },
  {
   "cell_type": "code",
   "execution_count": 70,
   "metadata": {
    "deletable": false,
    "editable": false,
    "id": "-Fgpg_wek-SX",
    "nbgrader": {
     "cell_type": "code",
     "checksum": "2b730a01683972a32dee9a94651fb0e7",
     "grade": false,
     "grade_id": "cell-257e330506192649",
     "locked": true,
     "schema_version": 3,
     "solution": false
    }
   },
   "outputs": [],
   "source": [
    "# Model prediction using all features\n",
    "\n",
    "y_pred_all = log_reg_all.predict(X_test)\n",
    "\n"
   ]
  },
  {
   "cell_type": "code",
   "execution_count": 71,
   "metadata": {
    "deletable": false,
    "editable": false,
    "id": "8kkjWZGpknxt",
    "nbgrader": {
     "cell_type": "code",
     "checksum": "5a7821842a5c28b61d64969a9d0ed864",
     "grade": false,
     "grade_id": "cell-88a09a7619b29c6d",
     "locked": true,
     "schema_version": 3,
     "solution": false
    }
   },
   "outputs": [
    {
     "data": {
      "image/png": "[encoded data removed]",
      "text/plain": [
       "<Figure size 640x480 with 2 Axes>"
      ]
     },
     "metadata": {},
     "output_type": "display_data"
    }
   ],
   "source": [
    "### Plot Confusion Matrix.\n",
    "class_names =['fail', 'pass']\n",
    "from sklearn.metrics import confusion_matrix, ConfusionMatrixDisplay\n",
    "ConfusionMatrixDisplay.from_estimator(log_reg_all, X_test, y_test, display_labels=class_names);\n"
   ]
  },
  {
   "cell_type": "code",
   "execution_count": 72,
   "metadata": {
    "deletable": false,
    "editable": false,
    "id": "qRlhseaMlZfM",
    "nbgrader": {
     "cell_type": "code",
     "checksum": "defcfdecf983ee4aad80c3c05cb488a0",
     "grade": false,
     "grade_id": "cell-9385bdaa75629f16",
     "locked": true,
     "schema_version": 3,
     "solution": false
    }
   },
   "outputs": [
    {
     "name": "stdout",
     "output_type": "stream",
     "text": [
      "True Positive 46\n",
      "True Negative 28\n",
      "False Positive 2\n",
      "False Negative 3\n"
     ]
    }
   ],
   "source": [
    "### Print Number of True Positive, True Negative, False Positive and False Negative.\n",
    "\n",
    "tn_all, fp_all, fn_all, tp_all = confusion_matrix(y_test, y_pred_all).ravel()\n",
    "print(\"True Positive\", tp_all)\n",
    "print(\"True Negative\", tn_all)\n",
    "print(\"False Positive\", fp_all)\n",
    "print(\"False Negative\", fn_all)"
   ]
  },
  {
   "cell_type": "code",
   "execution_count": 73,
   "metadata": {
    "deletable": false,
    "id": "Q5T-yQcXlxsa",
    "nbgrader": {
     "cell_type": "code",
     "checksum": "e540ae6c0d7fa566b399b3dd9c8e703f",
     "grade": false,
     "grade_id": "cell-2ad1480a7677739c",
     "locked": false,
     "schema_version": 3,
     "solution": true
    },
    "tags": [
     "Ex-10-Task-1"
    ]
   },
   "outputs": [],
   "source": [
    "### Ex-10-Task-1\n",
    "accuracy_all, precision_all, recall_all, f1Score_all = None, None, None, None\n",
    "\n",
    "# Compute the metrics using the function calculate_score we created earlier.\n",
    "\n",
    "### BEGIN SOLUTION\n",
    "# your code here\n",
    "accuracy_all, precision_all, recall_all, f1Score_all = calculate_score(y_test, y_pred_all)\n",
    "\n",
    "### END SOLUTION"
   ]
  },
  {
   "cell_type": "code",
   "execution_count": 74,
   "metadata": {
    "deletable": false,
    "editable": false,
    "id": "mP76-1ADmcLu",
    "nbgrader": {
     "cell_type": "code",
     "checksum": "f9a7b799093b16ac1242dd1c4a8fbd7b",
     "grade": true,
     "grade_id": "cell-b221818ebdb075a3",
     "locked": true,
     "points": 1,
     "schema_version": 3,
     "solution": false
    },
    "tags": [
     "Ex-10-Task-1"
    ]
   },
   "outputs": [],
   "source": [
    "\n",
    "\n",
    "y_pred_check = np.array([1.,0.,1.,0.,1.,1.,1.])\n",
    "y_test_check = np.array([1.,1.,0.,1.,1.,1.,0.])\n",
    "accuracy_check_all,precision_check_all,recall_check_all,f1Score_check_all = calculate_score(y_test_check, y_pred_check)\n",
    "\n",
    "assert(accuracy_check_all > 0.40), 'TEST FAILED'\n",
    "assert(precision_check_all> 0.57), 'TEST FAILED'\n",
    "assert(recall_check_all> 0.57) ,'TEST FAILED'\n",
    "assert(f1Score_check_all> 0.57), 'TEST FAILED'\n"
   ]
  },
  {
   "cell_type": "code",
   "execution_count": 75,
   "metadata": {
    "deletable": false,
    "editable": false,
    "id": "M92aCYilmJrd",
    "nbgrader": {
     "cell_type": "code",
     "checksum": "e454c5e3b203a5fa6d3ae5e7dd45cf71",
     "grade": false,
     "grade_id": "cell-21ebae3b7d0a3e88",
     "locked": true,
     "schema_version": 3,
     "solution": false
    }
   },
   "outputs": [
    {
     "name": "stdout",
     "output_type": "stream",
     "text": [
      "Test Accuracy using all features 0.94\n",
      "Test Precision score using all features 0.96\n",
      "Test Recall score using all features 0.94\n",
      "Test F1 score using all features 0.95\n"
     ]
    }
   ],
   "source": [
    "accuracy_all,precision_all,recall_all,f1Score_all = calculate_score(y_test, y_pred_all)\n",
    "print(\"Test Accuracy using all features\", round(accuracy_all,2))\n",
    "print(\"Test Precision score using all features\", round(precision_all,2))\n",
    "print(\"Test Recall score using all features\", round(recall_all,2))\n",
    "print(\"Test F1 score using all features\", round(f1Score_all,2))"
   ]
  },
  {
   "cell_type": "markdown",
   "metadata": {
    "deletable": false,
    "editable": false,
    "id": "sYbLbRguvuss",
    "nbgrader": {
     "cell_type": "markdown",
     "checksum": "3e0968f859011a353e8491b7a9b374a0",
     "grade": false,
     "grade_id": "cell-85237f7b24940d99",
     "locked": true,
     "schema_version": 3,
     "solution": false
    }
   },
   "source": [
    "### Exercise 11 : How good are these values?\n",
    "<b><div style=\"text-align: right\">[POINTS: 1]</div></b>\n",
    "\n",
    "One way to ensure we have good accuracy, the F1 score is to check using a baseline model. A baseline model is the one that predicts simply with some pre-defined rules.\n",
    "\n",
    "Check documentation here [Baseline Classifier](https://scikit-learn.org/stable/modules/generated/sklearn.dummy.DummyClassifier.html)\n",
    "\n",
    "**Task:**\n",
    "\n",
    "*  Train a baseline model which predicts based on most frequent class, use all features for training.\n",
    "\n",
    "*  Calculate accuracy and f1_score on test data\n",
    "\n",
    "\n",
    "Hints:\n",
    "- Use `DummyClassifier` from `sklearn.dummy` and initialize it in variable `base_model` with `most_frequent` strategy.\n",
    "\n"
   ]
  },
  {
   "cell_type": "code",
   "execution_count": 78,
   "metadata": {
    "deletable": false,
    "id": "hLkLLLn9vLpj",
    "nbgrader": {
     "cell_type": "code",
     "checksum": "e6604091876944d11fc89549704af0ee",
     "grade": false,
     "grade_id": "cell-b24da490da4db6a7",
     "locked": false,
     "schema_version": 3,
     "solution": true
    },
    "tags": [
     "Ex-11-Task-1"
    ]
   },
   "outputs": [
    {
     "name": "stdout",
     "output_type": "stream",
     "text": [
      "   Test Accuracy with top 5 features 0.87\n",
      "   Test F1 Score with top 5 features 0.9\n",
      "---------------------------------------------------\n",
      "   Test Accuracy with Dummy Classifier 0.62\n",
      "   Test F1 Score with Dummy Classifier 0.77\n"
     ]
    }
   ],
   "source": [
    "### Ex-11-Task-1\n",
    "\n",
    "base_model = None\n",
    "accuracy_base = None\n",
    "f1score_base = None\n",
    "\n",
    "### BEGIN SOLUTION\n",
    "# your code here\n",
    "from sklearn.dummy import DummyClassifier\n",
    "from sklearn.metrics import accuracy_score, precision_score, recall_score, f1_score\n",
    "\n",
    "base_model = DummyClassifier(strategy = 'most_frequent')\n",
    "base_model.fit(X_train, y_train)\n",
    "y_pred_base = base_model.predict(X_test)\n",
    "accuracy_base = accuracy_score(y_test, y_pred_base)\n",
    "f1score_base = f1_score(y_test, y_pred_base)\n",
    "\n",
    "### END SOLUTION\n",
    "\n",
    "print(\"   Test Accuracy with top 5 features\", round(accuracy,2))\n",
    "print(\"   Test F1 Score with top 5 features\", round(f1Score,2))\n",
    "print(\"---------------------------------------------------\")\n",
    "print(\"   Test Accuracy with Dummy Classifier\", round(accuracy_base,2))\n",
    "print(\"   Test F1 Score with Dummy Classifier\",round(f1score_base,2))\n"
   ]
  },
  {
   "cell_type": "code",
   "execution_count": 79,
   "metadata": {
    "deletable": false,
    "editable": false,
    "id": "23BeFlXjxiZ-",
    "nbgrader": {
     "cell_type": "code",
     "checksum": "7809324e35ee73e72e54a0c2970ed2f8",
     "grade": true,
     "grade_id": "cell-ebc4019dfa1062b7",
     "locked": true,
     "points": 1,
     "schema_version": 3,
     "solution": false
    },
    "tags": [
     "Ex-11-Task-1"
    ]
   },
   "outputs": [],
   "source": [
    "assert(base_model is not None)\n",
    "assert(accuracy_base is not None)\n",
    "assert(f1score_base is not None)\n",
    "\n",
    "assert(f1score_base >= 0.70)\n",
    "assert(accuracy_base >= 0.55)\n"
   ]
  },
  {
   "cell_type": "markdown",
   "metadata": {
    "deletable": false,
    "editable": false,
    "id": "2qSL5-D04Gm7",
    "nbgrader": {
     "cell_type": "markdown",
     "checksum": "562289c7425ec7179c0232a7d823fa1c",
     "grade": false,
     "grade_id": "cell-af47c072e42a2f97",
     "locked": true,
     "schema_version": 3,
     "solution": false
    }
   },
   "source": [
    "We can see here, our model is performing better than the baseline model."
   ]
  },
  {
   "cell_type": "markdown",
   "metadata": {
    "deletable": false,
    "editable": false,
    "id": "iFWPK3ujOXrs",
    "nbgrader": {
     "cell_type": "markdown",
     "checksum": "fb3a50efee680dbf5fd861e3fd236949",
     "grade": false,
     "grade_id": "cell-3a5f2f6956b62217",
     "locked": true,
     "schema_version": 3,
     "solution": false
    }
   },
   "source": [
    "Here in this assignment, we build a Logistic regression model to predict if students pass or fail given the information of students.\n",
    "We first build the model with the top five features, where we got around 87% accuracy. Then, we build another Logistic regression model with all the features; we were able to get approximately 94% accuracy."
   ]
  },
  {
   "cell_type": "markdown",
   "metadata": {
    "deletable": false,
    "editable": false,
    "id": "8yJy-muQORos",
    "nbgrader": {
     "cell_type": "markdown",
     "checksum": "764483731039bff929ceb0425421e770",
     "grade": false,
     "grade_id": "cell-480809db2bae9857",
     "locked": true,
     "schema_version": 3,
     "solution": false
    }
   },
   "source": [
    "---\n",
    "\n",
    "**Congratulations for successfully completing the assignment**.\n",
    "\n",
    "Good Luck going forward with the course.\n",
    "See you in the next section."
   ]
  },
  {
   "cell_type": "markdown",
   "metadata": {
    "deletable": false,
    "editable": false,
    "id": "GEdpEa0prBRi",
    "nbgrader": {
     "cell_type": "markdown",
     "checksum": "687d0fb8f136cae367b00233dcb76ff6",
     "grade": false,
     "grade_id": "cell-bf3fa23903ced439",
     "locked": true,
     "schema_version": 3,
     "solution": false
    }
   },
   "source": [
    "# Lets use our model for prediction.\n",
    "\n",
    "*You are free to change the values and see how the model predicts.*\n",
    "\n",
    "\n",
    "Suppose a student with the following scores :\n",
    "\n",
    "1. G2 Score: 10\n",
    "\n",
    "2. G1 Score: 8\n",
    "\n",
    "3. failures: 1\n",
    "\n",
    "4. age: 22\n",
    "\n",
    "5. goout: 5\n",
    "\n",
    "*We will be using the model trained with top five features.*"
   ]
  },
  {
   "cell_type": "code",
   "execution_count": 80,
   "metadata": {
    "deletable": false,
    "editable": false,
    "id": "ZFKDYkETq9WM",
    "nbgrader": {
     "cell_type": "code",
     "checksum": "e64df7bf29706f1c4e3b453b8ae9d26c",
     "grade": false,
     "grade_id": "cell-00c9c19c340e6190",
     "locked": true,
     "schema_version": 3,
     "solution": false
    }
   },
   "outputs": [
    {
     "name": "stdout",
     "output_type": "stream",
     "text": [
      "Fail With 0.77 probability.\n"
     ]
    },
    {
     "name": "stderr",
     "output_type": "stream",
     "text": [
      "D:\\FuseMachines Fellowship\\venv\\Lib\\site-packages\\sklearn\\utils\\validation.py:2749: UserWarning: X does not have valid feature names, but LogisticRegression was fitted with feature names\n",
      "  warnings.warn(\n",
      "D:\\FuseMachines Fellowship\\venv\\Lib\\site-packages\\sklearn\\utils\\validation.py:2749: UserWarning: X does not have valid feature names, but LogisticRegression was fitted with feature names\n",
      "  warnings.warn(\n"
     ]
    }
   ],
   "source": [
    "\n",
    "# top 5 features\n",
    "pred_bef = [[10, 8, 1, 22, 5]]\n",
    "\n",
    "#Converting into numpy array.\n",
    "prediction = np.array(pred_bef)\n",
    "prediction  = prediction.reshape(1, -1)\n",
    "# predict the class.\n",
    "pred = log_reg_top5.predict(prediction)\n",
    "#predict the probability.\n",
    "pred_proba = log_reg_top5.predict_proba(prediction)\n",
    "max_1 = pred_proba.max()\n",
    "max_1 = round(max_1, 2)\n",
    "\n",
    "if pred == 0:\n",
    "    print(\"Fail With {} probability.\".format(max_1))\n",
    "else:\n",
    "    print(\"Pass with {} probability of\".format(max_1))"
   ]
  },
  {
   "cell_type": "code",
   "execution_count": null,
   "metadata": {
    "id": "aY2ErXR11HOT"
   },
   "outputs": [],
   "source": []
  }
 ],
 "metadata": {
  "colab": {
   "provenance": []
  },
  "kernelspec": {
   "display_name": "Python 3 (ipykernel)",
   "language": "python",
   "name": "python3"
  },
  "language_info": {
   "codemirror_mode": {
    "name": "ipython",
    "version": 3
   },
   "file_extension": ".py",
   "mimetype": "text/x-python",
   "name": "python",
   "nbconvert_exporter": "python",
   "pygments_lexer": "ipython3",
   "version": "3.12.0"
  }
 },
 "nbformat": 4,
 "nbformat_minor": 4
}
