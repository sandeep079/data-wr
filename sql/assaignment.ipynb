{
 "cells": [
  {
   "cell_type": "markdown",
   "id": "84f55ab5",
   "metadata": {},
   "source": [
    "Show all the customers whose creditLimit is greater than 20000"
   ]
  },
  {
   "cell_type": "code",
   "execution_count": null,
   "id": "824db46a",
   "metadata": {},
   "outputs": [],
   "source": []
  },
  {
   "cell_type": "code",
   "execution_count": 10,
   "id": "131bc6bc",
   "metadata": {},
   "outputs": [
    {
     "name": "stdout",
     "output_type": "stream",
     "text": [
      "Requirement already satisfied: mysql-connector-python in /home/sandeep/data_wr/.venv/lib/python3.12/site-packages (9.3.0)\n",
      "Requirement already satisfied: sqlalchemy in /home/sandeep/data_wr/.venv/lib/python3.12/site-packages (2.0.41)\n",
      "Requirement already satisfied: pymysql in /home/sandeep/data_wr/.venv/lib/python3.12/site-packages (1.1.1)\n",
      "Requirement already satisfied: greenlet>=1 in /home/sandeep/data_wr/.venv/lib/python3.12/site-packages (from sqlalchemy) (3.2.2)\n",
      "Requirement already satisfied: typing-extensions>=4.6.0 in /home/sandeep/data_wr/.venv/lib/python3.12/site-packages (from sqlalchemy) (4.13.2)\n",
      "Requirement already satisfied: mysql-connector-python in /home/sandeep/data_wr/.venv/lib/python3.12/site-packages (9.3.0)\n",
      "Requirement already satisfied: pandas in /home/sandeep/data_wr/.venv/lib/python3.12/site-packages (2.2.3)\n",
      "Requirement already satisfied: numpy>=1.26.0 in /home/sandeep/data_wr/.venv/lib/python3.12/site-packages (from pandas) (2.2.6)\n",
      "Requirement already satisfied: python-dateutil>=2.8.2 in /home/sandeep/data_wr/.venv/lib/python3.12/site-packages (from pandas) (2.9.0.post0)\n",
      "Requirement already satisfied: pytz>=2020.1 in /home/sandeep/data_wr/.venv/lib/python3.12/site-packages (from pandas) (2025.2)\n",
      "Requirement already satisfied: tzdata>=2022.7 in /home/sandeep/data_wr/.venv/lib/python3.12/site-packages (from pandas) (2025.2)\n",
      "Requirement already satisfied: six>=1.5 in /home/sandeep/data_wr/.venv/lib/python3.12/site-packages (from python-dateutil>=2.8.2->pandas) (1.17.0)\n"
     ]
    }
   ],
   "source": [
    "!pip install mysql-connector-python sqlalchemy pymysql\n",
    "!pip install mysql-connector-python pandas\n",
    "\n"
   ]
  },
  {
   "cell_type": "code",
   "execution_count": 12,
   "id": "9a650f99",
   "metadata": {},
   "outputs": [
    {
     "name": "stdout",
     "output_type": "stream",
     "text": [
      "Database created (if not existed).\n"
     ]
    }
   ],
   "source": [
    "import mysql.connector\n",
    "\n",
    "conn = mysql.connector.connect(\n",
    "    host=\"localhost\",\n",
    "    user=\"root\",\n",
    "    password=\"YourStrongPasswordHere\"  # Replace with your actual password\n",
    ")\n",
    "\n",
    "cursor = conn.cursor()\n",
    "\n",
    "# Create the database if it doesn't exist\n",
    "cursor.execute(\"CREATE DATABASE IF NOT EXISTS classicmodels;\")\n",
    "\n",
    "print(\"Database created (if not existed).\")\n",
    "\n",
    "cursor.close()\n",
    "conn.close()\n"
   ]
  },
  {
   "cell_type": "code",
   "execution_count": 18,
   "id": "d6f9611f",
   "metadata": {},
   "outputs": [
    {
     "name": "stdout",
     "output_type": "stream",
     "text": [
      "Error executing statement: insert  into products(productCode,productName,prod... Error: 1064 (42000): You have an error in your SQL syntax; check the manual that corresponds to your MySQL server version for the right syntax to use near ''Turnable front wheels' at line 2\n",
      "Error executing statement: steering function... Error: 1064 (42000): You have an error in your SQL syntax; check the manual that corresponds to your MySQL server version for the right syntax to use near 'steering function' at line 1\n",
      "Error executing statement: detailed interior... Error: 1064 (42000): You have an error in your SQL syntax; check the manual that corresponds to your MySQL server version for the right syntax to use near 'detailed interior' at line 1\n",
      "Error executing statement: detailed engine... Error: 1064 (42000): You have an error in your SQL syntax; check the manual that corresponds to your MySQL server version for the right syntax to use near 'detailed engine' at line 1\n",
      "Error executing statement: opening hood... Error: 1064 (42000): You have an error in your SQL syntax; check the manual that corresponds to your MySQL server version for the right syntax to use near 'opening hood' at line 1\n",
      "Error executing statement: opening trunk... Error: 1064 (42000): You have an error in your SQL syntax; check the manual that corresponds to your MySQL server version for the right syntax to use near 'opening trunk' at line 1\n",
      "Error executing statement: opening doors... Error: 1064 (42000): You have an error in your SQL syntax; check the manual that corresponds to your MySQL server version for the right syntax to use near 'opening doors' at line 1\n",
      "Error executing statement: and detailed chassis.',7305,'98.58','214.30'),('S1... Error: 1064 (42000): You have an error in your SQL syntax; check the manual that corresponds to your MySQL server version for the right syntax to use near 'and detailed chassis.',7305,'98.58','214.30'),('S10_2016','1996 Moto Guzzi 1100i' at line 1\n",
      "Error executing statement: steering function... Error: 1064 (42000): You have an error in your SQL syntax; check the manual that corresponds to your MySQL server version for the right syntax to use near 'steering function' at line 1\n",
      "Error executing statement: detailed interior... Error: 1064 (42000): You have an error in your SQL syntax; check the manual that corresponds to your MySQL server version for the right syntax to use near 'detailed interior' at line 1\n",
      "Error executing statement: detailed engine... Error: 1064 (42000): You have an error in your SQL syntax; check the manual that corresponds to your MySQL server version for the right syntax to use near 'detailed engine' at line 1\n",
      "Error executing statement: opening hood... Error: 1064 (42000): You have an error in your SQL syntax; check the manual that corresponds to your MySQL server version for the right syntax to use near 'opening hood' at line 1\n",
      "Error executing statement: opening trunk... Error: 1064 (42000): You have an error in your SQL syntax; check the manual that corresponds to your MySQL server version for the right syntax to use near 'opening trunk' at line 1\n",
      "Error executing statement: opening doors... Error: 1064 (42000): You have an error in your SQL syntax; check the manual that corresponds to your MySQL server version for the right syntax to use near 'opening doors' at line 1\n",
      "Error executing statement: and detailed chassis.',3252,'85.68','136.00'),('S1... Error: 1064 (42000): You have an error in your SQL syntax; check the manual that corresponds to your MySQL server version for the right syntax to use near 'and detailed chassis.',3252,'85.68','136.00'),('S10_4962','1962 LanciaA Delta 16' at line 1\n",
      "Error executing statement: steering function... Error: 1064 (42000): You have an error in your SQL syntax; check the manual that corresponds to your MySQL server version for the right syntax to use near 'steering function' at line 1\n",
      "Error executing statement: detailed interior... Error: 1064 (42000): You have an error in your SQL syntax; check the manual that corresponds to your MySQL server version for the right syntax to use near 'detailed interior' at line 1\n",
      "Error executing statement: detailed engine... Error: 1064 (42000): You have an error in your SQL syntax; check the manual that corresponds to your MySQL server version for the right syntax to use near 'detailed engine' at line 1\n",
      "Error executing statement: opening hood... Error: 1064 (42000): You have an error in your SQL syntax; check the manual that corresponds to your MySQL server version for the right syntax to use near 'opening hood' at line 1\n",
      "Error executing statement: opening trunk... Error: 1064 (42000): You have an error in your SQL syntax; check the manual that corresponds to your MySQL server version for the right syntax to use near 'opening trunk' at line 1\n",
      "Error executing statement: opening doors... Error: 1064 (42000): You have an error in your SQL syntax; check the manual that corresponds to your MySQL server version for the right syntax to use near 'opening doors' at line 1\n",
      "Error executing statement: and detailed chassis.',6791,'103.42','147.74'),('S... Error: 1064 (42000): You have an error in your SQL syntax; check the manual that corresponds to your MySQL server version for the right syntax to use near 'and detailed chassis.',6791,'103.42','147.74'),('S12_1099','1968 Ford Mustang','' at line 1\n",
      "Error executing statement: steering function... Error: 1064 (42000): You have an error in your SQL syntax; check the manual that corresponds to your MySQL server version for the right syntax to use near 'steering function' at line 1\n",
      "Error executing statement: detailed interior... Error: 1064 (42000): You have an error in your SQL syntax; check the manual that corresponds to your MySQL server version for the right syntax to use near 'detailed interior' at line 1\n",
      "Error executing statement: detailed engine... Error: 1064 (42000): You have an error in your SQL syntax; check the manual that corresponds to your MySQL server version for the right syntax to use near 'detailed engine' at line 1\n",
      "Error executing statement: opening hood... Error: 1064 (42000): You have an error in your SQL syntax; check the manual that corresponds to your MySQL server version for the right syntax to use near 'opening hood' at line 1\n",
      "Error executing statement: opening trunk... Error: 1064 (42000): You have an error in your SQL syntax; check the manual that corresponds to your MySQL server version for the right syntax to use near 'opening trunk' at line 1\n",
      "Error executing statement: opening doors... Error: 1064 (42000): You have an error in your SQL syntax; check the manual that corresponds to your MySQL server version for the right syntax to use near 'opening doors' at line 1\n",
      "Error executing statement: and detailed chassis.',3619,'95.59','207.80'),('S1... Error: 1064 (42000): You have an error in your SQL syntax; check the manual that corresponds to your MySQL server version for the right syntax to use near 'and detailed chassis.',3619,'95.59','207.80'),('S12_1666','1958 Setra Bus','Truc' at line 1\n",
      "Error executing statement: steering function... Error: 1064 (42000): You have an error in your SQL syntax; check the manual that corresponds to your MySQL server version for the right syntax to use near 'steering function' at line 1\n",
      "Error executing statement: detailed interior... Error: 1064 (42000): You have an error in your SQL syntax; check the manual that corresponds to your MySQL server version for the right syntax to use near 'detailed interior' at line 1\n",
      "Error executing statement: detailed engine... Error: 1064 (42000): You have an error in your SQL syntax; check the manual that corresponds to your MySQL server version for the right syntax to use near 'detailed engine' at line 1\n",
      "Error executing statement: opening hood... Error: 1064 (42000): You have an error in your SQL syntax; check the manual that corresponds to your MySQL server version for the right syntax to use near 'opening hood' at line 1\n",
      "Error executing statement: opening trunk... Error: 1064 (42000): You have an error in your SQL syntax; check the manual that corresponds to your MySQL server version for the right syntax to use near 'opening trunk' at line 1\n",
      "Error executing statement: opening doors... Error: 1064 (42000): You have an error in your SQL syntax; check the manual that corresponds to your MySQL server version for the right syntax to use near 'opening doors' at line 1\n",
      "Error executing statement: and detailed chassis.',1049,'83.05','173.02'),('S1... Error: 1064 (42000): You have an error in your SQL syntax; check the manual that corresponds to your MySQL server version for the right syntax to use near 'and detailed chassis.',1049,'83.05','173.02'),('S12_3990','1970 Plymouth Hemi Cu' at line 1\n",
      "Error executing statement: steering function... Error: 1064 (42000): You have an error in your SQL syntax; check the manual that corresponds to your MySQL server version for the right syntax to use near 'steering function' at line 1\n",
      "Error executing statement: detailed interior... Error: 1064 (42000): You have an error in your SQL syntax; check the manual that corresponds to your MySQL server version for the right syntax to use near 'detailed interior' at line 1\n",
      "Error executing statement: detailed engine... Error: 1064 (42000): You have an error in your SQL syntax; check the manual that corresponds to your MySQL server version for the right syntax to use near 'detailed engine' at line 1\n",
      "Error executing statement: opening hood... Error: 1064 (42000): You have an error in your SQL syntax; check the manual that corresponds to your MySQL server version for the right syntax to use near 'opening hood' at line 1\n",
      "Error executing statement: opening trunk... Error: 1064 (42000): You have an error in your SQL syntax; check the manual that corresponds to your MySQL server version for the right syntax to use near 'opening trunk' at line 1\n",
      "Error executing statement: opening doors... Error: 1064 (42000): You have an error in your SQL syntax; check the manual that corresponds to your MySQL server version for the right syntax to use near 'opening doors' at line 1\n",
      "Error executing statement: and detailed chassis.',4724,'101.51','163.73'),('S... Error: 1064 (42000): You have an error in your SQL syntax; check the manual that corresponds to your MySQL server version for the right syntax to use near 'and detailed chassis.',4724,'101.51','163.73'),('S18_2248','1911 Ford Town Car',' at line 1\n",
      "Error executing statement: steering function... Error: 1064 (42000): You have an error in your SQL syntax; check the manual that corresponds to your MySQL server version for the right syntax to use near 'steering function' at line 1\n",
      "Error executing statement: detailed interior... Error: 1064 (42000): You have an error in your SQL syntax; check the manual that corresponds to your MySQL server version for the right syntax to use near 'detailed interior' at line 1\n",
      "Error executing statement: detailed engine... Error: 1064 (42000): You have an error in your SQL syntax; check the manual that corresponds to your MySQL server version for the right syntax to use near 'detailed engine' at line 1\n",
      "Error executing statement: opening hood... Error: 1064 (42000): You have an error in your SQL syntax; check the manual that corresponds to your MySQL server version for the right syntax to use near 'opening hood' at line 1\n",
      "Error executing statement: opening trunk... Error: 1064 (42000): You have an error in your SQL syntax; check the manual that corresponds to your MySQL server version for the right syntax to use near 'opening trunk' at line 1\n",
      "Error executing statement: opening doors... Error: 1064 (42000): You have an error in your SQL syntax; check the manual that corresponds to your MySQL server version for the right syntax to use near 'opening doors' at line 1\n",
      "Error executing statement: and detailed chassis.',6600,'98.30','140.43'),('S2... Error: 1064 (42000): You have an error in your SQL syntax; check the manual that corresponds to your MySQL server version for the right syntax to use near 'and detailed chassis.',6600,'98.30','140.43'),('S24_3949','Corsair F4U ( Bird Ca' at line 1\n",
      "Error executing statement: detailed 409 cubic-inch engine... Error: 1064 (42000): You have an error in your SQL syntax; check the manual that corresponds to your MySQL server version for the right syntax to use near 'detailed 409 cubic-inch engine' at line 1\n",
      "Error executing statement: chrome dashboard and stick shift, two-tone interio... Error: 1064 (42000): You have an error in your SQL syntax; check the manual that corresponds to your MySQL server version for the right syntax to use near 'chrome dashboard and stick shift, two-tone interior' at line 1\n",
      "Error executing statement: working steering system... Error: 1064 (42000): You have an error in your SQL syntax; check the manual that corresponds to your MySQL server version for the right syntax to use near 'working steering system' at line 1\n",
      "Error executing statement: all topped of with a factory baked-enamel finish.'... Error: 1064 (42000): You have an error in your SQL syntax; check the manual that corresponds to your MySQL server version for the right syntax to use near 'all topped of with a factory baked-enamel finish.',7869,'32.33','80.84'),('S32_1' at line 1\n",
      "Error executing statement: insert  into orders(orderNumber,orderDate,required... Error: 1064 (42000): You have an error in your SQL syntax; check the manual that corresponds to your MySQL server version for the right syntax to use near ''This order was disputed, but resolved on 11/1/2003' at line 2\n",
      "Error executing statement: Customer doesn\\'t like the colors and precision of... Error: 1064 (42000): You have an error in your SQL syntax; check the manual that corresponds to your MySQL server version for the right syntax to use near 'Customer doesn\\'t like the colors and precision of the models.',452),(10165,'200' at line 1\n",
      "Error executing statement: insert  into orderdetails(orderNumber,productCode,... Error: 1452 (23000): Cannot add or update a child row: a foreign key constraint fails (`classicmodels`.`orderdetails`, CONSTRAINT `orderdetails_ibfk_1` FOREIGN KEY (`orderNumber`) REFERENCES `orders` (`orderNumber`))\n"
     ]
    }
   ],
   "source": [
    "import mysql.connector\n",
    "\n",
    "conn = mysql.connector.connect(\n",
    "    host=\"localhost\",\n",
    "    user=\"root\",\n",
    "    password=\"YourStrongPasswordHere\",\n",
    "    database=\"classicmodels\"\n",
    ")\n",
    "cursor = conn.cursor()\n",
    "\n",
    "with open('/home/sandeep/data_wr/sql/mysqlsampledatabase.sql', 'r') as f:\n",
    "    sql_script = f.read()\n",
    "\n",
    "# Split the script by semicolon and filter out empty statements\n",
    "statements = [stmt.strip() for stmt in sql_script.split(';') if stmt.strip()]\n",
    "\n",
    "for statement in statements:\n",
    "    try:\n",
    "        cursor.execute(statement)\n",
    "    except mysql.connector.Error as err:\n",
    "        print(f\"Error executing statement: {statement[:50]}... Error: {err}\")\n",
    "\n",
    "conn.commit()\n",
    "cursor.close()\n",
    "conn.close()\n"
   ]
  },
  {
   "cell_type": "code",
   "execution_count": 21,
   "id": "55f26120",
   "metadata": {},
   "outputs": [
    {
     "ename": "SyntaxError",
     "evalue": "invalid syntax (3991381786.py, line 1)",
     "output_type": "error",
     "traceback": [
      "  \u001b[36mCell\u001b[39m\u001b[36m \u001b[39m\u001b[32mIn[21]\u001b[39m\u001b[32m, line 1\u001b[39m\n\u001b[31m    \u001b[39m\u001b[31mSELECT *\u001b[39m\n             ^\n\u001b[31mSyntaxError\u001b[39m\u001b[31m:\u001b[39m invalid syntax\n"
     ]
    }
   ],
   "source": [
    "SELECT * \n",
    "FROM customers\n",
    "WHERE creditLimit > 20000;\n"
   ]
  },
  {
   "cell_type": "markdown",
   "id": "5f74337c",
   "metadata": {},
   "source": [
    "Show the employees who report to VP Sales."
   ]
  },
  {
   "cell_type": "code",
   "execution_count": null,
   "id": "e8018ebb",
   "metadata": {},
   "outputs": [],
   "source": []
  },
  {
   "cell_type": "markdown",
   "id": "88f5a65f",
   "metadata": {},
   "source": [
    "Find all the customers who have set their state while filling the forms and Lives in USA\n",
    "and credit limit is between 100000 and 200000."
   ]
  },
  {
   "cell_type": "code",
   "execution_count": null,
   "id": "d42f434d",
   "metadata": {},
   "outputs": [],
   "source": []
  },
  {
   "cell_type": "markdown",
   "id": "fb175ca3",
   "metadata": {},
   "source": [
    "Find all the employees who report to Sales Managers of all types."
   ]
  },
  {
   "cell_type": "code",
   "execution_count": null,
   "id": "5cfaee98",
   "metadata": {},
   "outputs": [],
   "source": []
  },
  {
   "cell_type": "markdown",
   "id": "dd773947",
   "metadata": {},
   "source": [
    "Find the average credit limit of customers of each country"
   ]
  },
  {
   "cell_type": "code",
   "execution_count": null,
   "id": "5847a59a",
   "metadata": {},
   "outputs": [],
   "source": []
  },
  {
   "cell_type": "markdown",
   "id": "0831bb21",
   "metadata": {},
   "source": [
    "Find the total no. of orders for each date and customer. Show only dates with total\n",
    "number of orders greater than 10 for date and customer."
   ]
  },
  {
   "cell_type": "code",
   "execution_count": null,
   "id": "a3ca3199",
   "metadata": {},
   "outputs": [],
   "source": []
  },
  {
   "cell_type": "markdown",
   "id": "043f0a2d",
   "metadata": {},
   "source": [
    "Find the name of the supervisor, job title of supervisor and total no. of supervisee using\n",
    "subquery. (With out using Join operation)"
   ]
  },
  {
   "cell_type": "code",
   "execution_count": null,
   "id": "1425112f",
   "metadata": {},
   "outputs": [],
   "source": []
  },
  {
   "cell_type": "markdown",
   "id": "64da9ced",
   "metadata": {},
   "source": [
    "Find the name of the supervisor, job title of supervisor and total no. of supervisee using\n",
    "subquery. (With using Join operation)"
   ]
  },
  {
   "cell_type": "code",
   "execution_count": null,
   "id": "376047c9",
   "metadata": {},
   "outputs": [],
   "source": []
  },
  {
   "cell_type": "markdown",
   "id": "65519e6d",
   "metadata": {},
   "source": [
    "Find all customers with a credit limit greater than average credit credit limit using WITH\n",
    "Clause."
   ]
  },
  {
   "cell_type": "code",
   "execution_count": null,
   "id": "86b16f5d",
   "metadata": {},
   "outputs": [],
   "source": []
  },
  {
   "cell_type": "markdown",
   "id": "7266645e",
   "metadata": {},
   "source": [
    " Find the rank of customer. [Customer with highest credit limit have 1 rank and Customer\n",
    "with lowest credit limit have highest rank]. Then, find the customer with the third highest\n",
    "credit limit."
   ]
  },
  {
   "cell_type": "code",
   "execution_count": null,
   "id": "3d467302",
   "metadata": {},
   "outputs": [],
   "source": []
  },
  {
   "cell_type": "markdown",
   "id": "beb1ee44",
   "metadata": {},
   "source": [
    "Generate a report that shows total no. of employees working in each office."
   ]
  },
  {
   "cell_type": "code",
   "execution_count": null,
   "id": "62541ac3",
   "metadata": {},
   "outputs": [],
   "source": []
  },
  {
   "cell_type": "markdown",
   "id": "e2afe0d6",
   "metadata": {},
   "source": [
    " Generate a report that shows total no. of customers visited each office"
   ]
  },
  {
   "cell_type": "code",
   "execution_count": null,
   "id": "fabe866e",
   "metadata": {},
   "outputs": [],
   "source": []
  },
  {
   "cell_type": "markdown",
   "id": "fdb617e6",
   "metadata": {},
   "source": [
    "Generate a report that shows total payment received by each office using payment\n",
    "tables and essential tables. The report should show the office name, state and country,\n",
    "along with total payments made"
   ]
  },
  {
   "cell_type": "code",
   "execution_count": null,
   "id": "4e60a070",
   "metadata": {},
   "outputs": [],
   "source": []
  },
  {
   "cell_type": "markdown",
   "id": "0f4896e0",
   "metadata": {},
   "source": [
    " Generate a report that shows total sales(in amount) by each office using order details\n",
    "table and other essential tables."
   ]
  },
  {
   "cell_type": "code",
   "execution_count": null,
   "id": "6eb6ebca",
   "metadata": {},
   "outputs": [],
   "source": []
  },
  {
   "cell_type": "markdown",
   "id": "8aebcf1d",
   "metadata": {},
   "source": [
    "Generate a report that shows total payment pending for each office"
   ]
  },
  {
   "cell_type": "code",
   "execution_count": null,
   "id": "d480b226",
   "metadata": {},
   "outputs": [],
   "source": []
  },
  {
   "cell_type": "markdown",
   "id": "60284bd2",
   "metadata": {},
   "source": [
    "Find the creditLimit of each person, proportion of creditLimit of each person in each\n",
    "country. [Proportion of person in USA = creditLimit of that person / sum(creditLimit of all\n",
    "person in USA]"
   ]
  },
  {
   "cell_type": "code",
   "execution_count": null,
   "id": "17dff501",
   "metadata": {},
   "outputs": [],
   "source": []
  },
  {
   "cell_type": "markdown",
   "id": "20a52616",
   "metadata": {},
   "source": [
    "Create a view showing the customer name, complete address, and their total number of\n",
    "orders."
   ]
  },
  {
   "cell_type": "code",
   "execution_count": null,
   "id": "1b8708fe",
   "metadata": {},
   "outputs": [],
   "source": []
  },
  {
   "cell_type": "markdown",
   "id": "a2029c3d",
   "metadata": {},
   "source": [
    " Update the country of a customer (use any one record)."
   ]
  },
  {
   "cell_type": "code",
   "execution_count": null,
   "id": "6375aa7c",
   "metadata": {},
   "outputs": [],
   "source": []
  },
  {
   "cell_type": "markdown",
   "id": "c2fde39a",
   "metadata": {},
   "source": [
    "Delete all payments below 20,000."
   ]
  },
  {
   "cell_type": "code",
   "execution_count": null,
   "id": "52ee9f9d",
   "metadata": {},
   "outputs": [],
   "source": []
  },
  {
   "cell_type": "markdown",
   "id": "1cc8cd99",
   "metadata": {},
   "source": [
    "Add new payments manually for an existing customer."
   ]
  },
  {
   "cell_type": "code",
   "execution_count": null,
   "id": "0fa1d036",
   "metadata": {},
   "outputs": [],
   "source": []
  }
 ],
 "metadata": {
  "kernelspec": {
   "display_name": ".venv",
   "language": "python",
   "name": "python3"
  },
  "language_info": {
   "codemirror_mode": {
    "name": "ipython",
    "version": 3
   },
   "file_extension": ".py",
   "mimetype": "text/x-python",
   "name": "python",
   "nbconvert_exporter": "python",
   "pygments_lexer": "ipython3",
   "version": "3.12.3"
  }
 },
 "nbformat": 4,
 "nbformat_minor": 5
}
